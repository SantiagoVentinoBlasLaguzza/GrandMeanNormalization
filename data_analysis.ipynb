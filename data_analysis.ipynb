{
 "cells": [
  {
   "cell_type": "code",
   "execution_count": 1,
   "metadata": {},
   "outputs": [
    {
     "name": "stdout",
     "output_type": "stream",
     "text": [
      "Total subjects to process: 432\n",
      "\n"
     ]
    },
    {
     "name": "stderr",
     "output_type": "stream",
     "text": [
      "Processing subjects:   0%|          | 0/432 [00:00<?, ?it/s]"
     ]
    },
    {
     "name": "stdout",
     "output_type": "stream",
     "text": [
      "⚠️ Warning: /home/santiago/Desktop/GrandMeanNorm/ROISignals/ROISignals_002_S_0295.mat contains NaN/Inf. Not modifying the file.\n"
     ]
    },
    {
     "name": "stderr",
     "output_type": "stream",
     "text": [
      "Processing subjects:   0%|          | 1/432 [00:00<06:03,  1.19it/s]"
     ]
    },
    {
     "name": "stdout",
     "output_type": "stream",
     "text": [
      "⚠️ Warning: /home/santiago/Desktop/GrandMeanNorm/ROISignals/ROISignals_002_S_0413.mat contains NaN/Inf. Not modifying the file.\n"
     ]
    },
    {
     "name": "stderr",
     "output_type": "stream",
     "text": [
      "Processing subjects:   0%|          | 2/432 [00:01<05:46,  1.24it/s]"
     ]
    },
    {
     "name": "stdout",
     "output_type": "stream",
     "text": [
      "⚠️ Warning: /home/santiago/Desktop/GrandMeanNorm/ROISignals/ROISignals_002_S_0685.mat contains NaN/Inf. Not modifying the file.\n"
     ]
    },
    {
     "name": "stderr",
     "output_type": "stream",
     "text": [
      "Processing subjects:   1%|          | 3/432 [00:02<05:59,  1.19it/s]"
     ]
    },
    {
     "name": "stdout",
     "output_type": "stream",
     "text": [
      "⚠️ Warning: /home/santiago/Desktop/GrandMeanNorm/ROISignals/ROISignals_002_S_0729.mat contains NaN/Inf. Not modifying the file.\n"
     ]
    },
    {
     "name": "stderr",
     "output_type": "stream",
     "text": [
      "Processing subjects:   1%|          | 4/432 [00:03<06:06,  1.17it/s]"
     ]
    },
    {
     "name": "stdout",
     "output_type": "stream",
     "text": [
      "⚠️ Warning: /home/santiago/Desktop/GrandMeanNorm/ROISignals/ROISignals_002_S_1155.mat contains NaN/Inf. Not modifying the file.\n"
     ]
    },
    {
     "name": "stderr",
     "output_type": "stream",
     "text": [
      "Processing subjects:   1%|          | 5/432 [00:04<06:01,  1.18it/s]"
     ]
    },
    {
     "name": "stdout",
     "output_type": "stream",
     "text": [
      "⚠️ Warning: /home/santiago/Desktop/GrandMeanNorm/ROISignals/ROISignals_002_S_2010.mat contains NaN/Inf. Not modifying the file.\n"
     ]
    },
    {
     "name": "stderr",
     "output_type": "stream",
     "text": [
      "Processing subjects:   1%|▏         | 6/432 [00:05<06:04,  1.17it/s]"
     ]
    },
    {
     "name": "stdout",
     "output_type": "stream",
     "text": [
      "⚠️ Warning: /home/santiago/Desktop/GrandMeanNorm/ROISignals/ROISignals_002_S_2043.mat contains NaN/Inf. Not modifying the file.\n"
     ]
    },
    {
     "name": "stderr",
     "output_type": "stream",
     "text": [
      "Processing subjects:   2%|▏         | 7/432 [00:05<05:49,  1.22it/s]"
     ]
    },
    {
     "name": "stdout",
     "output_type": "stream",
     "text": [
      "⚠️ Warning: /home/santiago/Desktop/GrandMeanNorm/ROISignals/ROISignals_002_S_2073.mat contains NaN/Inf. Not modifying the file.\n"
     ]
    },
    {
     "name": "stderr",
     "output_type": "stream",
     "text": [
      "Processing subjects:   2%|▏         | 8/432 [00:06<05:47,  1.22it/s]"
     ]
    },
    {
     "name": "stdout",
     "output_type": "stream",
     "text": [
      "⚠️ Warning: /home/santiago/Desktop/GrandMeanNorm/ROISignals/ROISignals_002_S_4171.mat contains NaN/Inf. Not modifying the file.\n"
     ]
    },
    {
     "name": "stderr",
     "output_type": "stream",
     "text": [
      "Processing subjects:   2%|▏         | 9/432 [00:07<05:29,  1.28it/s]"
     ]
    },
    {
     "name": "stdout",
     "output_type": "stream",
     "text": [
      "⚠️ Warning: /home/santiago/Desktop/GrandMeanNorm/ROISignals/ROISignals_002_S_4213.mat contains NaN/Inf. Not modifying the file.\n"
     ]
    },
    {
     "name": "stderr",
     "output_type": "stream",
     "text": [
      "Processing subjects:   2%|▏         | 10/432 [00:08<05:22,  1.31it/s]"
     ]
    },
    {
     "name": "stdout",
     "output_type": "stream",
     "text": [
      "⚠️ Warning: /home/santiago/Desktop/GrandMeanNorm/ROISignals/ROISignals_002_S_4219.mat contains NaN/Inf. Not modifying the file.\n"
     ]
    },
    {
     "name": "stderr",
     "output_type": "stream",
     "text": [
      "Processing subjects:   3%|▎         | 11/432 [00:08<05:10,  1.36it/s]"
     ]
    },
    {
     "name": "stdout",
     "output_type": "stream",
     "text": [
      "⚠️ Warning: /home/santiago/Desktop/GrandMeanNorm/ROISignals/ROISignals_002_S_4229.mat contains NaN/Inf. Not modifying the file.\n"
     ]
    },
    {
     "name": "stderr",
     "output_type": "stream",
     "text": [
      "Processing subjects:   3%|▎         | 12/432 [00:09<05:05,  1.37it/s]"
     ]
    },
    {
     "name": "stdout",
     "output_type": "stream",
     "text": [
      "⚠️ Warning: /home/santiago/Desktop/GrandMeanNorm/ROISignals/ROISignals_002_S_4237.mat contains NaN/Inf. Not modifying the file.\n"
     ]
    },
    {
     "name": "stderr",
     "output_type": "stream",
     "text": [
      "Processing subjects:   3%|▎         | 13/432 [00:10<05:16,  1.32it/s]"
     ]
    },
    {
     "name": "stdout",
     "output_type": "stream",
     "text": [
      "⚠️ Warning: /home/santiago/Desktop/GrandMeanNorm/ROISignals/ROISignals_002_S_4251.mat contains NaN/Inf. Not modifying the file.\n"
     ]
    },
    {
     "name": "stderr",
     "output_type": "stream",
     "text": [
      "Processing subjects:   3%|▎         | 14/432 [00:10<05:05,  1.37it/s]"
     ]
    },
    {
     "name": "stdout",
     "output_type": "stream",
     "text": [
      "⚠️ Warning: /home/santiago/Desktop/GrandMeanNorm/ROISignals/ROISignals_002_S_4262.mat contains NaN/Inf. Not modifying the file.\n"
     ]
    },
    {
     "name": "stderr",
     "output_type": "stream",
     "text": [
      "Processing subjects:   3%|▎         | 15/432 [00:11<04:59,  1.39it/s]"
     ]
    },
    {
     "name": "stdout",
     "output_type": "stream",
     "text": [
      "⚠️ Warning: /home/santiago/Desktop/GrandMeanNorm/ROISignals/ROISignals_002_S_4264.mat contains NaN/Inf. Not modifying the file.\n"
     ]
    },
    {
     "name": "stderr",
     "output_type": "stream",
     "text": [
      "Processing subjects:   4%|▎         | 16/432 [00:12<04:57,  1.40it/s]"
     ]
    },
    {
     "name": "stdout",
     "output_type": "stream",
     "text": [
      "⚠️ Warning: /home/santiago/Desktop/GrandMeanNorm/ROISignals/ROISignals_002_S_4270.mat contains NaN/Inf. Not modifying the file.\n"
     ]
    },
    {
     "name": "stderr",
     "output_type": "stream",
     "text": [
      "Processing subjects:   4%|▍         | 17/432 [00:13<04:57,  1.39it/s]"
     ]
    },
    {
     "name": "stdout",
     "output_type": "stream",
     "text": [
      "⚠️ Warning: /home/santiago/Desktop/GrandMeanNorm/ROISignals/ROISignals_002_S_4473.mat contains NaN/Inf. Not modifying the file.\n"
     ]
    },
    {
     "name": "stderr",
     "output_type": "stream",
     "text": [
      "Processing subjects:   4%|▍         | 18/432 [00:14<05:26,  1.27it/s]"
     ]
    },
    {
     "name": "stdout",
     "output_type": "stream",
     "text": [
      "⚠️ Warning: /home/santiago/Desktop/GrandMeanNorm/ROISignals/ROISignals_002_S_4654.mat contains NaN/Inf. Not modifying the file.\n"
     ]
    },
    {
     "name": "stderr",
     "output_type": "stream",
     "text": [
      "Processing subjects:   4%|▍         | 19/432 [00:14<05:20,  1.29it/s]"
     ]
    },
    {
     "name": "stdout",
     "output_type": "stream",
     "text": [
      "⚠️ Warning: /home/santiago/Desktop/GrandMeanNorm/ROISignals/ROISignals_002_S_4799.mat contains NaN/Inf. Not modifying the file.\n"
     ]
    },
    {
     "name": "stderr",
     "output_type": "stream",
     "text": [
      "Processing subjects:   5%|▍         | 20/432 [00:15<05:10,  1.32it/s]"
     ]
    },
    {
     "name": "stdout",
     "output_type": "stream",
     "text": [
      "⚠️ Warning: /home/santiago/Desktop/GrandMeanNorm/ROISignals/ROISignals_003_S_0908.mat contains NaN/Inf. Not modifying the file.\n"
     ]
    },
    {
     "name": "stderr",
     "output_type": "stream",
     "text": [
      "Processing subjects:   5%|▍         | 21/432 [00:16<05:11,  1.32it/s]"
     ]
    },
    {
     "name": "stdout",
     "output_type": "stream",
     "text": [
      "⚠️ Warning: /home/santiago/Desktop/GrandMeanNorm/ROISignals/ROISignals_003_S_1074.mat contains NaN/Inf. Not modifying the file.\n"
     ]
    },
    {
     "name": "stderr",
     "output_type": "stream",
     "text": [
      "Processing subjects:   5%|▌         | 22/432 [00:17<05:13,  1.31it/s]"
     ]
    },
    {
     "name": "stdout",
     "output_type": "stream",
     "text": [
      "⚠️ Warning: /home/santiago/Desktop/GrandMeanNorm/ROISignals/ROISignals_003_S_1122.mat contains NaN/Inf. Not modifying the file.\n"
     ]
    },
    {
     "name": "stderr",
     "output_type": "stream",
     "text": [
      "Processing subjects:   5%|▌         | 23/432 [00:17<05:07,  1.33it/s]"
     ]
    },
    {
     "name": "stdout",
     "output_type": "stream",
     "text": [
      "⚠️ Warning: /home/santiago/Desktop/GrandMeanNorm/ROISignals/ROISignals_003_S_4354.mat contains NaN/Inf. Not modifying the file.\n"
     ]
    },
    {
     "name": "stderr",
     "output_type": "stream",
     "text": [
      "Processing subjects:   6%|▌         | 24/432 [00:18<05:08,  1.32it/s]"
     ]
    },
    {
     "name": "stdout",
     "output_type": "stream",
     "text": [
      "⚠️ Warning: /home/santiago/Desktop/GrandMeanNorm/ROISignals/ROISignals_003_S_6258.mat contains NaN/Inf. Not modifying the file.\n"
     ]
    },
    {
     "name": "stderr",
     "output_type": "stream",
     "text": [
      "Processing subjects:   6%|▌         | 25/432 [00:19<05:32,  1.22it/s]"
     ]
    },
    {
     "name": "stdout",
     "output_type": "stream",
     "text": [
      "⚠️ Warning: /home/santiago/Desktop/GrandMeanNorm/ROISignals/ROISignals_003_S_6264.mat contains NaN/Inf. Not modifying the file.\n"
     ]
    },
    {
     "name": "stderr",
     "output_type": "stream",
     "text": [
      "Processing subjects:   6%|▌         | 26/432 [00:20<05:22,  1.26it/s]"
     ]
    },
    {
     "name": "stdout",
     "output_type": "stream",
     "text": [
      "⚠️ Warning: /home/santiago/Desktop/GrandMeanNorm/ROISignals/ROISignals_003_S_6268.mat contains NaN/Inf. Not modifying the file.\n"
     ]
    },
    {
     "name": "stderr",
     "output_type": "stream",
     "text": [
      "Processing subjects:   6%|▋         | 27/432 [00:20<05:11,  1.30it/s]"
     ]
    },
    {
     "name": "stdout",
     "output_type": "stream",
     "text": [
      "⚠️ Warning: /home/santiago/Desktop/GrandMeanNorm/ROISignals/ROISignals_003_S_6432.mat contains NaN/Inf. Not modifying the file.\n"
     ]
    },
    {
     "name": "stderr",
     "output_type": "stream",
     "text": [
      "Processing subjects:   6%|▋         | 28/432 [00:21<05:07,  1.31it/s]"
     ]
    },
    {
     "name": "stdout",
     "output_type": "stream",
     "text": [
      "⚠️ Warning: /home/santiago/Desktop/GrandMeanNorm/ROISignals/ROISignals_003_S_6606.mat contains NaN/Inf. Not modifying the file.\n"
     ]
    },
    {
     "name": "stderr",
     "output_type": "stream",
     "text": [
      "Processing subjects:   7%|▋         | 29/432 [00:22<05:00,  1.34it/s]"
     ]
    },
    {
     "name": "stdout",
     "output_type": "stream",
     "text": [
      "⚠️ Warning: /home/santiago/Desktop/GrandMeanNorm/ROISignals/ROISignals_003_S_6678.mat contains NaN/Inf. Not modifying the file.\n"
     ]
    },
    {
     "name": "stderr",
     "output_type": "stream",
     "text": [
      "Processing subjects:   7%|▋         | 30/432 [00:23<04:52,  1.37it/s]"
     ]
    },
    {
     "name": "stdout",
     "output_type": "stream",
     "text": [
      "⚠️ Warning: /home/santiago/Desktop/GrandMeanNorm/ROISignals/ROISignals_003_S_6833.mat contains NaN/Inf. Not modifying the file.\n"
     ]
    },
    {
     "name": "stderr",
     "output_type": "stream",
     "text": [
      "Processing subjects:   7%|▋         | 31/432 [00:23<04:52,  1.37it/s]"
     ]
    },
    {
     "name": "stdout",
     "output_type": "stream",
     "text": [
      "⚠️ Warning: /home/santiago/Desktop/GrandMeanNorm/ROISignals/ROISignals_003_S_6954.mat contains NaN/Inf. Not modifying the file.\n"
     ]
    },
    {
     "name": "stderr",
     "output_type": "stream",
     "text": [
      "Processing subjects:   7%|▋         | 32/432 [00:24<05:00,  1.33it/s]"
     ]
    },
    {
     "name": "stdout",
     "output_type": "stream",
     "text": [
      "⚠️ Warning: /home/santiago/Desktop/GrandMeanNorm/ROISignals/ROISignals_005_S_4185.mat contains NaN/Inf. Not modifying the file.\n"
     ]
    },
    {
     "name": "stderr",
     "output_type": "stream",
     "text": [
      "Processing subjects:   8%|▊         | 33/432 [00:25<05:06,  1.30it/s]"
     ]
    },
    {
     "name": "stdout",
     "output_type": "stream",
     "text": [
      "⚠️ Warning: /home/santiago/Desktop/GrandMeanNorm/ROISignals/ROISignals_006_S_0498.mat contains NaN/Inf. Not modifying the file.\n"
     ]
    },
    {
     "name": "stderr",
     "output_type": "stream",
     "text": [
      "Processing subjects:   8%|▊         | 34/432 [00:26<05:43,  1.16it/s]"
     ]
    },
    {
     "name": "stdout",
     "output_type": "stream",
     "text": [
      "⚠️ Warning: /home/santiago/Desktop/GrandMeanNorm/ROISignals/ROISignals_006_S_0731.mat contains NaN/Inf. Not modifying the file.\n"
     ]
    },
    {
     "name": "stderr",
     "output_type": "stream",
     "text": [
      "Processing subjects:   8%|▊         | 35/432 [00:27<05:22,  1.23it/s]"
     ]
    },
    {
     "name": "stdout",
     "output_type": "stream",
     "text": [
      "⚠️ Warning: /home/santiago/Desktop/GrandMeanNorm/ROISignals/ROISignals_006_S_4150.mat contains NaN/Inf. Not modifying the file.\n"
     ]
    },
    {
     "name": "stderr",
     "output_type": "stream",
     "text": [
      "Processing subjects:   8%|▊         | 36/432 [00:27<05:14,  1.26it/s]"
     ]
    },
    {
     "name": "stdout",
     "output_type": "stream",
     "text": [
      "⚠️ Warning: /home/santiago/Desktop/GrandMeanNorm/ROISignals/ROISignals_006_S_4153.mat contains NaN/Inf. Not modifying the file.\n"
     ]
    },
    {
     "name": "stderr",
     "output_type": "stream",
     "text": [
      "Processing subjects:   9%|▊         | 37/432 [00:28<05:18,  1.24it/s]"
     ]
    },
    {
     "name": "stdout",
     "output_type": "stream",
     "text": [
      "⚠️ Warning: /home/santiago/Desktop/GrandMeanNorm/ROISignals/ROISignals_006_S_4192.mat contains NaN/Inf. Not modifying the file.\n"
     ]
    },
    {
     "name": "stderr",
     "output_type": "stream",
     "text": [
      "Processing subjects:   9%|▉         | 38/432 [00:29<05:15,  1.25it/s]"
     ]
    },
    {
     "name": "stdout",
     "output_type": "stream",
     "text": [
      "⚠️ Warning: /home/santiago/Desktop/GrandMeanNorm/ROISignals/ROISignals_006_S_4346.mat contains NaN/Inf. Not modifying the file.\n"
     ]
    },
    {
     "name": "stderr",
     "output_type": "stream",
     "text": [
      "Processing subjects:   9%|▉         | 39/432 [00:30<05:17,  1.24it/s]"
     ]
    },
    {
     "name": "stdout",
     "output_type": "stream",
     "text": [
      "⚠️ Warning: /home/santiago/Desktop/GrandMeanNorm/ROISignals/ROISignals_006_S_4357.mat contains NaN/Inf. Not modifying the file.\n"
     ]
    },
    {
     "name": "stderr",
     "output_type": "stream",
     "text": [
      "Processing subjects:   9%|▉         | 40/432 [00:31<05:14,  1.25it/s]"
     ]
    },
    {
     "name": "stdout",
     "output_type": "stream",
     "text": [
      "⚠️ Warning: /home/santiago/Desktop/GrandMeanNorm/ROISignals/ROISignals_006_S_4363.mat contains NaN/Inf. Not modifying the file.\n"
     ]
    },
    {
     "name": "stderr",
     "output_type": "stream",
     "text": [
      "Processing subjects:   9%|▉         | 41/432 [00:31<05:08,  1.27it/s]"
     ]
    },
    {
     "name": "stdout",
     "output_type": "stream",
     "text": [
      "⚠️ Warning: /home/santiago/Desktop/GrandMeanNorm/ROISignals/ROISignals_006_S_4449.mat contains NaN/Inf. Not modifying the file.\n"
     ]
    },
    {
     "name": "stderr",
     "output_type": "stream",
     "text": [
      "Processing subjects:  10%|▉         | 42/432 [00:32<05:03,  1.29it/s]"
     ]
    },
    {
     "name": "stdout",
     "output_type": "stream",
     "text": [
      "⚠️ Warning: /home/santiago/Desktop/GrandMeanNorm/ROISignals/ROISignals_006_S_4485.mat contains NaN/Inf. Not modifying the file.\n"
     ]
    },
    {
     "name": "stderr",
     "output_type": "stream",
     "text": [
      "Processing subjects:  10%|▉         | 43/432 [00:33<04:57,  1.31it/s]"
     ]
    },
    {
     "name": "stdout",
     "output_type": "stream",
     "text": [
      "⚠️ Warning: /home/santiago/Desktop/GrandMeanNorm/ROISignals/ROISignals_006_S_4546.mat contains NaN/Inf. Not modifying the file.\n"
     ]
    },
    {
     "name": "stderr",
     "output_type": "stream",
     "text": [
      "Processing subjects:  10%|█         | 44/432 [00:34<04:56,  1.31it/s]"
     ]
    },
    {
     "name": "stdout",
     "output_type": "stream",
     "text": [
      "⚠️ Warning: /home/santiago/Desktop/GrandMeanNorm/ROISignals/ROISignals_006_S_4679.mat contains NaN/Inf. Not modifying the file.\n"
     ]
    },
    {
     "name": "stderr",
     "output_type": "stream",
     "text": [
      "Processing subjects:  10%|█         | 45/432 [00:35<05:44,  1.12it/s]"
     ]
    },
    {
     "name": "stdout",
     "output_type": "stream",
     "text": [
      "⚠️ Warning: /home/santiago/Desktop/GrandMeanNorm/ROISignals/ROISignals_006_S_4713.mat contains NaN/Inf. Not modifying the file.\n"
     ]
    },
    {
     "name": "stderr",
     "output_type": "stream",
     "text": [
      "Processing subjects:  11%|█         | 46/432 [00:36<05:31,  1.17it/s]"
     ]
    },
    {
     "name": "stdout",
     "output_type": "stream",
     "text": [
      "⚠️ Warning: /home/santiago/Desktop/GrandMeanNorm/ROISignals/ROISignals_006_S_4867.mat contains NaN/Inf. Not modifying the file.\n"
     ]
    },
    {
     "name": "stderr",
     "output_type": "stream",
     "text": [
      "Processing subjects:  11%|█         | 47/432 [00:36<05:19,  1.20it/s]"
     ]
    },
    {
     "name": "stdout",
     "output_type": "stream",
     "text": [
      "⚠️ Warning: /home/santiago/Desktop/GrandMeanNorm/ROISignals/ROISignals_006_S_4960.mat contains NaN/Inf. Not modifying the file.\n"
     ]
    },
    {
     "name": "stderr",
     "output_type": "stream",
     "text": [
      "Processing subjects:  11%|█         | 48/432 [00:37<05:12,  1.23it/s]"
     ]
    },
    {
     "name": "stdout",
     "output_type": "stream",
     "text": [
      "⚠️ Warning: /home/santiago/Desktop/GrandMeanNorm/ROISignals/ROISignals_006_S_6209.mat contains NaN/Inf. Not modifying the file.\n"
     ]
    },
    {
     "name": "stderr",
     "output_type": "stream",
     "text": [
      "Processing subjects:  11%|█▏        | 49/432 [00:38<05:00,  1.27it/s]"
     ]
    },
    {
     "name": "stdout",
     "output_type": "stream",
     "text": [
      "⚠️ Warning: /home/santiago/Desktop/GrandMeanNorm/ROISignals/ROISignals_006_S_6234.mat contains NaN/Inf. Not modifying the file.\n"
     ]
    },
    {
     "name": "stderr",
     "output_type": "stream",
     "text": [
      "Processing subjects:  12%|█▏        | 50/432 [00:39<04:52,  1.31it/s]"
     ]
    },
    {
     "name": "stdout",
     "output_type": "stream",
     "text": [
      "⚠️ Warning: /home/santiago/Desktop/GrandMeanNorm/ROISignals/ROISignals_006_S_6243.mat contains NaN/Inf. Not modifying the file.\n"
     ]
    },
    {
     "name": "stderr",
     "output_type": "stream",
     "text": [
      "Processing subjects:  12%|█▏        | 51/432 [00:39<04:46,  1.33it/s]"
     ]
    },
    {
     "name": "stdout",
     "output_type": "stream",
     "text": [
      "⚠️ Warning: /home/santiago/Desktop/GrandMeanNorm/ROISignals/ROISignals_006_S_6252.mat contains NaN/Inf. Not modifying the file.\n"
     ]
    },
    {
     "name": "stderr",
     "output_type": "stream",
     "text": [
      "Processing subjects:  12%|█▏        | 52/432 [00:40<04:49,  1.31it/s]"
     ]
    },
    {
     "name": "stdout",
     "output_type": "stream",
     "text": [
      "⚠️ Warning: /home/santiago/Desktop/GrandMeanNorm/ROISignals/ROISignals_006_S_6291.mat contains NaN/Inf. Not modifying the file.\n"
     ]
    },
    {
     "name": "stderr",
     "output_type": "stream",
     "text": [
      "Processing subjects:  12%|█▏        | 53/432 [00:41<04:48,  1.32it/s]"
     ]
    },
    {
     "name": "stdout",
     "output_type": "stream",
     "text": [
      "⚠️ Warning: /home/santiago/Desktop/GrandMeanNorm/ROISignals/ROISignals_006_S_6375.mat contains NaN/Inf. Not modifying the file.\n"
     ]
    },
    {
     "name": "stderr",
     "output_type": "stream",
     "text": [
      "Processing subjects:  12%|█▎        | 54/432 [00:42<04:44,  1.33it/s]"
     ]
    },
    {
     "name": "stdout",
     "output_type": "stream",
     "text": [
      "⚠️ Warning: /home/santiago/Desktop/GrandMeanNorm/ROISignals/ROISignals_006_S_6441.mat contains NaN/Inf. Not modifying the file.\n"
     ]
    },
    {
     "name": "stderr",
     "output_type": "stream",
     "text": [
      "Processing subjects:  13%|█▎        | 55/432 [00:42<04:45,  1.32it/s]"
     ]
    },
    {
     "name": "stdout",
     "output_type": "stream",
     "text": [
      "⚠️ Warning: /home/santiago/Desktop/GrandMeanNorm/ROISignals/ROISignals_006_S_6610.mat contains NaN/Inf. Not modifying the file.\n"
     ]
    },
    {
     "name": "stderr",
     "output_type": "stream",
     "text": [
      "Processing subjects:  13%|█▎        | 56/432 [00:43<04:46,  1.31it/s]"
     ]
    },
    {
     "name": "stdout",
     "output_type": "stream",
     "text": [
      "⚠️ Warning: /home/santiago/Desktop/GrandMeanNorm/ROISignals/ROISignals_006_S_6651.mat contains NaN/Inf. Not modifying the file.\n"
     ]
    },
    {
     "name": "stderr",
     "output_type": "stream",
     "text": [
      "Processing subjects:  13%|█▎        | 57/432 [00:44<04:48,  1.30it/s]"
     ]
    },
    {
     "name": "stdout",
     "output_type": "stream",
     "text": [
      "⚠️ Warning: /home/santiago/Desktop/GrandMeanNorm/ROISignals/ROISignals_006_S_6657.mat contains NaN/Inf. Not modifying the file.\n"
     ]
    },
    {
     "name": "stderr",
     "output_type": "stream",
     "text": [
      "Processing subjects:  13%|█▎        | 58/432 [00:45<05:49,  1.07it/s]"
     ]
    },
    {
     "name": "stdout",
     "output_type": "stream",
     "text": [
      "⚠️ Warning: /home/santiago/Desktop/GrandMeanNorm/ROISignals/ROISignals_006_S_6672.mat contains NaN/Inf. Not modifying the file.\n"
     ]
    },
    {
     "name": "stderr",
     "output_type": "stream",
     "text": [
      "Processing subjects:  14%|█▎        | 59/432 [00:46<05:30,  1.13it/s]"
     ]
    },
    {
     "name": "stdout",
     "output_type": "stream",
     "text": [
      "⚠️ Warning: /home/santiago/Desktop/GrandMeanNorm/ROISignals/ROISignals_006_S_6674.mat contains NaN/Inf. Not modifying the file.\n"
     ]
    },
    {
     "name": "stderr",
     "output_type": "stream",
     "text": [
      "Processing subjects:  14%|█▍        | 60/432 [00:47<05:17,  1.17it/s]"
     ]
    },
    {
     "name": "stdout",
     "output_type": "stream",
     "text": [
      "⚠️ Warning: /home/santiago/Desktop/GrandMeanNorm/ROISignals/ROISignals_006_S_6677.mat contains NaN/Inf. Not modifying the file.\n"
     ]
    },
    {
     "name": "stderr",
     "output_type": "stream",
     "text": [
      "Processing subjects:  14%|█▍        | 61/432 [00:48<05:04,  1.22it/s]"
     ]
    },
    {
     "name": "stdout",
     "output_type": "stream",
     "text": [
      "⚠️ Warning: /home/santiago/Desktop/GrandMeanNorm/ROISignals/ROISignals_006_S_6682.mat contains NaN/Inf. Not modifying the file.\n"
     ]
    },
    {
     "name": "stderr",
     "output_type": "stream",
     "text": [
      "Processing subjects:  14%|█▍        | 62/432 [00:48<04:57,  1.24it/s]"
     ]
    },
    {
     "name": "stdout",
     "output_type": "stream",
     "text": [
      "⚠️ Warning: /home/santiago/Desktop/GrandMeanNorm/ROISignals/ROISignals_006_S_6689.mat contains NaN/Inf. Not modifying the file.\n"
     ]
    },
    {
     "name": "stderr",
     "output_type": "stream",
     "text": [
      "Processing subjects:  15%|█▍        | 63/432 [00:49<04:49,  1.28it/s]"
     ]
    },
    {
     "name": "stdout",
     "output_type": "stream",
     "text": [
      "⚠️ Warning: /home/santiago/Desktop/GrandMeanNorm/ROISignals/ROISignals_006_S_6696.mat contains NaN/Inf. Not modifying the file.\n"
     ]
    },
    {
     "name": "stderr",
     "output_type": "stream",
     "text": [
      "Processing subjects:  15%|█▍        | 64/432 [00:50<04:42,  1.30it/s]"
     ]
    },
    {
     "name": "stdout",
     "output_type": "stream",
     "text": [
      "⚠️ Warning: /home/santiago/Desktop/GrandMeanNorm/ROISignals/ROISignals_006_S_6770.mat contains NaN/Inf. Not modifying the file.\n"
     ]
    },
    {
     "name": "stderr",
     "output_type": "stream",
     "text": [
      "Processing subjects:  15%|█▌        | 65/432 [00:50<04:34,  1.34it/s]"
     ]
    },
    {
     "name": "stdout",
     "output_type": "stream",
     "text": [
      "⚠️ Warning: /home/santiago/Desktop/GrandMeanNorm/ROISignals/ROISignals_010_S_4135.mat contains NaN/Inf. Not modifying the file.\n"
     ]
    },
    {
     "name": "stderr",
     "output_type": "stream",
     "text": [
      "Processing subjects:  15%|█▌        | 66/432 [00:51<04:25,  1.38it/s]"
     ]
    },
    {
     "name": "stdout",
     "output_type": "stream",
     "text": [
      "⚠️ Warning: /home/santiago/Desktop/GrandMeanNorm/ROISignals/ROISignals_010_S_4442.mat contains NaN/Inf. Not modifying the file.\n"
     ]
    },
    {
     "name": "stderr",
     "output_type": "stream",
     "text": [
      "Processing subjects:  16%|█▌        | 67/432 [00:52<04:22,  1.39it/s]"
     ]
    },
    {
     "name": "stdout",
     "output_type": "stream",
     "text": [
      "⚠️ Warning: /home/santiago/Desktop/GrandMeanNorm/ROISignals/ROISignals_010_S_5163.mat contains NaN/Inf. Not modifying the file.\n"
     ]
    },
    {
     "name": "stderr",
     "output_type": "stream",
     "text": [
      "Processing subjects:  16%|█▌        | 68/432 [00:53<04:23,  1.38it/s]"
     ]
    },
    {
     "name": "stdout",
     "output_type": "stream",
     "text": [
      "⚠️ Warning: /home/santiago/Desktop/GrandMeanNorm/ROISignals/ROISignals_011_S_4547.mat contains NaN/Inf. Not modifying the file.\n"
     ]
    },
    {
     "name": "stderr",
     "output_type": "stream",
     "text": [
      "Processing subjects:  16%|█▌        | 69/432 [00:53<04:22,  1.38it/s]"
     ]
    },
    {
     "name": "stdout",
     "output_type": "stream",
     "text": [
      "⚠️ Warning: /home/santiago/Desktop/GrandMeanNorm/ROISignals/ROISignals_011_S_4827.mat contains NaN/Inf. Not modifying the file.\n"
     ]
    },
    {
     "name": "stderr",
     "output_type": "stream",
     "text": [
      "Processing subjects:  16%|█▌        | 70/432 [00:54<04:25,  1.36it/s]"
     ]
    },
    {
     "name": "stdout",
     "output_type": "stream",
     "text": [
      "⚠️ Warning: /home/santiago/Desktop/GrandMeanNorm/ROISignals/ROISignals_011_S_4893.mat contains NaN/Inf. Not modifying the file.\n"
     ]
    },
    {
     "name": "stderr",
     "output_type": "stream",
     "text": [
      "Processing subjects:  16%|█▋        | 71/432 [00:55<04:32,  1.32it/s]"
     ]
    },
    {
     "name": "stdout",
     "output_type": "stream",
     "text": [
      "⚠️ Warning: /home/santiago/Desktop/GrandMeanNorm/ROISignals/ROISignals_011_S_6303.mat contains NaN/Inf. Not modifying the file.\n"
     ]
    },
    {
     "name": "stderr",
     "output_type": "stream",
     "text": [
      "Processing subjects:  17%|█▋        | 72/432 [00:56<04:33,  1.32it/s]"
     ]
    },
    {
     "name": "stdout",
     "output_type": "stream",
     "text": [
      "⚠️ Warning: /home/santiago/Desktop/GrandMeanNorm/ROISignals/ROISignals_011_S_6618.mat contains NaN/Inf. Not modifying the file.\n"
     ]
    },
    {
     "name": "stderr",
     "output_type": "stream",
     "text": [
      "Processing subjects:  17%|█▋        | 73/432 [00:56<04:27,  1.34it/s]"
     ]
    },
    {
     "name": "stdout",
     "output_type": "stream",
     "text": [
      "⚠️ Warning: /home/santiago/Desktop/GrandMeanNorm/ROISignals/ROISignals_012_S_4026.mat contains NaN/Inf. Not modifying the file.\n"
     ]
    },
    {
     "name": "stderr",
     "output_type": "stream",
     "text": [
      "Processing subjects:  17%|█▋        | 74/432 [00:58<05:37,  1.06it/s]"
     ]
    },
    {
     "name": "stdout",
     "output_type": "stream",
     "text": [
      "⚠️ Warning: /home/santiago/Desktop/GrandMeanNorm/ROISignals/ROISignals_012_S_4094.mat contains NaN/Inf. Not modifying the file.\n"
     ]
    },
    {
     "name": "stderr",
     "output_type": "stream",
     "text": [
      "Processing subjects:  17%|█▋        | 75/432 [00:59<05:20,  1.12it/s]"
     ]
    },
    {
     "name": "stdout",
     "output_type": "stream",
     "text": [
      "⚠️ Warning: /home/santiago/Desktop/GrandMeanNorm/ROISignals/ROISignals_012_S_4128.mat contains NaN/Inf. Not modifying the file.\n"
     ]
    },
    {
     "name": "stderr",
     "output_type": "stream",
     "text": [
      "Processing subjects:  18%|█▊        | 76/432 [00:59<05:10,  1.15it/s]"
     ]
    },
    {
     "name": "stdout",
     "output_type": "stream",
     "text": [
      "⚠️ Warning: /home/santiago/Desktop/GrandMeanNorm/ROISignals/ROISignals_012_S_4188.mat contains NaN/Inf. Not modifying the file.\n"
     ]
    },
    {
     "name": "stderr",
     "output_type": "stream",
     "text": [
      "Processing subjects:  18%|█▊        | 77/432 [01:00<05:00,  1.18it/s]"
     ]
    },
    {
     "name": "stdout",
     "output_type": "stream",
     "text": [
      "⚠️ Warning: /home/santiago/Desktop/GrandMeanNorm/ROISignals/ROISignals_012_S_4643.mat contains NaN/Inf. Not modifying the file.\n"
     ]
    },
    {
     "name": "stderr",
     "output_type": "stream",
     "text": [
      "Processing subjects:  18%|█▊        | 78/432 [01:01<04:52,  1.21it/s]"
     ]
    },
    {
     "name": "stdout",
     "output_type": "stream",
     "text": [
      "⚠️ Warning: /home/santiago/Desktop/GrandMeanNorm/ROISignals/ROISignals_012_S_4849.mat contains NaN/Inf. Not modifying the file.\n"
     ]
    },
    {
     "name": "stderr",
     "output_type": "stream",
     "text": [
      "Processing subjects:  18%|█▊        | 79/432 [01:02<04:44,  1.24it/s]"
     ]
    },
    {
     "name": "stdout",
     "output_type": "stream",
     "text": [
      "⚠️ Warning: /home/santiago/Desktop/GrandMeanNorm/ROISignals/ROISignals_012_S_4987.mat contains NaN/Inf. Not modifying the file.\n"
     ]
    },
    {
     "name": "stderr",
     "output_type": "stream",
     "text": [
      "Processing subjects:  19%|█▊        | 80/432 [01:02<04:35,  1.28it/s]"
     ]
    },
    {
     "name": "stdout",
     "output_type": "stream",
     "text": [
      "⚠️ Warning: /home/santiago/Desktop/GrandMeanNorm/ROISignals/ROISignals_012_S_6073.mat contains NaN/Inf. Not modifying the file.\n"
     ]
    },
    {
     "name": "stderr",
     "output_type": "stream",
     "text": [
      "Processing subjects:  19%|█▉        | 81/432 [01:03<04:28,  1.31it/s]"
     ]
    },
    {
     "name": "stdout",
     "output_type": "stream",
     "text": [
      "⚠️ Warning: /home/santiago/Desktop/GrandMeanNorm/ROISignals/ROISignals_012_S_6503.mat contains NaN/Inf. Not modifying the file.\n"
     ]
    },
    {
     "name": "stderr",
     "output_type": "stream",
     "text": [
      "Processing subjects:  19%|█▉        | 82/432 [01:04<04:27,  1.31it/s]"
     ]
    },
    {
     "name": "stdout",
     "output_type": "stream",
     "text": [
      "⚠️ Warning: /home/santiago/Desktop/GrandMeanNorm/ROISignals/ROISignals_012_S_6760.mat contains NaN/Inf. Not modifying the file.\n"
     ]
    },
    {
     "name": "stderr",
     "output_type": "stream",
     "text": [
      "Processing subjects:  19%|█▉        | 83/432 [01:05<04:19,  1.34it/s]"
     ]
    },
    {
     "name": "stdout",
     "output_type": "stream",
     "text": [
      "⚠️ Warning: /home/santiago/Desktop/GrandMeanNorm/ROISignals/ROISignals_013_S_1186.mat contains NaN/Inf. Not modifying the file.\n"
     ]
    },
    {
     "name": "stderr",
     "output_type": "stream",
     "text": [
      "Processing subjects:  19%|█▉        | 84/432 [01:05<04:20,  1.33it/s]"
     ]
    },
    {
     "name": "stdout",
     "output_type": "stream",
     "text": [
      "⚠️ Warning: /home/santiago/Desktop/GrandMeanNorm/ROISignals/ROISignals_013_S_2324.mat contains NaN/Inf. Not modifying the file.\n"
     ]
    },
    {
     "name": "stderr",
     "output_type": "stream",
     "text": [
      "Processing subjects:  20%|█▉        | 85/432 [01:06<04:17,  1.35it/s]"
     ]
    },
    {
     "name": "stdout",
     "output_type": "stream",
     "text": [
      "⚠️ Warning: /home/santiago/Desktop/GrandMeanNorm/ROISignals/ROISignals_013_S_2389.mat contains NaN/Inf. Not modifying the file.\n"
     ]
    },
    {
     "name": "stderr",
     "output_type": "stream",
     "text": [
      "Processing subjects:  20%|█▉        | 86/432 [01:07<04:20,  1.33it/s]"
     ]
    },
    {
     "name": "stdout",
     "output_type": "stream",
     "text": [
      "⚠️ Warning: /home/santiago/Desktop/GrandMeanNorm/ROISignals/ROISignals_013_S_4236.mat contains NaN/Inf. Not modifying the file.\n"
     ]
    },
    {
     "name": "stderr",
     "output_type": "stream",
     "text": [
      "Processing subjects:  20%|██        | 87/432 [01:08<04:16,  1.35it/s]"
     ]
    },
    {
     "name": "stdout",
     "output_type": "stream",
     "text": [
      "⚠️ Warning: /home/santiago/Desktop/GrandMeanNorm/ROISignals/ROISignals_013_S_4268.mat contains NaN/Inf. Not modifying the file.\n"
     ]
    },
    {
     "name": "stderr",
     "output_type": "stream",
     "text": [
      "Processing subjects:  20%|██        | 88/432 [01:08<04:15,  1.35it/s]"
     ]
    },
    {
     "name": "stdout",
     "output_type": "stream",
     "text": [
      "⚠️ Warning: /home/santiago/Desktop/GrandMeanNorm/ROISignals/ROISignals_013_S_4395.mat contains NaN/Inf. Not modifying the file.\n"
     ]
    },
    {
     "name": "stderr",
     "output_type": "stream",
     "text": [
      "Processing subjects:  21%|██        | 89/432 [01:09<04:12,  1.36it/s]"
     ]
    },
    {
     "name": "stdout",
     "output_type": "stream",
     "text": [
      "⚠️ Warning: /home/santiago/Desktop/GrandMeanNorm/ROISignals/ROISignals_013_S_4580.mat contains NaN/Inf. Not modifying the file.\n"
     ]
    },
    {
     "name": "stderr",
     "output_type": "stream",
     "text": [
      "Processing subjects:  21%|██        | 90/432 [01:10<04:07,  1.38it/s]"
     ]
    },
    {
     "name": "stdout",
     "output_type": "stream",
     "text": [
      "⚠️ Warning: /home/santiago/Desktop/GrandMeanNorm/ROISignals/ROISignals_013_S_4595.mat contains NaN/Inf. Not modifying the file.\n"
     ]
    },
    {
     "name": "stderr",
     "output_type": "stream",
     "text": [
      "Processing subjects:  21%|██        | 91/432 [01:11<04:10,  1.36it/s]"
     ]
    },
    {
     "name": "stdout",
     "output_type": "stream",
     "text": [
      "⚠️ Warning: /home/santiago/Desktop/GrandMeanNorm/ROISignals/ROISignals_013_S_4616.mat contains NaN/Inf. Not modifying the file.\n"
     ]
    },
    {
     "name": "stderr",
     "output_type": "stream",
     "text": [
      "Processing subjects:  21%|██▏       | 92/432 [01:11<04:18,  1.32it/s]"
     ]
    },
    {
     "name": "stdout",
     "output_type": "stream",
     "text": [
      "⚠️ Warning: /home/santiago/Desktop/GrandMeanNorm/ROISignals/ROISignals_013_S_4731.mat contains NaN/Inf. Not modifying the file.\n"
     ]
    },
    {
     "name": "stderr",
     "output_type": "stream",
     "text": [
      "Processing subjects:  22%|██▏       | 93/432 [01:12<04:15,  1.33it/s]"
     ]
    },
    {
     "name": "stdout",
     "output_type": "stream",
     "text": [
      "⚠️ Warning: /home/santiago/Desktop/GrandMeanNorm/ROISignals/ROISignals_013_S_4768.mat contains NaN/Inf. Not modifying the file.\n"
     ]
    },
    {
     "name": "stderr",
     "output_type": "stream",
     "text": [
      "Processing subjects:  22%|██▏       | 94/432 [01:14<05:39,  1.00s/it]"
     ]
    },
    {
     "name": "stdout",
     "output_type": "stream",
     "text": [
      "⚠️ Warning: /home/santiago/Desktop/GrandMeanNorm/ROISignals/ROISignals_013_S_4791.mat contains NaN/Inf. Not modifying the file.\n"
     ]
    },
    {
     "name": "stderr",
     "output_type": "stream",
     "text": [
      "Processing subjects:  22%|██▏       | 95/432 [01:14<05:09,  1.09it/s]"
     ]
    },
    {
     "name": "stdout",
     "output_type": "stream",
     "text": [
      "⚠️ Warning: /home/santiago/Desktop/GrandMeanNorm/ROISignals/ROISignals_013_S_4917.mat contains NaN/Inf. Not modifying the file.\n"
     ]
    },
    {
     "name": "stderr",
     "output_type": "stream",
     "text": [
      "Processing subjects:  22%|██▏       | 96/432 [01:15<04:44,  1.18it/s]"
     ]
    },
    {
     "name": "stdout",
     "output_type": "stream",
     "text": [
      "⚠️ Warning: /home/santiago/Desktop/GrandMeanNorm/ROISignals/ROISignals_013_S_4985.mat contains NaN/Inf. Not modifying the file.\n"
     ]
    },
    {
     "name": "stderr",
     "output_type": "stream",
     "text": [
      "Processing subjects:  22%|██▏       | 97/432 [01:16<04:31,  1.24it/s]"
     ]
    },
    {
     "name": "stdout",
     "output_type": "stream",
     "text": [
      "⚠️ Warning: /home/santiago/Desktop/GrandMeanNorm/ROISignals/ROISignals_013_S_5071.mat contains NaN/Inf. Not modifying the file.\n"
     ]
    },
    {
     "name": "stderr",
     "output_type": "stream",
     "text": [
      "Processing subjects:  23%|██▎       | 98/432 [01:17<04:23,  1.27it/s]"
     ]
    },
    {
     "name": "stdout",
     "output_type": "stream",
     "text": [
      "⚠️ Warning: /home/santiago/Desktop/GrandMeanNorm/ROISignals/ROISignals_013_S_6206.mat contains NaN/Inf. Not modifying the file.\n"
     ]
    },
    {
     "name": "stderr",
     "output_type": "stream",
     "text": [
      "Processing subjects:  23%|██▎       | 99/432 [01:17<04:16,  1.30it/s]"
     ]
    },
    {
     "name": "stdout",
     "output_type": "stream",
     "text": [
      "⚠️ Warning: /home/santiago/Desktop/GrandMeanNorm/ROISignals/ROISignals_013_S_6725.mat contains NaN/Inf. Not modifying the file.\n"
     ]
    },
    {
     "name": "stderr",
     "output_type": "stream",
     "text": [
      "Processing subjects:  23%|██▎       | 100/432 [01:18<04:12,  1.31it/s]"
     ]
    },
    {
     "name": "stdout",
     "output_type": "stream",
     "text": [
      "⚠️ Warning: /home/santiago/Desktop/GrandMeanNorm/ROISignals/ROISignals_013_S_6768.mat contains NaN/Inf. Not modifying the file.\n"
     ]
    },
    {
     "name": "stderr",
     "output_type": "stream",
     "text": [
      "Processing subjects:  23%|██▎       | 101/432 [01:19<04:09,  1.33it/s]"
     ]
    },
    {
     "name": "stdout",
     "output_type": "stream",
     "text": [
      "⚠️ Warning: /home/santiago/Desktop/GrandMeanNorm/ROISignals/ROISignals_013_S_6970.mat contains NaN/Inf. Not modifying the file.\n"
     ]
    },
    {
     "name": "stderr",
     "output_type": "stream",
     "text": [
      "Processing subjects:  24%|██▎       | 102/432 [01:20<04:12,  1.31it/s]"
     ]
    },
    {
     "name": "stdout",
     "output_type": "stream",
     "text": [
      "⚠️ Warning: /home/santiago/Desktop/GrandMeanNorm/ROISignals/ROISignals_013_S_6975.mat contains NaN/Inf. Not modifying the file.\n"
     ]
    },
    {
     "name": "stderr",
     "output_type": "stream",
     "text": [
      "Processing subjects:  24%|██▍       | 103/432 [01:20<04:11,  1.31it/s]"
     ]
    },
    {
     "name": "stdout",
     "output_type": "stream",
     "text": [
      "⚠️ Warning: /home/santiago/Desktop/GrandMeanNorm/ROISignals/ROISignals_013_S_7097.mat contains NaN/Inf. Not modifying the file.\n"
     ]
    },
    {
     "name": "stderr",
     "output_type": "stream",
     "text": [
      "Processing subjects:  24%|██▍       | 104/432 [01:21<04:09,  1.32it/s]"
     ]
    },
    {
     "name": "stdout",
     "output_type": "stream",
     "text": [
      "⚠️ Warning: /home/santiago/Desktop/GrandMeanNorm/ROISignals/ROISignals_014_S_2308.mat contains NaN/Inf. Not modifying the file.\n"
     ]
    },
    {
     "name": "stderr",
     "output_type": "stream",
     "text": [
      "Processing subjects:  24%|██▍       | 105/432 [01:22<04:03,  1.34it/s]"
     ]
    },
    {
     "name": "stdout",
     "output_type": "stream",
     "text": [
      "⚠️ Warning: /home/santiago/Desktop/GrandMeanNorm/ROISignals/ROISignals_014_S_6087.mat contains NaN/Inf. Not modifying the file.\n"
     ]
    },
    {
     "name": "stderr",
     "output_type": "stream",
     "text": [
      "Processing subjects:  25%|██▍       | 106/432 [01:23<04:05,  1.33it/s]"
     ]
    },
    {
     "name": "stdout",
     "output_type": "stream",
     "text": [
      "⚠️ Warning: /home/santiago/Desktop/GrandMeanNorm/ROISignals/ROISignals_014_S_6765.mat contains NaN/Inf. Not modifying the file.\n"
     ]
    },
    {
     "name": "stderr",
     "output_type": "stream",
     "text": [
      "Processing subjects:  25%|██▍       | 107/432 [01:23<04:02,  1.34it/s]"
     ]
    },
    {
     "name": "stdout",
     "output_type": "stream",
     "text": [
      "⚠️ Warning: /home/santiago/Desktop/GrandMeanNorm/ROISignals/ROISignals_014_S_6944.mat contains NaN/Inf. Not modifying the file.\n"
     ]
    },
    {
     "name": "stderr",
     "output_type": "stream",
     "text": [
      "Processing subjects:  25%|██▌       | 108/432 [01:24<04:04,  1.32it/s]"
     ]
    },
    {
     "name": "stdout",
     "output_type": "stream",
     "text": [
      "⚠️ Warning: /home/santiago/Desktop/GrandMeanNorm/ROISignals/ROISignals_018_S_2133.mat contains NaN/Inf. Not modifying the file.\n"
     ]
    },
    {
     "name": "stderr",
     "output_type": "stream",
     "text": [
      "Processing subjects:  25%|██▌       | 109/432 [01:25<04:12,  1.28it/s]"
     ]
    },
    {
     "name": "stdout",
     "output_type": "stream",
     "text": [
      "⚠️ Warning: /home/santiago/Desktop/GrandMeanNorm/ROISignals/ROISignals_018_S_2155.mat contains NaN/Inf. Not modifying the file.\n"
     ]
    },
    {
     "name": "stderr",
     "output_type": "stream",
     "text": [
      "Processing subjects:  25%|██▌       | 110/432 [01:26<04:14,  1.26it/s]"
     ]
    },
    {
     "name": "stdout",
     "output_type": "stream",
     "text": [
      "⚠️ Warning: /home/santiago/Desktop/GrandMeanNorm/ROISignals/ROISignals_018_S_2180.mat contains NaN/Inf. Not modifying the file.\n"
     ]
    },
    {
     "name": "stderr",
     "output_type": "stream",
     "text": [
      "Processing subjects:  26%|██▌       | 111/432 [01:26<04:13,  1.27it/s]"
     ]
    },
    {
     "name": "stdout",
     "output_type": "stream",
     "text": [
      "⚠️ Warning: /home/santiago/Desktop/GrandMeanNorm/ROISignals/ROISignals_018_S_4257.mat contains NaN/Inf. Not modifying the file.\n"
     ]
    },
    {
     "name": "stderr",
     "output_type": "stream",
     "text": [
      "Processing subjects:  26%|██▌       | 112/432 [01:27<04:14,  1.26it/s]"
     ]
    },
    {
     "name": "stdout",
     "output_type": "stream",
     "text": [
      "⚠️ Warning: /home/santiago/Desktop/GrandMeanNorm/ROISignals/ROISignals_018_S_4313.mat contains NaN/Inf. Not modifying the file.\n"
     ]
    },
    {
     "name": "stderr",
     "output_type": "stream",
     "text": [
      "Processing subjects:  26%|██▌       | 113/432 [01:28<04:11,  1.27it/s]"
     ]
    },
    {
     "name": "stdout",
     "output_type": "stream",
     "text": [
      "⚠️ Warning: /home/santiago/Desktop/GrandMeanNorm/ROISignals/ROISignals_018_S_4349.mat contains NaN/Inf. Not modifying the file.\n"
     ]
    },
    {
     "name": "stderr",
     "output_type": "stream",
     "text": [
      "Processing subjects:  26%|██▋       | 114/432 [01:29<04:03,  1.31it/s]"
     ]
    },
    {
     "name": "stdout",
     "output_type": "stream",
     "text": [
      "⚠️ Warning: /home/santiago/Desktop/GrandMeanNorm/ROISignals/ROISignals_018_S_4400.mat contains NaN/Inf. Not modifying the file.\n"
     ]
    },
    {
     "name": "stderr",
     "output_type": "stream",
     "text": [
      "Processing subjects:  27%|██▋       | 115/432 [01:30<04:05,  1.29it/s]"
     ]
    },
    {
     "name": "stdout",
     "output_type": "stream",
     "text": [
      "⚠️ Warning: /home/santiago/Desktop/GrandMeanNorm/ROISignals/ROISignals_018_S_4597.mat contains NaN/Inf. Not modifying the file.\n"
     ]
    },
    {
     "name": "stderr",
     "output_type": "stream",
     "text": [
      "Processing subjects:  27%|██▋       | 116/432 [01:30<04:01,  1.31it/s]"
     ]
    },
    {
     "name": "stdout",
     "output_type": "stream",
     "text": [
      "⚠️ Warning: /home/santiago/Desktop/GrandMeanNorm/ROISignals/ROISignals_018_S_4696.mat contains NaN/Inf. Not modifying the file.\n"
     ]
    },
    {
     "name": "stderr",
     "output_type": "stream",
     "text": [
      "Processing subjects:  27%|██▋       | 117/432 [01:31<04:02,  1.30it/s]"
     ]
    },
    {
     "name": "stdout",
     "output_type": "stream",
     "text": [
      "⚠️ Warning: /home/santiago/Desktop/GrandMeanNorm/ROISignals/ROISignals_018_S_4733.mat contains NaN/Inf. Not modifying the file.\n"
     ]
    },
    {
     "name": "stderr",
     "output_type": "stream",
     "text": [
      "Processing subjects:  27%|██▋       | 118/432 [01:32<04:35,  1.14it/s]"
     ]
    },
    {
     "name": "stdout",
     "output_type": "stream",
     "text": [
      "⚠️ Warning: /home/santiago/Desktop/GrandMeanNorm/ROISignals/ROISignals_018_S_4809.mat contains NaN/Inf. Not modifying the file.\n"
     ]
    },
    {
     "name": "stderr",
     "output_type": "stream",
     "text": [
      "Processing subjects:  28%|██▊       | 119/432 [01:34<06:32,  1.25s/it]"
     ]
    },
    {
     "name": "stdout",
     "output_type": "stream",
     "text": [
      "⚠️ Warning: /home/santiago/Desktop/GrandMeanNorm/ROISignals/ROISignals_018_S_4868.mat contains NaN/Inf. Not modifying the file.\n"
     ]
    },
    {
     "name": "stderr",
     "output_type": "stream",
     "text": [
      "Processing subjects:  28%|██▊       | 120/432 [01:35<05:39,  1.09s/it]"
     ]
    },
    {
     "name": "stdout",
     "output_type": "stream",
     "text": [
      "⚠️ Warning: /home/santiago/Desktop/GrandMeanNorm/ROISignals/ROISignals_018_S_4889.mat contains NaN/Inf. Not modifying the file.\n"
     ]
    },
    {
     "name": "stderr",
     "output_type": "stream",
     "text": [
      "Processing subjects:  28%|██▊       | 121/432 [01:36<05:07,  1.01it/s]"
     ]
    },
    {
     "name": "stdout",
     "output_type": "stream",
     "text": [
      "⚠️ Warning: /home/santiago/Desktop/GrandMeanNorm/ROISignals/ROISignals_018_S_5074.mat contains NaN/Inf. Not modifying the file.\n"
     ]
    },
    {
     "name": "stderr",
     "output_type": "stream",
     "text": [
      "Processing subjects:  28%|██▊       | 122/432 [01:37<04:47,  1.08it/s]"
     ]
    },
    {
     "name": "stdout",
     "output_type": "stream",
     "text": [
      "⚠️ Warning: /home/santiago/Desktop/GrandMeanNorm/ROISignals/ROISignals_018_S_5240.mat contains NaN/Inf. Not modifying the file.\n"
     ]
    },
    {
     "name": "stderr",
     "output_type": "stream",
     "text": [
      "Processing subjects:  28%|██▊       | 123/432 [01:37<04:25,  1.16it/s]"
     ]
    },
    {
     "name": "stdout",
     "output_type": "stream",
     "text": [
      "⚠️ Warning: /home/santiago/Desktop/GrandMeanNorm/ROISignals/ROISignals_018_S_6207.mat contains NaN/Inf. Not modifying the file.\n"
     ]
    },
    {
     "name": "stderr",
     "output_type": "stream",
     "text": [
      "Processing subjects:  29%|██▊       | 124/432 [01:38<04:14,  1.21it/s]"
     ]
    },
    {
     "name": "stdout",
     "output_type": "stream",
     "text": [
      "⚠️ Warning: /home/santiago/Desktop/GrandMeanNorm/ROISignals/ROISignals_018_S_6351.mat contains NaN/Inf. Not modifying the file.\n"
     ]
    },
    {
     "name": "stderr",
     "output_type": "stream",
     "text": [
      "Processing subjects:  29%|██▉       | 125/432 [01:39<04:10,  1.23it/s]"
     ]
    },
    {
     "name": "stdout",
     "output_type": "stream",
     "text": [
      "⚠️ Warning: /home/santiago/Desktop/GrandMeanNorm/ROISignals/ROISignals_018_S_6414.mat contains NaN/Inf. Not modifying the file.\n"
     ]
    },
    {
     "name": "stderr",
     "output_type": "stream",
     "text": [
      "Processing subjects:  29%|██▉       | 126/432 [01:40<04:01,  1.27it/s]"
     ]
    },
    {
     "name": "stdout",
     "output_type": "stream",
     "text": [
      "⚠️ Warning: /home/santiago/Desktop/GrandMeanNorm/ROISignals/ROISignals_019_S_4252.mat contains NaN/Inf. Not modifying the file.\n"
     ]
    },
    {
     "name": "stderr",
     "output_type": "stream",
     "text": [
      "Processing subjects:  29%|██▉       | 127/432 [01:40<03:56,  1.29it/s]"
     ]
    },
    {
     "name": "stdout",
     "output_type": "stream",
     "text": [
      "⚠️ Warning: /home/santiago/Desktop/GrandMeanNorm/ROISignals/ROISignals_019_S_4285.mat contains NaN/Inf. Not modifying the file.\n"
     ]
    },
    {
     "name": "stderr",
     "output_type": "stream",
     "text": [
      "Processing subjects:  30%|██▉       | 128/432 [01:41<03:53,  1.30it/s]"
     ]
    },
    {
     "name": "stdout",
     "output_type": "stream",
     "text": [
      "⚠️ Warning: /home/santiago/Desktop/GrandMeanNorm/ROISignals/ROISignals_019_S_4293.mat contains NaN/Inf. Not modifying the file.\n"
     ]
    },
    {
     "name": "stderr",
     "output_type": "stream",
     "text": [
      "Processing subjects:  30%|██▉       | 129/432 [01:42<03:50,  1.31it/s]"
     ]
    },
    {
     "name": "stdout",
     "output_type": "stream",
     "text": [
      "⚠️ Warning: /home/santiago/Desktop/GrandMeanNorm/ROISignals/ROISignals_019_S_4367.mat contains NaN/Inf. Not modifying the file.\n"
     ]
    },
    {
     "name": "stderr",
     "output_type": "stream",
     "text": [
      "Processing subjects:  30%|███       | 130/432 [01:43<03:48,  1.32it/s]"
     ]
    },
    {
     "name": "stdout",
     "output_type": "stream",
     "text": [
      "⚠️ Warning: /home/santiago/Desktop/GrandMeanNorm/ROISignals/ROISignals_019_S_4477.mat contains NaN/Inf. Not modifying the file.\n"
     ]
    },
    {
     "name": "stderr",
     "output_type": "stream",
     "text": [
      "Processing subjects:  30%|███       | 131/432 [01:43<03:45,  1.33it/s]"
     ]
    },
    {
     "name": "stdout",
     "output_type": "stream",
     "text": [
      "⚠️ Warning: /home/santiago/Desktop/GrandMeanNorm/ROISignals/ROISignals_019_S_4548.mat contains NaN/Inf. Not modifying the file.\n"
     ]
    },
    {
     "name": "stderr",
     "output_type": "stream",
     "text": [
      "Processing subjects:  31%|███       | 132/432 [01:44<03:43,  1.34it/s]"
     ]
    },
    {
     "name": "stdout",
     "output_type": "stream",
     "text": [
      "⚠️ Warning: /home/santiago/Desktop/GrandMeanNorm/ROISignals/ROISignals_019_S_4549.mat contains NaN/Inf. Not modifying the file.\n"
     ]
    },
    {
     "name": "stderr",
     "output_type": "stream",
     "text": [
      "Processing subjects:  31%|███       | 133/432 [01:45<03:38,  1.37it/s]"
     ]
    },
    {
     "name": "stdout",
     "output_type": "stream",
     "text": [
      "⚠️ Warning: /home/santiago/Desktop/GrandMeanNorm/ROISignals/ROISignals_019_S_4680.mat contains NaN/Inf. Not modifying the file.\n"
     ]
    },
    {
     "name": "stderr",
     "output_type": "stream",
     "text": [
      "Processing subjects:  31%|███       | 134/432 [01:46<03:48,  1.30it/s]"
     ]
    },
    {
     "name": "stdout",
     "output_type": "stream",
     "text": [
      "⚠️ Warning: /home/santiago/Desktop/GrandMeanNorm/ROISignals/ROISignals_019_S_4835.mat contains NaN/Inf. Not modifying the file.\n"
     ]
    },
    {
     "name": "stderr",
     "output_type": "stream",
     "text": [
      "Processing subjects:  31%|███▏      | 135/432 [01:46<03:44,  1.32it/s]"
     ]
    },
    {
     "name": "stdout",
     "output_type": "stream",
     "text": [
      "⚠️ Warning: /home/santiago/Desktop/GrandMeanNorm/ROISignals/ROISignals_019_S_5012.mat contains NaN/Inf. Not modifying the file.\n"
     ]
    },
    {
     "name": "stderr",
     "output_type": "stream",
     "text": [
      "Processing subjects:  31%|███▏      | 136/432 [01:47<03:44,  1.32it/s]"
     ]
    },
    {
     "name": "stdout",
     "output_type": "stream",
     "text": [
      "⚠️ Warning: /home/santiago/Desktop/GrandMeanNorm/ROISignals/ROISignals_019_S_5019.mat contains NaN/Inf. Not modifying the file.\n"
     ]
    },
    {
     "name": "stderr",
     "output_type": "stream",
     "text": [
      "Processing subjects:  32%|███▏      | 137/432 [01:48<03:40,  1.34it/s]"
     ]
    },
    {
     "name": "stdout",
     "output_type": "stream",
     "text": [
      "⚠️ Warning: /home/santiago/Desktop/GrandMeanNorm/ROISignals/ROISignals_019_S_6186.mat contains NaN/Inf. Not modifying the file.\n"
     ]
    },
    {
     "name": "stderr",
     "output_type": "stream",
     "text": [
      "Processing subjects:  32%|███▏      | 138/432 [01:48<03:38,  1.34it/s]"
     ]
    },
    {
     "name": "stdout",
     "output_type": "stream",
     "text": [
      "⚠️ Warning: /home/santiago/Desktop/GrandMeanNorm/ROISignals/ROISignals_019_S_6315.mat contains NaN/Inf. Not modifying the file.\n"
     ]
    },
    {
     "name": "stderr",
     "output_type": "stream",
     "text": [
      "Processing subjects:  32%|███▏      | 139/432 [01:49<03:43,  1.31it/s]"
     ]
    },
    {
     "name": "stdout",
     "output_type": "stream",
     "text": [
      "⚠️ Warning: /home/santiago/Desktop/GrandMeanNorm/ROISignals/ROISignals_019_S_6483.mat contains NaN/Inf. Not modifying the file.\n"
     ]
    },
    {
     "name": "stderr",
     "output_type": "stream",
     "text": [
      "Processing subjects:  32%|███▏      | 140/432 [01:50<03:43,  1.31it/s]"
     ]
    },
    {
     "name": "stdout",
     "output_type": "stream",
     "text": [
      "⚠️ Warning: /home/santiago/Desktop/GrandMeanNorm/ROISignals/ROISignals_019_S_6573.mat contains NaN/Inf. Not modifying the file.\n"
     ]
    },
    {
     "name": "stderr",
     "output_type": "stream",
     "text": [
      "Processing subjects:  33%|███▎      | 141/432 [01:51<03:39,  1.33it/s]"
     ]
    },
    {
     "name": "stdout",
     "output_type": "stream",
     "text": [
      "⚠️ Warning: /home/santiago/Desktop/GrandMeanNorm/ROISignals/ROISignals_019_S_6585.mat contains NaN/Inf. Not modifying the file.\n"
     ]
    },
    {
     "name": "stderr",
     "output_type": "stream",
     "text": [
      "Processing subjects:  33%|███▎      | 142/432 [01:52<03:34,  1.35it/s]"
     ]
    },
    {
     "name": "stdout",
     "output_type": "stream",
     "text": [
      "⚠️ Warning: /home/santiago/Desktop/GrandMeanNorm/ROISignals/ROISignals_019_S_6630.mat contains NaN/Inf. Not modifying the file.\n"
     ]
    },
    {
     "name": "stderr",
     "output_type": "stream",
     "text": [
      "Processing subjects:  33%|███▎      | 143/432 [01:52<03:34,  1.35it/s]"
     ]
    },
    {
     "name": "stdout",
     "output_type": "stream",
     "text": [
      "⚠️ Warning: /home/santiago/Desktop/GrandMeanNorm/ROISignals/ROISignals_019_S_6635.mat contains NaN/Inf. Not modifying the file.\n"
     ]
    },
    {
     "name": "stderr",
     "output_type": "stream",
     "text": [
      "Processing subjects:  33%|███▎      | 144/432 [01:53<03:33,  1.35it/s]"
     ]
    },
    {
     "name": "stdout",
     "output_type": "stream",
     "text": [
      "⚠️ Warning: /home/santiago/Desktop/GrandMeanNorm/ROISignals/ROISignals_019_S_6668.mat contains NaN/Inf. Not modifying the file.\n"
     ]
    },
    {
     "name": "stderr",
     "output_type": "stream",
     "text": [
      "Processing subjects:  34%|███▎      | 145/432 [01:54<03:36,  1.33it/s]"
     ]
    },
    {
     "name": "stdout",
     "output_type": "stream",
     "text": [
      "⚠️ Warning: /home/santiago/Desktop/GrandMeanNorm/ROISignals/ROISignals_019_S_6712.mat contains NaN/Inf. Not modifying the file.\n"
     ]
    },
    {
     "name": "stderr",
     "output_type": "stream",
     "text": [
      "Processing subjects:  34%|███▍      | 146/432 [01:55<03:34,  1.33it/s]"
     ]
    },
    {
     "name": "stdout",
     "output_type": "stream",
     "text": [
      "⚠️ Warning: /home/santiago/Desktop/GrandMeanNorm/ROISignals/ROISignals_019_S_6757.mat contains NaN/Inf. Not modifying the file.\n"
     ]
    },
    {
     "name": "stderr",
     "output_type": "stream",
     "text": [
      "Processing subjects:  34%|███▍      | 147/432 [01:55<03:32,  1.34it/s]"
     ]
    },
    {
     "name": "stdout",
     "output_type": "stream",
     "text": [
      "⚠️ Warning: /home/santiago/Desktop/GrandMeanNorm/ROISignals/ROISignals_019_S_7016.mat contains NaN/Inf. Not modifying the file.\n"
     ]
    },
    {
     "name": "stderr",
     "output_type": "stream",
     "text": [
      "Processing subjects:  34%|███▍      | 148/432 [01:56<03:33,  1.33it/s]"
     ]
    },
    {
     "name": "stdout",
     "output_type": "stream",
     "text": [
      "⚠️ Warning: /home/santiago/Desktop/GrandMeanNorm/ROISignals/ROISignals_021_S_4659.mat contains NaN/Inf. Not modifying the file.\n"
     ]
    },
    {
     "name": "stderr",
     "output_type": "stream",
     "text": [
      "Processing subjects:  34%|███▍      | 149/432 [01:57<03:38,  1.30it/s]"
     ]
    },
    {
     "name": "stdout",
     "output_type": "stream",
     "text": [
      "⚠️ Warning: /home/santiago/Desktop/GrandMeanNorm/ROISignals/ROISignals_021_S_4744.mat contains NaN/Inf. Not modifying the file.\n"
     ]
    },
    {
     "name": "stderr",
     "output_type": "stream",
     "text": [
      "Processing subjects:  35%|███▍      | 150/432 [01:59<05:38,  1.20s/it]"
     ]
    },
    {
     "name": "stdout",
     "output_type": "stream",
     "text": [
      "⚠️ Warning: /home/santiago/Desktop/GrandMeanNorm/ROISignals/ROISignals_022_S_2263.mat contains NaN/Inf. Not modifying the file.\n"
     ]
    },
    {
     "name": "stderr",
     "output_type": "stream",
     "text": [
      "Processing subjects:  35%|███▍      | 151/432 [02:00<04:56,  1.05s/it]"
     ]
    },
    {
     "name": "stdout",
     "output_type": "stream",
     "text": [
      "⚠️ Warning: /home/santiago/Desktop/GrandMeanNorm/ROISignals/ROISignals_022_S_2379.mat contains NaN/Inf. Not modifying the file.\n"
     ]
    },
    {
     "name": "stderr",
     "output_type": "stream",
     "text": [
      "Processing subjects:  35%|███▌      | 152/432 [02:00<04:27,  1.05it/s]"
     ]
    },
    {
     "name": "stdout",
     "output_type": "stream",
     "text": [
      "⚠️ Warning: /home/santiago/Desktop/GrandMeanNorm/ROISignals/ROISignals_022_S_6013.mat contains NaN/Inf. Not modifying the file.\n"
     ]
    },
    {
     "name": "stderr",
     "output_type": "stream",
     "text": [
      "Processing subjects:  35%|███▌      | 153/432 [02:01<04:06,  1.13it/s]"
     ]
    },
    {
     "name": "stdout",
     "output_type": "stream",
     "text": [
      "⚠️ Warning: /home/santiago/Desktop/GrandMeanNorm/ROISignals/ROISignals_022_S_6280.mat contains NaN/Inf. Not modifying the file.\n"
     ]
    },
    {
     "name": "stderr",
     "output_type": "stream",
     "text": [
      "Processing subjects:  36%|███▌      | 154/432 [02:02<03:56,  1.18it/s]"
     ]
    },
    {
     "name": "stdout",
     "output_type": "stream",
     "text": [
      "⚠️ Warning: /home/santiago/Desktop/GrandMeanNorm/ROISignals/ROISignals_022_S_6716.mat contains NaN/Inf. Not modifying the file.\n"
     ]
    },
    {
     "name": "stderr",
     "output_type": "stream",
     "text": [
      "Processing subjects:  36%|███▌      | 155/432 [02:03<03:55,  1.18it/s]"
     ]
    },
    {
     "name": "stdout",
     "output_type": "stream",
     "text": [
      "⚠️ Warning: /home/santiago/Desktop/GrandMeanNorm/ROISignals/ROISignals_024_S_4674.mat contains NaN/Inf. Not modifying the file.\n"
     ]
    },
    {
     "name": "stderr",
     "output_type": "stream",
     "text": [
      "Processing subjects:  36%|███▌      | 156/432 [02:04<03:50,  1.20it/s]"
     ]
    },
    {
     "name": "stdout",
     "output_type": "stream",
     "text": [
      "⚠️ Warning: /home/santiago/Desktop/GrandMeanNorm/ROISignals/ROISignals_024_S_6033.mat contains NaN/Inf. Not modifying the file.\n"
     ]
    },
    {
     "name": "stderr",
     "output_type": "stream",
     "text": [
      "Processing subjects:  36%|███▋      | 157/432 [02:04<03:44,  1.23it/s]"
     ]
    },
    {
     "name": "stdout",
     "output_type": "stream",
     "text": [
      "⚠️ Warning: /home/santiago/Desktop/GrandMeanNorm/ROISignals/ROISignals_027_S_2219.mat contains NaN/Inf. Not modifying the file.\n"
     ]
    },
    {
     "name": "stderr",
     "output_type": "stream",
     "text": [
      "Processing subjects:  37%|███▋      | 158/432 [02:05<03:38,  1.25it/s]"
     ]
    },
    {
     "name": "stdout",
     "output_type": "stream",
     "text": [
      "⚠️ Warning: /home/santiago/Desktop/GrandMeanNorm/ROISignals/ROISignals_027_S_2245.mat contains NaN/Inf. Not modifying the file.\n"
     ]
    },
    {
     "name": "stderr",
     "output_type": "stream",
     "text": [
      "Processing subjects:  37%|███▋      | 159/432 [02:06<03:30,  1.29it/s]"
     ]
    },
    {
     "name": "stdout",
     "output_type": "stream",
     "text": [
      "⚠️ Warning: /home/santiago/Desktop/GrandMeanNorm/ROISignals/ROISignals_027_S_4869.mat contains NaN/Inf. Not modifying the file.\n"
     ]
    },
    {
     "name": "stderr",
     "output_type": "stream",
     "text": [
      "Processing subjects:  37%|███▋      | 160/432 [02:07<03:27,  1.31it/s]"
     ]
    },
    {
     "name": "stdout",
     "output_type": "stream",
     "text": [
      "⚠️ Warning: /home/santiago/Desktop/GrandMeanNorm/ROISignals/ROISignals_027_S_4919.mat contains NaN/Inf. Not modifying the file.\n"
     ]
    },
    {
     "name": "stderr",
     "output_type": "stream",
     "text": [
      "Processing subjects:  37%|███▋      | 161/432 [02:07<03:24,  1.32it/s]"
     ]
    },
    {
     "name": "stdout",
     "output_type": "stream",
     "text": [
      "⚠️ Warning: /home/santiago/Desktop/GrandMeanNorm/ROISignals/ROISignals_027_S_6648.mat contains NaN/Inf. Not modifying the file.\n"
     ]
    },
    {
     "name": "stderr",
     "output_type": "stream",
     "text": [
      "Processing subjects:  38%|███▊      | 162/432 [02:08<03:32,  1.27it/s]"
     ]
    },
    {
     "name": "stdout",
     "output_type": "stream",
     "text": [
      "⚠️ Warning: /home/santiago/Desktop/GrandMeanNorm/ROISignals/ROISignals_027_S_6733.mat contains NaN/Inf. Not modifying the file.\n"
     ]
    },
    {
     "name": "stderr",
     "output_type": "stream",
     "text": [
      "Processing subjects:  38%|███▊      | 163/432 [02:09<03:31,  1.27it/s]"
     ]
    },
    {
     "name": "stdout",
     "output_type": "stream",
     "text": [
      "⚠️ Warning: /home/santiago/Desktop/GrandMeanNorm/ROISignals/ROISignals_027_S_6849.mat contains NaN/Inf. Not modifying the file.\n"
     ]
    },
    {
     "name": "stderr",
     "output_type": "stream",
     "text": [
      "Processing subjects:  38%|███▊      | 164/432 [02:10<03:34,  1.25it/s]"
     ]
    },
    {
     "name": "stdout",
     "output_type": "stream",
     "text": [
      "⚠️ Warning: /home/santiago/Desktop/GrandMeanNorm/ROISignals/ROISignals_027_S_6965.mat contains NaN/Inf. Not modifying the file.\n"
     ]
    },
    {
     "name": "stderr",
     "output_type": "stream",
     "text": [
      "Processing subjects:  38%|███▊      | 165/432 [02:11<03:33,  1.25it/s]"
     ]
    },
    {
     "name": "stdout",
     "output_type": "stream",
     "text": [
      "⚠️ Warning: /home/santiago/Desktop/GrandMeanNorm/ROISignals/ROISignals_031_S_2018.mat contains NaN/Inf. Not modifying the file.\n"
     ]
    },
    {
     "name": "stderr",
     "output_type": "stream",
     "text": [
      "Processing subjects:  38%|███▊      | 166/432 [02:11<03:31,  1.26it/s]"
     ]
    },
    {
     "name": "stdout",
     "output_type": "stream",
     "text": [
      "⚠️ Warning: /home/santiago/Desktop/GrandMeanNorm/ROISignals/ROISignals_031_S_2022.mat contains NaN/Inf. Not modifying the file.\n"
     ]
    },
    {
     "name": "stderr",
     "output_type": "stream",
     "text": [
      "Processing subjects:  39%|███▊      | 167/432 [02:12<03:31,  1.25it/s]"
     ]
    },
    {
     "name": "stdout",
     "output_type": "stream",
     "text": [
      "⚠️ Warning: /home/santiago/Desktop/GrandMeanNorm/ROISignals/ROISignals_031_S_2233.mat contains NaN/Inf. Not modifying the file.\n"
     ]
    },
    {
     "name": "stderr",
     "output_type": "stream",
     "text": [
      "Processing subjects:  39%|███▉      | 168/432 [02:13<03:26,  1.28it/s]"
     ]
    },
    {
     "name": "stdout",
     "output_type": "stream",
     "text": [
      "⚠️ Warning: /home/santiago/Desktop/GrandMeanNorm/ROISignals/ROISignals_031_S_4005.mat contains NaN/Inf. Not modifying the file.\n"
     ]
    },
    {
     "name": "stderr",
     "output_type": "stream",
     "text": [
      "Processing subjects:  39%|███▉      | 169/432 [02:14<03:24,  1.29it/s]"
     ]
    },
    {
     "name": "stdout",
     "output_type": "stream",
     "text": [
      "⚠️ Warning: /home/santiago/Desktop/GrandMeanNorm/ROISignals/ROISignals_031_S_4024.mat contains NaN/Inf. Not modifying the file.\n"
     ]
    },
    {
     "name": "stderr",
     "output_type": "stream",
     "text": [
      "Processing subjects:  39%|███▉      | 170/432 [02:14<03:22,  1.29it/s]"
     ]
    },
    {
     "name": "stdout",
     "output_type": "stream",
     "text": [
      "⚠️ Warning: /home/santiago/Desktop/GrandMeanNorm/ROISignals/ROISignals_031_S_4029.mat contains NaN/Inf. Not modifying the file.\n"
     ]
    },
    {
     "name": "stderr",
     "output_type": "stream",
     "text": [
      "Processing subjects:  40%|███▉      | 171/432 [02:15<03:21,  1.30it/s]"
     ]
    },
    {
     "name": "stdout",
     "output_type": "stream",
     "text": [
      "⚠️ Warning: /home/santiago/Desktop/GrandMeanNorm/ROISignals/ROISignals_031_S_4032.mat contains NaN/Inf. Not modifying the file.\n"
     ]
    },
    {
     "name": "stderr",
     "output_type": "stream",
     "text": [
      "Processing subjects:  40%|███▉      | 172/432 [02:16<03:28,  1.25it/s]"
     ]
    },
    {
     "name": "stdout",
     "output_type": "stream",
     "text": [
      "⚠️ Warning: /home/santiago/Desktop/GrandMeanNorm/ROISignals/ROISignals_031_S_4042.mat contains NaN/Inf. Not modifying the file.\n"
     ]
    },
    {
     "name": "stderr",
     "output_type": "stream",
     "text": [
      "Processing subjects:  40%|████      | 173/432 [02:17<03:34,  1.21it/s]"
     ]
    },
    {
     "name": "stdout",
     "output_type": "stream",
     "text": [
      "⚠️ Warning: /home/santiago/Desktop/GrandMeanNorm/ROISignals/ROISignals_031_S_4149.mat contains NaN/Inf. Not modifying the file.\n"
     ]
    },
    {
     "name": "stderr",
     "output_type": "stream",
     "text": [
      "Processing subjects:  40%|████      | 174/432 [02:18<03:47,  1.13it/s]"
     ]
    },
    {
     "name": "stdout",
     "output_type": "stream",
     "text": [
      "⚠️ Warning: /home/santiago/Desktop/GrandMeanNorm/ROISignals/ROISignals_031_S_4194.mat contains NaN/Inf. Not modifying the file.\n"
     ]
    },
    {
     "name": "stderr",
     "output_type": "stream",
     "text": [
      "Processing subjects:  41%|████      | 175/432 [02:19<03:41,  1.16it/s]"
     ]
    },
    {
     "name": "stdout",
     "output_type": "stream",
     "text": [
      "⚠️ Warning: /home/santiago/Desktop/GrandMeanNorm/ROISignals/ROISignals_031_S_4203.mat contains NaN/Inf. Not modifying the file.\n"
     ]
    },
    {
     "name": "stderr",
     "output_type": "stream",
     "text": [
      "Processing subjects:  41%|████      | 176/432 [02:20<03:31,  1.21it/s]"
     ]
    },
    {
     "name": "stdout",
     "output_type": "stream",
     "text": [
      "⚠️ Warning: /home/santiago/Desktop/GrandMeanNorm/ROISignals/ROISignals_031_S_4218.mat contains NaN/Inf. Not modifying the file.\n"
     ]
    },
    {
     "name": "stderr",
     "output_type": "stream",
     "text": [
      "Processing subjects:  41%|████      | 177/432 [02:20<03:24,  1.25it/s]"
     ]
    },
    {
     "name": "stdout",
     "output_type": "stream",
     "text": [
      "⚠️ Warning: /home/santiago/Desktop/GrandMeanNorm/ROISignals/ROISignals_031_S_4474.mat contains NaN/Inf. Not modifying the file.\n"
     ]
    },
    {
     "name": "stderr",
     "output_type": "stream",
     "text": [
      "Processing subjects:  41%|████      | 178/432 [02:21<03:28,  1.22it/s]"
     ]
    },
    {
     "name": "stdout",
     "output_type": "stream",
     "text": [
      "⚠️ Warning: /home/santiago/Desktop/GrandMeanNorm/ROISignals/ROISignals_031_S_4476.mat contains NaN/Inf. Not modifying the file.\n"
     ]
    },
    {
     "name": "stderr",
     "output_type": "stream",
     "text": [
      "Processing subjects:  41%|████▏     | 179/432 [02:22<03:21,  1.25it/s]"
     ]
    },
    {
     "name": "stdout",
     "output_type": "stream",
     "text": [
      "⚠️ Warning: /home/santiago/Desktop/GrandMeanNorm/ROISignals/ROISignals_031_S_4496.mat contains NaN/Inf. Not modifying the file.\n"
     ]
    },
    {
     "name": "stderr",
     "output_type": "stream",
     "text": [
      "Processing subjects:  42%|████▏     | 180/432 [02:23<03:20,  1.26it/s]"
     ]
    },
    {
     "name": "stdout",
     "output_type": "stream",
     "text": [
      "⚠️ Warning: /home/santiago/Desktop/GrandMeanNorm/ROISignals/ROISignals_031_S_4590.mat contains NaN/Inf. Not modifying the file.\n"
     ]
    },
    {
     "name": "stderr",
     "output_type": "stream",
     "text": [
      "Processing subjects:  42%|████▏     | 181/432 [02:23<03:18,  1.26it/s]"
     ]
    },
    {
     "name": "stdout",
     "output_type": "stream",
     "text": [
      "⚠️ Warning: /home/santiago/Desktop/GrandMeanNorm/ROISignals/ROISignals_031_S_4721.mat contains NaN/Inf. Not modifying the file.\n"
     ]
    },
    {
     "name": "stderr",
     "output_type": "stream",
     "text": [
      "Processing subjects:  42%|████▏     | 182/432 [02:24<03:18,  1.26it/s]"
     ]
    },
    {
     "name": "stdout",
     "output_type": "stream",
     "text": [
      "⚠️ Warning: /home/santiago/Desktop/GrandMeanNorm/ROISignals/ROISignals_031_S_4947.mat contains NaN/Inf. Not modifying the file.\n"
     ]
    },
    {
     "name": "stderr",
     "output_type": "stream",
     "text": [
      "Processing subjects:  42%|████▏     | 183/432 [02:25<03:15,  1.27it/s]"
     ]
    },
    {
     "name": "stdout",
     "output_type": "stream",
     "text": [
      "⚠️ Warning: /home/santiago/Desktop/GrandMeanNorm/ROISignals/ROISignals_031_S_6715.mat contains NaN/Inf. Not modifying the file.\n"
     ]
    },
    {
     "name": "stderr",
     "output_type": "stream",
     "text": [
      "Processing subjects:  43%|████▎     | 184/432 [02:26<03:16,  1.26it/s]"
     ]
    },
    {
     "name": "stdout",
     "output_type": "stream",
     "text": [
      "⚠️ Warning: /home/santiago/Desktop/GrandMeanNorm/ROISignals/ROISignals_032_S_2119.mat contains NaN/Inf. Not modifying the file.\n"
     ]
    },
    {
     "name": "stderr",
     "output_type": "stream",
     "text": [
      "Processing subjects:  43%|████▎     | 185/432 [02:27<03:21,  1.23it/s]"
     ]
    },
    {
     "name": "stdout",
     "output_type": "stream",
     "text": [
      "⚠️ Warning: /home/santiago/Desktop/GrandMeanNorm/ROISignals/ROISignals_032_S_6055.mat contains NaN/Inf. Not modifying the file.\n"
     ]
    },
    {
     "name": "stderr",
     "output_type": "stream",
     "text": [
      "Processing subjects:  43%|████▎     | 186/432 [02:28<03:20,  1.23it/s]"
     ]
    },
    {
     "name": "stdout",
     "output_type": "stream",
     "text": [
      "⚠️ Warning: /home/santiago/Desktop/GrandMeanNorm/ROISignals/ROISignals_032_S_6600.mat contains NaN/Inf. Not modifying the file.\n"
     ]
    },
    {
     "name": "stderr",
     "output_type": "stream",
     "text": [
      "Processing subjects:  43%|████▎     | 187/432 [02:30<05:26,  1.33s/it]"
     ]
    },
    {
     "name": "stdout",
     "output_type": "stream",
     "text": [
      "⚠️ Warning: /home/santiago/Desktop/GrandMeanNorm/ROISignals/ROISignals_032_S_6602.mat contains NaN/Inf. Not modifying the file.\n"
     ]
    },
    {
     "name": "stderr",
     "output_type": "stream",
     "text": [
      "Processing subjects:  44%|████▎     | 188/432 [02:31<04:46,  1.17s/it]"
     ]
    },
    {
     "name": "stdout",
     "output_type": "stream",
     "text": [
      "⚠️ Warning: /home/santiago/Desktop/GrandMeanNorm/ROISignals/ROISignals_032_S_6700.mat contains NaN/Inf. Not modifying the file.\n"
     ]
    },
    {
     "name": "stderr",
     "output_type": "stream",
     "text": [
      "Processing subjects:  44%|████▍     | 189/432 [02:32<04:17,  1.06s/it]"
     ]
    },
    {
     "name": "stdout",
     "output_type": "stream",
     "text": [
      "⚠️ Warning: /home/santiago/Desktop/GrandMeanNorm/ROISignals/ROISignals_032_S_6804.mat contains NaN/Inf. Not modifying the file.\n"
     ]
    },
    {
     "name": "stderr",
     "output_type": "stream",
     "text": [
      "Processing subjects:  44%|████▍     | 190/432 [02:32<03:53,  1.04it/s]"
     ]
    },
    {
     "name": "stdout",
     "output_type": "stream",
     "text": [
      "⚠️ Warning: /home/santiago/Desktop/GrandMeanNorm/ROISignals/ROISignals_032_S_6855.mat contains NaN/Inf. Not modifying the file.\n"
     ]
    },
    {
     "name": "stderr",
     "output_type": "stream",
     "text": [
      "Processing subjects:  44%|████▍     | 191/432 [02:33<03:33,  1.13it/s]"
     ]
    },
    {
     "name": "stdout",
     "output_type": "stream",
     "text": [
      "⚠️ Warning: /home/santiago/Desktop/GrandMeanNorm/ROISignals/ROISignals_035_S_4114.mat contains NaN/Inf. Not modifying the file.\n"
     ]
    },
    {
     "name": "stderr",
     "output_type": "stream",
     "text": [
      "Processing subjects:  44%|████▍     | 192/432 [02:34<03:25,  1.17it/s]"
     ]
    },
    {
     "name": "stdout",
     "output_type": "stream",
     "text": [
      "⚠️ Warning: /home/santiago/Desktop/GrandMeanNorm/ROISignals/ROISignals_035_S_4414.mat contains NaN/Inf. Not modifying the file.\n"
     ]
    },
    {
     "name": "stderr",
     "output_type": "stream",
     "text": [
      "Processing subjects:  45%|████▍     | 193/432 [02:35<03:18,  1.20it/s]"
     ]
    },
    {
     "name": "stdout",
     "output_type": "stream",
     "text": [
      "⚠️ Warning: /home/santiago/Desktop/GrandMeanNorm/ROISignals/ROISignals_035_S_6380.mat contains NaN/Inf. Not modifying the file.\n"
     ]
    },
    {
     "name": "stderr",
     "output_type": "stream",
     "text": [
      "Processing subjects:  45%|████▍     | 194/432 [02:35<03:13,  1.23it/s]"
     ]
    },
    {
     "name": "stdout",
     "output_type": "stream",
     "text": [
      "⚠️ Warning: /home/santiago/Desktop/GrandMeanNorm/ROISignals/ROISignals_035_S_6480.mat contains NaN/Inf. Not modifying the file.\n"
     ]
    },
    {
     "name": "stderr",
     "output_type": "stream",
     "text": [
      "Processing subjects:  45%|████▌     | 195/432 [02:36<03:12,  1.23it/s]"
     ]
    },
    {
     "name": "stdout",
     "output_type": "stream",
     "text": [
      "⚠️ Warning: /home/santiago/Desktop/GrandMeanNorm/ROISignals/ROISignals_035_S_6641.mat contains NaN/Inf. Not modifying the file.\n"
     ]
    },
    {
     "name": "stderr",
     "output_type": "stream",
     "text": [
      "Processing subjects:  45%|████▌     | 196/432 [02:37<03:07,  1.26it/s]"
     ]
    },
    {
     "name": "stdout",
     "output_type": "stream",
     "text": [
      "⚠️ Warning: /home/santiago/Desktop/GrandMeanNorm/ROISignals/ROISignals_035_S_6650.mat contains NaN/Inf. Not modifying the file.\n"
     ]
    },
    {
     "name": "stderr",
     "output_type": "stream",
     "text": [
      "Processing subjects:  46%|████▌     | 197/432 [02:38<03:04,  1.28it/s]"
     ]
    },
    {
     "name": "stdout",
     "output_type": "stream",
     "text": [
      "⚠️ Warning: /home/santiago/Desktop/GrandMeanNorm/ROISignals/ROISignals_035_S_6660.mat contains NaN/Inf. Not modifying the file.\n"
     ]
    },
    {
     "name": "stderr",
     "output_type": "stream",
     "text": [
      "Processing subjects:  46%|████▌     | 198/432 [02:39<02:59,  1.30it/s]"
     ]
    },
    {
     "name": "stdout",
     "output_type": "stream",
     "text": [
      "⚠️ Warning: /home/santiago/Desktop/GrandMeanNorm/ROISignals/ROISignals_035_S_6947.mat contains NaN/Inf. Not modifying the file.\n"
     ]
    },
    {
     "name": "stderr",
     "output_type": "stream",
     "text": [
      "Processing subjects:  46%|████▌     | 199/432 [02:39<02:57,  1.31it/s]"
     ]
    },
    {
     "name": "stdout",
     "output_type": "stream",
     "text": [
      "⚠️ Warning: /home/santiago/Desktop/GrandMeanNorm/ROISignals/ROISignals_035_S_7000.mat contains NaN/Inf. Not modifying the file.\n"
     ]
    },
    {
     "name": "stderr",
     "output_type": "stream",
     "text": [
      "Processing subjects:  46%|████▋     | 200/432 [02:40<02:59,  1.29it/s]"
     ]
    },
    {
     "name": "stdout",
     "output_type": "stream",
     "text": [
      "⚠️ Warning: /home/santiago/Desktop/GrandMeanNorm/ROISignals/ROISignals_035_S_7001.mat contains NaN/Inf. Not modifying the file.\n"
     ]
    },
    {
     "name": "stderr",
     "output_type": "stream",
     "text": [
      "Processing subjects:  47%|████▋     | 201/432 [02:41<02:55,  1.32it/s]"
     ]
    },
    {
     "name": "stdout",
     "output_type": "stream",
     "text": [
      "⚠️ Warning: /home/santiago/Desktop/GrandMeanNorm/ROISignals/ROISignals_035_S_7021.mat contains NaN/Inf. Not modifying the file.\n"
     ]
    },
    {
     "name": "stderr",
     "output_type": "stream",
     "text": [
      "Processing subjects:  47%|████▋     | 202/432 [02:42<02:57,  1.29it/s]"
     ]
    },
    {
     "name": "stdout",
     "output_type": "stream",
     "text": [
      "⚠️ Warning: /home/santiago/Desktop/GrandMeanNorm/ROISignals/ROISignals_035_S_7049.mat contains NaN/Inf. Not modifying the file.\n"
     ]
    },
    {
     "name": "stderr",
     "output_type": "stream",
     "text": [
      "Processing subjects:  47%|████▋     | 203/432 [02:42<02:59,  1.27it/s]"
     ]
    },
    {
     "name": "stdout",
     "output_type": "stream",
     "text": [
      "⚠️ Warning: /home/santiago/Desktop/GrandMeanNorm/ROISignals/ROISignals_035_S_7073.mat contains NaN/Inf. Not modifying the file.\n"
     ]
    },
    {
     "name": "stderr",
     "output_type": "stream",
     "text": [
      "Processing subjects:  47%|████▋     | 204/432 [02:43<02:53,  1.32it/s]"
     ]
    },
    {
     "name": "stdout",
     "output_type": "stream",
     "text": [
      "⚠️ Warning: /home/santiago/Desktop/GrandMeanNorm/ROISignals/ROISignals_035_S_7105.mat contains NaN/Inf. Not modifying the file.\n"
     ]
    },
    {
     "name": "stderr",
     "output_type": "stream",
     "text": [
      "Processing subjects:  47%|████▋     | 205/432 [02:44<02:55,  1.29it/s]"
     ]
    },
    {
     "name": "stdout",
     "output_type": "stream",
     "text": [
      "⚠️ Warning: /home/santiago/Desktop/GrandMeanNorm/ROISignals/ROISignals_035_S_7120.mat contains NaN/Inf. Not modifying the file.\n"
     ]
    },
    {
     "name": "stderr",
     "output_type": "stream",
     "text": [
      "Processing subjects:  48%|████▊     | 206/432 [02:45<02:53,  1.30it/s]"
     ]
    },
    {
     "name": "stdout",
     "output_type": "stream",
     "text": [
      "⚠️ Warning: /home/santiago/Desktop/GrandMeanNorm/ROISignals/ROISignals_035_S_7121.mat contains NaN/Inf. Not modifying the file.\n"
     ]
    },
    {
     "name": "stderr",
     "output_type": "stream",
     "text": [
      "Processing subjects:  48%|████▊     | 207/432 [02:45<02:52,  1.30it/s]"
     ]
    },
    {
     "name": "stdout",
     "output_type": "stream",
     "text": [
      "⚠️ Warning: /home/santiago/Desktop/GrandMeanNorm/ROISignals/ROISignals_037_S_0150.mat contains NaN/Inf. Not modifying the file.\n"
     ]
    },
    {
     "name": "stderr",
     "output_type": "stream",
     "text": [
      "Processing subjects:  48%|████▊     | 208/432 [02:46<02:51,  1.31it/s]"
     ]
    },
    {
     "name": "stdout",
     "output_type": "stream",
     "text": [
      "⚠️ Warning: /home/santiago/Desktop/GrandMeanNorm/ROISignals/ROISignals_037_S_0377.mat contains NaN/Inf. Not modifying the file.\n"
     ]
    },
    {
     "name": "stderr",
     "output_type": "stream",
     "text": [
      "Processing subjects:  48%|████▊     | 209/432 [02:47<02:49,  1.32it/s]"
     ]
    },
    {
     "name": "stdout",
     "output_type": "stream",
     "text": [
      "⚠️ Warning: /home/santiago/Desktop/GrandMeanNorm/ROISignals/ROISignals_037_S_4030.mat contains NaN/Inf. Not modifying the file.\n"
     ]
    },
    {
     "name": "stderr",
     "output_type": "stream",
     "text": [
      "Processing subjects:  49%|████▊     | 210/432 [02:48<02:51,  1.30it/s]"
     ]
    },
    {
     "name": "stdout",
     "output_type": "stream",
     "text": [
      "⚠️ Warning: /home/santiago/Desktop/GrandMeanNorm/ROISignals/ROISignals_037_S_4214.mat contains NaN/Inf. Not modifying the file.\n"
     ]
    },
    {
     "name": "stderr",
     "output_type": "stream",
     "text": [
      "Processing subjects:  49%|████▉     | 211/432 [02:49<02:53,  1.27it/s]"
     ]
    },
    {
     "name": "stdout",
     "output_type": "stream",
     "text": [
      "⚠️ Warning: /home/santiago/Desktop/GrandMeanNorm/ROISignals/ROISignals_037_S_4302.mat contains NaN/Inf. Not modifying the file.\n"
     ]
    },
    {
     "name": "stderr",
     "output_type": "stream",
     "text": [
      "Processing subjects:  49%|████▉     | 212/432 [02:49<02:49,  1.30it/s]"
     ]
    },
    {
     "name": "stdout",
     "output_type": "stream",
     "text": [
      "⚠️ Warning: /home/santiago/Desktop/GrandMeanNorm/ROISignals/ROISignals_037_S_4706.mat contains NaN/Inf. Not modifying the file.\n"
     ]
    },
    {
     "name": "stderr",
     "output_type": "stream",
     "text": [
      "Processing subjects:  49%|████▉     | 213/432 [02:50<02:51,  1.28it/s]"
     ]
    },
    {
     "name": "stdout",
     "output_type": "stream",
     "text": [
      "⚠️ Warning: /home/santiago/Desktop/GrandMeanNorm/ROISignals/ROISignals_041_S_4051.mat contains NaN/Inf. Not modifying the file.\n"
     ]
    },
    {
     "name": "stderr",
     "output_type": "stream",
     "text": [
      "Processing subjects:  50%|████▉     | 214/432 [02:51<02:50,  1.28it/s]"
     ]
    },
    {
     "name": "stdout",
     "output_type": "stream",
     "text": [
      "⚠️ Warning: /home/santiago/Desktop/GrandMeanNorm/ROISignals/ROISignals_041_S_4143.mat contains NaN/Inf. Not modifying the file.\n"
     ]
    },
    {
     "name": "stderr",
     "output_type": "stream",
     "text": [
      "Processing subjects:  50%|████▉     | 215/432 [02:52<02:57,  1.22it/s]"
     ]
    },
    {
     "name": "stdout",
     "output_type": "stream",
     "text": [
      "⚠️ Warning: /home/santiago/Desktop/GrandMeanNorm/ROISignals/ROISignals_041_S_4271.mat contains NaN/Inf. Not modifying the file.\n"
     ]
    },
    {
     "name": "stderr",
     "output_type": "stream",
     "text": [
      "Processing subjects:  50%|█████     | 216/432 [02:53<02:52,  1.25it/s]"
     ]
    },
    {
     "name": "stdout",
     "output_type": "stream",
     "text": [
      "⚠️ Warning: /home/santiago/Desktop/GrandMeanNorm/ROISignals/ROISignals_041_S_4510.mat contains NaN/Inf. Not modifying the file.\n"
     ]
    },
    {
     "name": "stderr",
     "output_type": "stream",
     "text": [
      "Processing subjects:  50%|█████     | 217/432 [02:53<02:49,  1.27it/s]"
     ]
    },
    {
     "name": "stdout",
     "output_type": "stream",
     "text": [
      "⚠️ Warning: /home/santiago/Desktop/GrandMeanNorm/ROISignals/ROISignals_041_S_4513.mat contains NaN/Inf. Not modifying the file.\n"
     ]
    },
    {
     "name": "stderr",
     "output_type": "stream",
     "text": [
      "Processing subjects:  50%|█████     | 218/432 [02:54<02:48,  1.27it/s]"
     ]
    },
    {
     "name": "stdout",
     "output_type": "stream",
     "text": [
      "⚠️ Warning: /home/santiago/Desktop/GrandMeanNorm/ROISignals/ROISignals_041_S_4874.mat contains NaN/Inf. Not modifying the file.\n"
     ]
    },
    {
     "name": "stderr",
     "output_type": "stream",
     "text": [
      "Processing subjects:  51%|█████     | 219/432 [02:55<02:47,  1.27it/s]"
     ]
    },
    {
     "name": "stdout",
     "output_type": "stream",
     "text": [
      "⚠️ Warning: /home/santiago/Desktop/GrandMeanNorm/ROISignals/ROISignals_041_S_4876.mat contains NaN/Inf. Not modifying the file.\n"
     ]
    },
    {
     "name": "stderr",
     "output_type": "stream",
     "text": [
      "Processing subjects:  51%|█████     | 220/432 [02:56<02:45,  1.28it/s]"
     ]
    },
    {
     "name": "stdout",
     "output_type": "stream",
     "text": [
      "⚠️ Warning: /home/santiago/Desktop/GrandMeanNorm/ROISignals/ROISignals_041_S_4974.mat contains NaN/Inf. Not modifying the file.\n"
     ]
    },
    {
     "name": "stderr",
     "output_type": "stream",
     "text": [
      "Processing subjects:  51%|█████     | 221/432 [02:57<02:50,  1.24it/s]"
     ]
    },
    {
     "name": "stdout",
     "output_type": "stream",
     "text": [
      "⚠️ Warning: /home/santiago/Desktop/GrandMeanNorm/ROISignals/ROISignals_053_S_0919.mat contains NaN/Inf. Not modifying the file.\n"
     ]
    },
    {
     "name": "stderr",
     "output_type": "stream",
     "text": [
      "Processing subjects:  51%|█████▏    | 222/432 [02:57<02:49,  1.24it/s]"
     ]
    },
    {
     "name": "stdout",
     "output_type": "stream",
     "text": [
      "⚠️ Warning: /home/santiago/Desktop/GrandMeanNorm/ROISignals/ROISignals_053_S_2357.mat contains NaN/Inf. Not modifying the file.\n"
     ]
    },
    {
     "name": "stderr",
     "output_type": "stream",
     "text": [
      "Processing subjects:  52%|█████▏    | 223/432 [02:58<02:48,  1.24it/s]"
     ]
    },
    {
     "name": "stdout",
     "output_type": "stream",
     "text": [
      "⚠️ Warning: /home/santiago/Desktop/GrandMeanNorm/ROISignals/ROISignals_053_S_2396.mat contains NaN/Inf. Not modifying the file.\n"
     ]
    },
    {
     "name": "stderr",
     "output_type": "stream",
     "text": [
      "Processing subjects:  52%|█████▏    | 224/432 [02:59<02:48,  1.23it/s]"
     ]
    },
    {
     "name": "stdout",
     "output_type": "stream",
     "text": [
      "⚠️ Warning: /home/santiago/Desktop/GrandMeanNorm/ROISignals/ROISignals_053_S_4557.mat contains NaN/Inf. Not modifying the file.\n"
     ]
    },
    {
     "name": "stderr",
     "output_type": "stream",
     "text": [
      "Processing subjects:  52%|█████▏    | 225/432 [03:00<02:47,  1.23it/s]"
     ]
    },
    {
     "name": "stdout",
     "output_type": "stream",
     "text": [
      "⚠️ Warning: /home/santiago/Desktop/GrandMeanNorm/ROISignals/ROISignals_053_S_4578.mat contains NaN/Inf. Not modifying the file.\n"
     ]
    },
    {
     "name": "stderr",
     "output_type": "stream",
     "text": [
      "Processing subjects:  52%|█████▏    | 226/432 [03:00<02:41,  1.27it/s]"
     ]
    },
    {
     "name": "stdout",
     "output_type": "stream",
     "text": [
      "⚠️ Warning: /home/santiago/Desktop/GrandMeanNorm/ROISignals/ROISignals_053_S_4661.mat contains NaN/Inf. Not modifying the file.\n"
     ]
    },
    {
     "name": "stderr",
     "output_type": "stream",
     "text": [
      "Processing subjects:  53%|█████▎    | 227/432 [03:01<02:38,  1.30it/s]"
     ]
    },
    {
     "name": "stdout",
     "output_type": "stream",
     "text": [
      "⚠️ Warning: /home/santiago/Desktop/GrandMeanNorm/ROISignals/ROISignals_053_S_4813.mat contains NaN/Inf. Not modifying the file.\n"
     ]
    },
    {
     "name": "stderr",
     "output_type": "stream",
     "text": [
      "Processing subjects:  53%|█████▎    | 228/432 [03:02<02:34,  1.32it/s]"
     ]
    },
    {
     "name": "stdout",
     "output_type": "stream",
     "text": [
      "⚠️ Warning: /home/santiago/Desktop/GrandMeanNorm/ROISignals/ROISignals_053_S_5070.mat contains NaN/Inf. Not modifying the file.\n"
     ]
    },
    {
     "name": "stderr",
     "output_type": "stream",
     "text": [
      "Processing subjects:  53%|█████▎    | 229/432 [03:03<02:34,  1.31it/s]"
     ]
    },
    {
     "name": "stdout",
     "output_type": "stream",
     "text": [
      "⚠️ Warning: /home/santiago/Desktop/GrandMeanNorm/ROISignals/ROISignals_053_S_5208.mat contains NaN/Inf. Not modifying the file.\n"
     ]
    },
    {
     "name": "stderr",
     "output_type": "stream",
     "text": [
      "Processing subjects:  53%|█████▎    | 230/432 [03:04<02:36,  1.29it/s]"
     ]
    },
    {
     "name": "stdout",
     "output_type": "stream",
     "text": [
      "⚠️ Warning: /home/santiago/Desktop/GrandMeanNorm/ROISignals/ROISignals_053_S_6598.mat contains NaN/Inf. Not modifying the file.\n"
     ]
    },
    {
     "name": "stderr",
     "output_type": "stream",
     "text": [
      "Processing subjects:  53%|█████▎    | 231/432 [03:04<02:30,  1.34it/s]"
     ]
    },
    {
     "name": "stdout",
     "output_type": "stream",
     "text": [
      "⚠️ Warning: /home/santiago/Desktop/GrandMeanNorm/ROISignals/ROISignals_053_S_6861.mat contains NaN/Inf. Not modifying the file.\n"
     ]
    },
    {
     "name": "stderr",
     "output_type": "stream",
     "text": [
      "Processing subjects:  54%|█████▎    | 232/432 [03:05<02:29,  1.34it/s]"
     ]
    },
    {
     "name": "stdout",
     "output_type": "stream",
     "text": [
      "⚠️ Warning: /home/santiago/Desktop/GrandMeanNorm/ROISignals/ROISignals_053_S_7086.mat contains NaN/Inf. Not modifying the file.\n"
     ]
    },
    {
     "name": "stderr",
     "output_type": "stream",
     "text": [
      "Processing subjects:  54%|█████▍    | 233/432 [03:08<04:49,  1.46s/it]"
     ]
    },
    {
     "name": "stdout",
     "output_type": "stream",
     "text": [
      "⚠️ Warning: /home/santiago/Desktop/GrandMeanNorm/ROISignals/ROISignals_053_S_7109.mat contains NaN/Inf. Not modifying the file.\n"
     ]
    },
    {
     "name": "stderr",
     "output_type": "stream",
     "text": [
      "Processing subjects:  54%|█████▍    | 234/432 [03:09<04:06,  1.25s/it]"
     ]
    },
    {
     "name": "stdout",
     "output_type": "stream",
     "text": [
      "⚠️ Warning: /home/santiago/Desktop/GrandMeanNorm/ROISignals/ROISignals_057_S_6746.mat contains NaN/Inf. Not modifying the file.\n"
     ]
    },
    {
     "name": "stderr",
     "output_type": "stream",
     "text": [
      "Processing subjects:  54%|█████▍    | 235/432 [03:10<03:42,  1.13s/it]"
     ]
    },
    {
     "name": "stdout",
     "output_type": "stream",
     "text": [
      "⚠️ Warning: /home/santiago/Desktop/GrandMeanNorm/ROISignals/ROISignals_057_S_6869.mat contains NaN/Inf. Not modifying the file.\n"
     ]
    },
    {
     "name": "stderr",
     "output_type": "stream",
     "text": [
      "Processing subjects:  55%|█████▍    | 236/432 [03:11<03:30,  1.07s/it]"
     ]
    },
    {
     "name": "stdout",
     "output_type": "stream",
     "text": [
      "⚠️ Warning: /home/santiago/Desktop/GrandMeanNorm/ROISignals/ROISignals_068_S_2184.mat contains NaN/Inf. Not modifying the file.\n"
     ]
    },
    {
     "name": "stderr",
     "output_type": "stream",
     "text": [
      "Processing subjects:  55%|█████▍    | 237/432 [03:12<03:23,  1.04s/it]"
     ]
    },
    {
     "name": "stdout",
     "output_type": "stream",
     "text": [
      "⚠️ Warning: /home/santiago/Desktop/GrandMeanNorm/ROISignals/ROISignals_068_S_2187.mat contains NaN/Inf. Not modifying the file.\n"
     ]
    },
    {
     "name": "stderr",
     "output_type": "stream",
     "text": [
      "Processing subjects:  55%|█████▌    | 238/432 [03:12<03:07,  1.04it/s]"
     ]
    },
    {
     "name": "stdout",
     "output_type": "stream",
     "text": [
      "⚠️ Warning: /home/santiago/Desktop/GrandMeanNorm/ROISignals/ROISignals_068_S_2315.mat contains NaN/Inf. Not modifying the file.\n"
     ]
    },
    {
     "name": "stderr",
     "output_type": "stream",
     "text": [
      "Processing subjects:  55%|█████▌    | 239/432 [03:13<03:12,  1.00it/s]"
     ]
    },
    {
     "name": "stdout",
     "output_type": "stream",
     "text": [
      "⚠️ Warning: /home/santiago/Desktop/GrandMeanNorm/ROISignals/ROISignals_068_S_4061.mat contains NaN/Inf. Not modifying the file.\n"
     ]
    },
    {
     "name": "stderr",
     "output_type": "stream",
     "text": [
      "Processing subjects:  56%|█████▌    | 240/432 [03:14<03:08,  1.02it/s]"
     ]
    },
    {
     "name": "stdout",
     "output_type": "stream",
     "text": [
      "⚠️ Warning: /home/santiago/Desktop/GrandMeanNorm/ROISignals/ROISignals_068_S_4067.mat contains NaN/Inf. Not modifying the file.\n"
     ]
    },
    {
     "name": "stderr",
     "output_type": "stream",
     "text": [
      "Processing subjects:  56%|█████▌    | 241/432 [03:15<03:02,  1.05it/s]"
     ]
    },
    {
     "name": "stdout",
     "output_type": "stream",
     "text": [
      "⚠️ Warning: /home/santiago/Desktop/GrandMeanNorm/ROISignals/ROISignals_068_S_4332.mat contains NaN/Inf. Not modifying the file.\n"
     ]
    },
    {
     "name": "stderr",
     "output_type": "stream",
     "text": [
      "Processing subjects:  56%|█████▌    | 242/432 [03:16<02:57,  1.07it/s]"
     ]
    },
    {
     "name": "stdout",
     "output_type": "stream",
     "text": [
      "⚠️ Warning: /home/santiago/Desktop/GrandMeanNorm/ROISignals/ROISignals_068_S_4431.mat contains NaN/Inf. Not modifying the file.\n"
     ]
    },
    {
     "name": "stderr",
     "output_type": "stream",
     "text": [
      "Processing subjects:  56%|█████▋    | 243/432 [03:17<03:00,  1.05it/s]"
     ]
    },
    {
     "name": "stdout",
     "output_type": "stream",
     "text": [
      "⚠️ Warning: /home/santiago/Desktop/GrandMeanNorm/ROISignals/ROISignals_082_S_2121.mat contains NaN/Inf. Not modifying the file.\n"
     ]
    },
    {
     "name": "stderr",
     "output_type": "stream",
     "text": [
      "Processing subjects:  56%|█████▋    | 244/432 [03:18<03:13,  1.03s/it]"
     ]
    },
    {
     "name": "stdout",
     "output_type": "stream",
     "text": [
      "⚠️ Warning: /home/santiago/Desktop/GrandMeanNorm/ROISignals/ROISignals_082_S_6690.mat contains NaN/Inf. Not modifying the file.\n"
     ]
    },
    {
     "name": "stderr",
     "output_type": "stream",
     "text": [
      "Processing subjects:  57%|█████▋    | 245/432 [03:20<03:20,  1.07s/it]"
     ]
    },
    {
     "name": "stdout",
     "output_type": "stream",
     "text": [
      "⚠️ Warning: /home/santiago/Desktop/GrandMeanNorm/ROISignals/ROISignals_094_S_2201.mat contains NaN/Inf. Not modifying the file.\n"
     ]
    },
    {
     "name": "stderr",
     "output_type": "stream",
     "text": [
      "Processing subjects:  57%|█████▋    | 246/432 [03:21<03:19,  1.07s/it]"
     ]
    },
    {
     "name": "stdout",
     "output_type": "stream",
     "text": [
      "⚠️ Warning: /home/santiago/Desktop/GrandMeanNorm/ROISignals/ROISignals_094_S_2238.mat contains NaN/Inf. Not modifying the file.\n"
     ]
    },
    {
     "name": "stderr",
     "output_type": "stream",
     "text": [
      "Processing subjects:  57%|█████▋    | 247/432 [03:22<03:13,  1.04s/it]"
     ]
    },
    {
     "name": "stdout",
     "output_type": "stream",
     "text": [
      "⚠️ Warning: /home/santiago/Desktop/GrandMeanNorm/ROISignals/ROISignals_098_S_6601.mat contains NaN/Inf. Not modifying the file.\n"
     ]
    },
    {
     "name": "stderr",
     "output_type": "stream",
     "text": [
      "Processing subjects:  57%|█████▋    | 248/432 [03:23<03:13,  1.05s/it]"
     ]
    },
    {
     "name": "stdout",
     "output_type": "stream",
     "text": [
      "⚠️ Warning: /home/santiago/Desktop/GrandMeanNorm/ROISignals/ROISignals_098_S_6655.mat contains NaN/Inf. Not modifying the file.\n"
     ]
    },
    {
     "name": "stderr",
     "output_type": "stream",
     "text": [
      "Processing subjects:  58%|█████▊    | 249/432 [03:24<03:11,  1.05s/it]"
     ]
    },
    {
     "name": "stdout",
     "output_type": "stream",
     "text": [
      "⚠️ Warning: /home/santiago/Desktop/GrandMeanNorm/ROISignals/ROISignals_098_S_6658.mat contains NaN/Inf. Not modifying the file.\n"
     ]
    },
    {
     "name": "stderr",
     "output_type": "stream",
     "text": [
      "Processing subjects:  58%|█████▊    | 250/432 [03:25<03:03,  1.01s/it]"
     ]
    },
    {
     "name": "stdout",
     "output_type": "stream",
     "text": [
      "⚠️ Warning: /home/santiago/Desktop/GrandMeanNorm/ROISignals/ROISignals_099_S_2146.mat contains NaN/Inf. Not modifying the file.\n"
     ]
    },
    {
     "name": "stderr",
     "output_type": "stream",
     "text": [
      "Processing subjects:  58%|█████▊    | 251/432 [03:26<02:55,  1.03it/s]"
     ]
    },
    {
     "name": "stdout",
     "output_type": "stream",
     "text": [
      "⚠️ Warning: /home/santiago/Desktop/GrandMeanNorm/ROISignals/ROISignals_100_S_0069.mat contains NaN/Inf. Not modifying the file.\n"
     ]
    },
    {
     "name": "stderr",
     "output_type": "stream",
     "text": [
      "Processing subjects:  58%|█████▊    | 252/432 [03:27<02:59,  1.00it/s]"
     ]
    },
    {
     "name": "stdout",
     "output_type": "stream",
     "text": [
      "⚠️ Warning: /home/santiago/Desktop/GrandMeanNorm/ROISignals/ROISignals_100_S_1286.mat contains NaN/Inf. Not modifying the file.\n"
     ]
    },
    {
     "name": "stderr",
     "output_type": "stream",
     "text": [
      "Processing subjects:  59%|█████▊    | 253/432 [03:27<02:47,  1.07it/s]"
     ]
    },
    {
     "name": "stdout",
     "output_type": "stream",
     "text": [
      "⚠️ Warning: /home/santiago/Desktop/GrandMeanNorm/ROISignals/ROISignals_100_S_2351.mat contains NaN/Inf. Not modifying the file.\n"
     ]
    },
    {
     "name": "stderr",
     "output_type": "stream",
     "text": [
      "Processing subjects:  59%|█████▉    | 254/432 [03:28<02:39,  1.11it/s]"
     ]
    },
    {
     "name": "stdout",
     "output_type": "stream",
     "text": [
      "⚠️ Warning: /home/santiago/Desktop/GrandMeanNorm/ROISignals/ROISignals_100_S_4469.mat contains NaN/Inf. Not modifying the file.\n"
     ]
    },
    {
     "name": "stderr",
     "output_type": "stream",
     "text": [
      "Processing subjects:  59%|█████▉    | 255/432 [03:29<02:30,  1.17it/s]"
     ]
    },
    {
     "name": "stdout",
     "output_type": "stream",
     "text": [
      "⚠️ Warning: /home/santiago/Desktop/GrandMeanNorm/ROISignals/ROISignals_100_S_4511.mat contains NaN/Inf. Not modifying the file.\n"
     ]
    },
    {
     "name": "stderr",
     "output_type": "stream",
     "text": [
      "Processing subjects:  59%|█████▉    | 256/432 [03:30<02:33,  1.14it/s]"
     ]
    },
    {
     "name": "stdout",
     "output_type": "stream",
     "text": [
      "⚠️ Warning: /home/santiago/Desktop/GrandMeanNorm/ROISignals/ROISignals_100_S_4512.mat contains NaN/Inf. Not modifying the file.\n"
     ]
    },
    {
     "name": "stderr",
     "output_type": "stream",
     "text": [
      "Processing subjects:  59%|█████▉    | 257/432 [03:31<02:30,  1.16it/s]"
     ]
    },
    {
     "name": "stdout",
     "output_type": "stream",
     "text": [
      "⚠️ Warning: /home/santiago/Desktop/GrandMeanNorm/ROISignals/ROISignals_100_S_4556.mat contains NaN/Inf. Not modifying the file.\n"
     ]
    },
    {
     "name": "stderr",
     "output_type": "stream",
     "text": [
      "Processing subjects:  60%|█████▉    | 258/432 [03:32<02:41,  1.08it/s]"
     ]
    },
    {
     "name": "stdout",
     "output_type": "stream",
     "text": [
      "⚠️ Warning: /home/santiago/Desktop/GrandMeanNorm/ROISignals/ROISignals_100_S_4884.mat contains NaN/Inf. Not modifying the file.\n"
     ]
    },
    {
     "name": "stderr",
     "output_type": "stream",
     "text": [
      "Processing subjects:  60%|█████▉    | 259/432 [03:33<02:47,  1.03it/s]"
     ]
    },
    {
     "name": "stdout",
     "output_type": "stream",
     "text": [
      "⚠️ Warning: /home/santiago/Desktop/GrandMeanNorm/ROISignals/ROISignals_100_S_4970.mat contains NaN/Inf. Not modifying the file.\n"
     ]
    },
    {
     "name": "stderr",
     "output_type": "stream",
     "text": [
      "Processing subjects:  60%|██████    | 260/432 [03:34<02:48,  1.02it/s]"
     ]
    },
    {
     "name": "stdout",
     "output_type": "stream",
     "text": [
      "⚠️ Warning: /home/santiago/Desktop/GrandMeanNorm/ROISignals/ROISignals_100_S_5106.mat contains NaN/Inf. Not modifying the file.\n"
     ]
    },
    {
     "name": "stderr",
     "output_type": "stream",
     "text": [
      "Processing subjects:  60%|██████    | 261/432 [03:35<02:55,  1.03s/it]"
     ]
    },
    {
     "name": "stdout",
     "output_type": "stream",
     "text": [
      "⚠️ Warning: /home/santiago/Desktop/GrandMeanNorm/ROISignals/ROISignals_100_S_5246.mat contains NaN/Inf. Not modifying the file.\n"
     ]
    },
    {
     "name": "stderr",
     "output_type": "stream",
     "text": [
      "Processing subjects:  61%|██████    | 262/432 [03:36<02:38,  1.07it/s]"
     ]
    },
    {
     "name": "stdout",
     "output_type": "stream",
     "text": [
      "⚠️ Warning: /home/santiago/Desktop/GrandMeanNorm/ROISignals/ROISignals_100_S_6164.mat contains NaN/Inf. Not modifying the file.\n"
     ]
    },
    {
     "name": "stderr",
     "output_type": "stream",
     "text": [
      "Processing subjects:  61%|██████    | 263/432 [03:36<02:26,  1.15it/s]"
     ]
    },
    {
     "name": "stdout",
     "output_type": "stream",
     "text": [
      "⚠️ Warning: /home/santiago/Desktop/GrandMeanNorm/ROISignals/ROISignals_100_S_6273.mat contains NaN/Inf. Not modifying the file.\n"
     ]
    },
    {
     "name": "stderr",
     "output_type": "stream",
     "text": [
      "Processing subjects:  61%|██████    | 264/432 [03:37<02:19,  1.20it/s]"
     ]
    },
    {
     "name": "stdout",
     "output_type": "stream",
     "text": [
      "⚠️ Warning: /home/santiago/Desktop/GrandMeanNorm/ROISignals/ROISignals_100_S_6308.mat contains NaN/Inf. Not modifying the file.\n"
     ]
    },
    {
     "name": "stderr",
     "output_type": "stream",
     "text": [
      "Processing subjects:  61%|██████▏   | 265/432 [03:38<02:11,  1.27it/s]"
     ]
    },
    {
     "name": "stdout",
     "output_type": "stream",
     "text": [
      "⚠️ Warning: /home/santiago/Desktop/GrandMeanNorm/ROISignals/ROISignals_100_S_6349.mat contains NaN/Inf. Not modifying the file.\n"
     ]
    },
    {
     "name": "stderr",
     "output_type": "stream",
     "text": [
      "Processing subjects:  62%|██████▏   | 266/432 [03:39<02:05,  1.32it/s]"
     ]
    },
    {
     "name": "stdout",
     "output_type": "stream",
     "text": [
      "⚠️ Warning: /home/santiago/Desktop/GrandMeanNorm/ROISignals/ROISignals_100_S_6493.mat contains NaN/Inf. Not modifying the file.\n"
     ]
    },
    {
     "name": "stderr",
     "output_type": "stream",
     "text": [
      "Processing subjects:  62%|██████▏   | 267/432 [03:39<02:01,  1.36it/s]"
     ]
    },
    {
     "name": "stdout",
     "output_type": "stream",
     "text": [
      "⚠️ Warning: /home/santiago/Desktop/GrandMeanNorm/ROISignals/ROISignals_100_S_6578.mat contains NaN/Inf. Not modifying the file.\n"
     ]
    },
    {
     "name": "stderr",
     "output_type": "stream",
     "text": [
      "Processing subjects:  62%|██████▏   | 268/432 [03:40<01:59,  1.37it/s]"
     ]
    },
    {
     "name": "stdout",
     "output_type": "stream",
     "text": [
      "⚠️ Warning: /home/santiago/Desktop/GrandMeanNorm/ROISignals/ROISignals_100_S_6713.mat contains NaN/Inf. Not modifying the file.\n"
     ]
    },
    {
     "name": "stderr",
     "output_type": "stream",
     "text": [
      "Processing subjects:  62%|██████▏   | 269/432 [03:41<01:59,  1.36it/s]"
     ]
    },
    {
     "name": "stdout",
     "output_type": "stream",
     "text": [
      "⚠️ Warning: /home/santiago/Desktop/GrandMeanNorm/ROISignals/ROISignals_109_S_4380.mat contains NaN/Inf. Not modifying the file.\n"
     ]
    },
    {
     "name": "stderr",
     "output_type": "stream",
     "text": [
      "Processing subjects:  62%|██████▎   | 270/432 [03:41<01:58,  1.37it/s]"
     ]
    },
    {
     "name": "stdout",
     "output_type": "stream",
     "text": [
      "⚠️ Warning: /home/santiago/Desktop/GrandMeanNorm/ROISignals/ROISignals_114_S_2392.mat contains NaN/Inf. Not modifying the file.\n"
     ]
    },
    {
     "name": "stderr",
     "output_type": "stream",
     "text": [
      "Processing subjects:  63%|██████▎   | 271/432 [03:42<01:56,  1.38it/s]"
     ]
    },
    {
     "name": "stdout",
     "output_type": "stream",
     "text": [
      "⚠️ Warning: /home/santiago/Desktop/GrandMeanNorm/ROISignals/ROISignals_114_S_4404.mat contains NaN/Inf. Not modifying the file.\n"
     ]
    },
    {
     "name": "stderr",
     "output_type": "stream",
     "text": [
      "Processing subjects:  63%|██████▎   | 272/432 [03:43<01:55,  1.38it/s]"
     ]
    },
    {
     "name": "stdout",
     "output_type": "stream",
     "text": [
      "⚠️ Warning: /home/santiago/Desktop/GrandMeanNorm/ROISignals/ROISignals_114_S_5047.mat contains NaN/Inf. Not modifying the file.\n"
     ]
    },
    {
     "name": "stderr",
     "output_type": "stream",
     "text": [
      "Processing subjects:  63%|██████▎   | 273/432 [03:44<01:56,  1.37it/s]"
     ]
    },
    {
     "name": "stdout",
     "output_type": "stream",
     "text": [
      "⚠️ Warning: /home/santiago/Desktop/GrandMeanNorm/ROISignals/ROISignals_114_S_6347.mat contains NaN/Inf. Not modifying the file.\n"
     ]
    },
    {
     "name": "stderr",
     "output_type": "stream",
     "text": [
      "Processing subjects:  63%|██████▎   | 274/432 [03:44<01:55,  1.37it/s]"
     ]
    },
    {
     "name": "stdout",
     "output_type": "stream",
     "text": [
      "⚠️ Warning: /home/santiago/Desktop/GrandMeanNorm/ROISignals/ROISignals_114_S_6368.mat contains NaN/Inf. Not modifying the file.\n"
     ]
    },
    {
     "name": "stderr",
     "output_type": "stream",
     "text": [
      "Processing subjects:  64%|██████▎   | 275/432 [03:45<01:53,  1.38it/s]"
     ]
    },
    {
     "name": "stdout",
     "output_type": "stream",
     "text": [
      "⚠️ Warning: /home/santiago/Desktop/GrandMeanNorm/ROISignals/ROISignals_114_S_6595.mat contains NaN/Inf. Not modifying the file.\n"
     ]
    },
    {
     "name": "stderr",
     "output_type": "stream",
     "text": [
      "Processing subjects:  64%|██████▍   | 276/432 [03:46<01:51,  1.40it/s]"
     ]
    },
    {
     "name": "stdout",
     "output_type": "stream",
     "text": [
      "⚠️ Warning: /home/santiago/Desktop/GrandMeanNorm/ROISignals/ROISignals_116_S_4199.mat contains NaN/Inf. Not modifying the file.\n"
     ]
    },
    {
     "name": "stderr",
     "output_type": "stream",
     "text": [
      "Processing subjects:  64%|██████▍   | 277/432 [03:46<01:51,  1.39it/s]"
     ]
    },
    {
     "name": "stdout",
     "output_type": "stream",
     "text": [
      "⚠️ Warning: /home/santiago/Desktop/GrandMeanNorm/ROISignals/ROISignals_116_S_6100.mat contains NaN/Inf. Not modifying the file.\n"
     ]
    },
    {
     "name": "stderr",
     "output_type": "stream",
     "text": [
      "Processing subjects:  64%|██████▍   | 278/432 [03:47<01:50,  1.39it/s]"
     ]
    },
    {
     "name": "stdout",
     "output_type": "stream",
     "text": [
      "⚠️ Warning: /home/santiago/Desktop/GrandMeanNorm/ROISignals/ROISignals_116_S_6543.mat contains NaN/Inf. Not modifying the file.\n"
     ]
    },
    {
     "name": "stderr",
     "output_type": "stream",
     "text": [
      "Processing subjects:  65%|██████▍   | 279/432 [03:48<01:50,  1.38it/s]"
     ]
    },
    {
     "name": "stdout",
     "output_type": "stream",
     "text": [
      "⚠️ Warning: /home/santiago/Desktop/GrandMeanNorm/ROISignals/ROISignals_123_S_0072.mat contains NaN/Inf. Not modifying the file.\n"
     ]
    },
    {
     "name": "stderr",
     "output_type": "stream",
     "text": [
      "Processing subjects:  65%|██████▍   | 280/432 [03:49<01:51,  1.37it/s]"
     ]
    },
    {
     "name": "stdout",
     "output_type": "stream",
     "text": [
      "⚠️ Warning: /home/santiago/Desktop/GrandMeanNorm/ROISignals/ROISignals_123_S_0106.mat contains NaN/Inf. Not modifying the file.\n"
     ]
    },
    {
     "name": "stderr",
     "output_type": "stream",
     "text": [
      "Processing subjects:  65%|██████▌   | 281/432 [03:49<01:51,  1.35it/s]"
     ]
    },
    {
     "name": "stdout",
     "output_type": "stream",
     "text": [
      "⚠️ Warning: /home/santiago/Desktop/GrandMeanNorm/ROISignals/ROISignals_123_S_0298.mat contains NaN/Inf. Not modifying the file.\n"
     ]
    },
    {
     "name": "stderr",
     "output_type": "stream",
     "text": [
      "Processing subjects:  65%|██████▌   | 282/432 [03:50<01:48,  1.38it/s]"
     ]
    },
    {
     "name": "stdout",
     "output_type": "stream",
     "text": [
      "⚠️ Warning: /home/santiago/Desktop/GrandMeanNorm/ROISignals/ROISignals_123_S_1300.mat contains NaN/Inf. Not modifying the file.\n"
     ]
    },
    {
     "name": "stderr",
     "output_type": "stream",
     "text": [
      "Processing subjects:  66%|██████▌   | 283/432 [03:51<01:46,  1.40it/s]"
     ]
    },
    {
     "name": "stdout",
     "output_type": "stream",
     "text": [
      "⚠️ Warning: /home/santiago/Desktop/GrandMeanNorm/ROISignals/ROISignals_123_S_4127.mat contains NaN/Inf. Not modifying the file.\n"
     ]
    },
    {
     "name": "stderr",
     "output_type": "stream",
     "text": [
      "Processing subjects:  66%|██████▌   | 284/432 [03:51<01:43,  1.43it/s]"
     ]
    },
    {
     "name": "stdout",
     "output_type": "stream",
     "text": [
      "⚠️ Warning: /home/santiago/Desktop/GrandMeanNorm/ROISignals/ROISignals_123_S_4170.mat contains NaN/Inf. Not modifying the file.\n"
     ]
    },
    {
     "name": "stderr",
     "output_type": "stream",
     "text": [
      "Processing subjects:  66%|██████▌   | 285/432 [03:52<01:41,  1.44it/s]"
     ]
    },
    {
     "name": "stdout",
     "output_type": "stream",
     "text": [
      "⚠️ Warning: /home/santiago/Desktop/GrandMeanNorm/ROISignals/ROISignals_123_S_6118.mat contains NaN/Inf. Not modifying the file.\n"
     ]
    },
    {
     "name": "stderr",
     "output_type": "stream",
     "text": [
      "Processing subjects:  66%|██████▌   | 286/432 [03:53<01:40,  1.45it/s]"
     ]
    },
    {
     "name": "stdout",
     "output_type": "stream",
     "text": [
      "⚠️ Warning: /home/santiago/Desktop/GrandMeanNorm/ROISignals/ROISignals_123_S_6825.mat contains NaN/Inf. Not modifying the file.\n"
     ]
    },
    {
     "name": "stderr",
     "output_type": "stream",
     "text": [
      "Processing subjects:  66%|██████▋   | 287/432 [03:53<01:39,  1.45it/s]"
     ]
    },
    {
     "name": "stdout",
     "output_type": "stream",
     "text": [
      "⚠️ Warning: /home/santiago/Desktop/GrandMeanNorm/ROISignals/ROISignals_123_S_6888.mat contains NaN/Inf. Not modifying the file.\n"
     ]
    },
    {
     "name": "stderr",
     "output_type": "stream",
     "text": [
      "Processing subjects:  67%|██████▋   | 288/432 [03:54<01:39,  1.45it/s]"
     ]
    },
    {
     "name": "stdout",
     "output_type": "stream",
     "text": [
      "⚠️ Warning: /home/santiago/Desktop/GrandMeanNorm/ROISignals/ROISignals_123_S_6891.mat contains NaN/Inf. Not modifying the file.\n"
     ]
    },
    {
     "name": "stderr",
     "output_type": "stream",
     "text": [
      "Processing subjects:  67%|██████▋   | 289/432 [03:55<01:38,  1.44it/s]"
     ]
    },
    {
     "name": "stdout",
     "output_type": "stream",
     "text": [
      "⚠️ Warning: /home/santiago/Desktop/GrandMeanNorm/ROISignals/ROISignals_126_S_4507.mat contains NaN/Inf. Not modifying the file.\n"
     ]
    },
    {
     "name": "stderr",
     "output_type": "stream",
     "text": [
      "Processing subjects:  67%|██████▋   | 290/432 [03:58<03:35,  1.52s/it]"
     ]
    },
    {
     "name": "stdout",
     "output_type": "stream",
     "text": [
      "⚠️ Warning: /home/santiago/Desktop/GrandMeanNorm/ROISignals/ROISignals_126_S_4514.mat contains NaN/Inf. Not modifying the file.\n"
     ]
    },
    {
     "name": "stderr",
     "output_type": "stream",
     "text": [
      "Processing subjects:  67%|██████▋   | 291/432 [03:59<02:57,  1.26s/it]"
     ]
    },
    {
     "name": "stdout",
     "output_type": "stream",
     "text": [
      "⚠️ Warning: /home/santiago/Desktop/GrandMeanNorm/ROISignals/ROISignals_126_S_4891.mat contains NaN/Inf. Not modifying the file.\n"
     ]
    },
    {
     "name": "stderr",
     "output_type": "stream",
     "text": [
      "Processing subjects:  68%|██████▊   | 292/432 [04:00<02:30,  1.08s/it]"
     ]
    },
    {
     "name": "stdout",
     "output_type": "stream",
     "text": [
      "⚠️ Warning: /home/santiago/Desktop/GrandMeanNorm/ROISignals/ROISignals_126_S_4896.mat contains NaN/Inf. Not modifying the file.\n"
     ]
    },
    {
     "name": "stderr",
     "output_type": "stream",
     "text": [
      "Processing subjects:  68%|██████▊   | 293/432 [04:00<02:13,  1.04it/s]"
     ]
    },
    {
     "name": "stdout",
     "output_type": "stream",
     "text": [
      "⚠️ Warning: /home/santiago/Desktop/GrandMeanNorm/ROISignals/ROISignals_126_S_6683.mat contains NaN/Inf. Not modifying the file.\n"
     ]
    },
    {
     "name": "stderr",
     "output_type": "stream",
     "text": [
      "Processing subjects:  68%|██████▊   | 294/432 [04:01<02:00,  1.14it/s]"
     ]
    },
    {
     "name": "stdout",
     "output_type": "stream",
     "text": [
      "⚠️ Warning: /home/santiago/Desktop/GrandMeanNorm/ROISignals/ROISignals_126_S_6721.mat contains NaN/Inf. Not modifying the file.\n"
     ]
    },
    {
     "name": "stderr",
     "output_type": "stream",
     "text": [
      "Processing subjects:  68%|██████▊   | 295/432 [04:02<01:51,  1.23it/s]"
     ]
    },
    {
     "name": "stdout",
     "output_type": "stream",
     "text": [
      "⚠️ Warning: /home/santiago/Desktop/GrandMeanNorm/ROISignals/ROISignals_127_S_2234.mat contains NaN/Inf. Not modifying the file.\n"
     ]
    },
    {
     "name": "stderr",
     "output_type": "stream",
     "text": [
      "Processing subjects:  69%|██████▊   | 296/432 [04:02<01:46,  1.28it/s]"
     ]
    },
    {
     "name": "stdout",
     "output_type": "stream",
     "text": [
      "⚠️ Warning: /home/santiago/Desktop/GrandMeanNorm/ROISignals/ROISignals_127_S_4197.mat contains NaN/Inf. Not modifying the file.\n"
     ]
    },
    {
     "name": "stderr",
     "output_type": "stream",
     "text": [
      "Processing subjects:  69%|██████▉   | 297/432 [04:03<01:41,  1.33it/s]"
     ]
    },
    {
     "name": "stdout",
     "output_type": "stream",
     "text": [
      "⚠️ Warning: /home/santiago/Desktop/GrandMeanNorm/ROISignals/ROISignals_127_S_4210.mat contains NaN/Inf. Not modifying the file.\n"
     ]
    },
    {
     "name": "stderr",
     "output_type": "stream",
     "text": [
      "Processing subjects:  69%|██████▉   | 298/432 [04:04<01:38,  1.36it/s]"
     ]
    },
    {
     "name": "stdout",
     "output_type": "stream",
     "text": [
      "⚠️ Warning: /home/santiago/Desktop/GrandMeanNorm/ROISignals/ROISignals_127_S_4301.mat contains NaN/Inf. Not modifying the file.\n"
     ]
    },
    {
     "name": "stderr",
     "output_type": "stream",
     "text": [
      "Processing subjects:  69%|██████▉   | 299/432 [04:04<01:35,  1.39it/s]"
     ]
    },
    {
     "name": "stdout",
     "output_type": "stream",
     "text": [
      "⚠️ Warning: /home/santiago/Desktop/GrandMeanNorm/ROISignals/ROISignals_127_S_4765.mat contains NaN/Inf. Not modifying the file.\n"
     ]
    },
    {
     "name": "stderr",
     "output_type": "stream",
     "text": [
      "Processing subjects:  69%|██████▉   | 300/432 [04:05<01:33,  1.41it/s]"
     ]
    },
    {
     "name": "stdout",
     "output_type": "stream",
     "text": [
      "⚠️ Warning: /home/santiago/Desktop/GrandMeanNorm/ROISignals/ROISignals_127_S_4928.mat contains NaN/Inf. Not modifying the file.\n"
     ]
    },
    {
     "name": "stderr",
     "output_type": "stream",
     "text": [
      "Processing subjects:  70%|██████▉   | 301/432 [04:06<01:31,  1.44it/s]"
     ]
    },
    {
     "name": "stdout",
     "output_type": "stream",
     "text": [
      "⚠️ Warning: /home/santiago/Desktop/GrandMeanNorm/ROISignals/ROISignals_127_S_6433.mat contains NaN/Inf. Not modifying the file.\n"
     ]
    },
    {
     "name": "stderr",
     "output_type": "stream",
     "text": [
      "Processing subjects:  70%|██████▉   | 302/432 [04:06<01:29,  1.45it/s]"
     ]
    },
    {
     "name": "stdout",
     "output_type": "stream",
     "text": [
      "⚠️ Warning: /home/santiago/Desktop/GrandMeanNorm/ROISignals/ROISignals_127_S_6549.mat contains NaN/Inf. Not modifying the file.\n"
     ]
    },
    {
     "name": "stderr",
     "output_type": "stream",
     "text": [
      "Processing subjects:  70%|███████   | 303/432 [04:07<01:27,  1.47it/s]"
     ]
    },
    {
     "name": "stdout",
     "output_type": "stream",
     "text": [
      "⚠️ Warning: /home/santiago/Desktop/GrandMeanNorm/ROISignals/ROISignals_128_S_2036.mat contains NaN/Inf. Not modifying the file.\n"
     ]
    },
    {
     "name": "stderr",
     "output_type": "stream",
     "text": [
      "Processing subjects:  70%|███████   | 304/432 [04:08<01:27,  1.46it/s]"
     ]
    },
    {
     "name": "stdout",
     "output_type": "stream",
     "text": [
      "⚠️ Warning: /home/santiago/Desktop/GrandMeanNorm/ROISignals/ROISignals_128_S_2123.mat contains NaN/Inf. Not modifying the file.\n"
     ]
    },
    {
     "name": "stderr",
     "output_type": "stream",
     "text": [
      "Processing subjects:  71%|███████   | 305/432 [04:08<01:26,  1.48it/s]"
     ]
    },
    {
     "name": "stdout",
     "output_type": "stream",
     "text": [
      "⚠️ Warning: /home/santiago/Desktop/GrandMeanNorm/ROISignals/ROISignals_128_S_2130.mat contains NaN/Inf. Not modifying the file.\n"
     ]
    },
    {
     "name": "stderr",
     "output_type": "stream",
     "text": [
      "Processing subjects:  71%|███████   | 306/432 [04:09<01:27,  1.44it/s]"
     ]
    },
    {
     "name": "stdout",
     "output_type": "stream",
     "text": [
      "⚠️ Warning: /home/santiago/Desktop/GrandMeanNorm/ROISignals/ROISignals_128_S_2220.mat contains NaN/Inf. Not modifying the file.\n"
     ]
    },
    {
     "name": "stderr",
     "output_type": "stream",
     "text": [
      "Processing subjects:  71%|███████   | 307/432 [04:10<01:26,  1.44it/s]"
     ]
    },
    {
     "name": "stdout",
     "output_type": "stream",
     "text": [
      "⚠️ Warning: /home/santiago/Desktop/GrandMeanNorm/ROISignals/ROISignals_128_S_4842.mat contains NaN/Inf. Not modifying the file.\n"
     ]
    },
    {
     "name": "stderr",
     "output_type": "stream",
     "text": [
      "Processing subjects:  71%|███████▏  | 308/432 [04:11<01:25,  1.44it/s]"
     ]
    },
    {
     "name": "stdout",
     "output_type": "stream",
     "text": [
      "⚠️ Warning: /home/santiago/Desktop/GrandMeanNorm/ROISignals/ROISignals_129_S_2332.mat contains NaN/Inf. Not modifying the file.\n"
     ]
    },
    {
     "name": "stderr",
     "output_type": "stream",
     "text": [
      "Processing subjects:  72%|███████▏  | 309/432 [04:11<01:23,  1.47it/s]"
     ]
    },
    {
     "name": "stdout",
     "output_type": "stream",
     "text": [
      "⚠️ Warning: /home/santiago/Desktop/GrandMeanNorm/ROISignals/ROISignals_129_S_6763.mat contains NaN/Inf. Not modifying the file.\n"
     ]
    },
    {
     "name": "stderr",
     "output_type": "stream",
     "text": [
      "Processing subjects:  72%|███████▏  | 310/432 [04:12<01:21,  1.49it/s]"
     ]
    },
    {
     "name": "stdout",
     "output_type": "stream",
     "text": [
      "⚠️ Warning: /home/santiago/Desktop/GrandMeanNorm/ROISignals/ROISignals_129_S_6784.mat contains NaN/Inf. Not modifying the file.\n"
     ]
    },
    {
     "name": "stderr",
     "output_type": "stream",
     "text": [
      "Processing subjects:  72%|███████▏  | 311/432 [04:13<01:22,  1.47it/s]"
     ]
    },
    {
     "name": "stdout",
     "output_type": "stream",
     "text": [
      "⚠️ Warning: /home/santiago/Desktop/GrandMeanNorm/ROISignals/ROISignals_130_S_0969.mat contains NaN/Inf. Not modifying the file.\n"
     ]
    },
    {
     "name": "stderr",
     "output_type": "stream",
     "text": [
      "Processing subjects:  72%|███████▏  | 312/432 [04:13<01:22,  1.45it/s]"
     ]
    },
    {
     "name": "stdout",
     "output_type": "stream",
     "text": [
      "⚠️ Warning: /home/santiago/Desktop/GrandMeanNorm/ROISignals/ROISignals_130_S_2391.mat contains NaN/Inf. Not modifying the file.\n"
     ]
    },
    {
     "name": "stderr",
     "output_type": "stream",
     "text": [
      "Processing subjects:  72%|███████▏  | 313/432 [04:14<01:21,  1.46it/s]"
     ]
    },
    {
     "name": "stdout",
     "output_type": "stream",
     "text": [
      "⚠️ Warning: /home/santiago/Desktop/GrandMeanNorm/ROISignals/ROISignals_130_S_2402.mat contains NaN/Inf. Not modifying the file.\n"
     ]
    },
    {
     "name": "stderr",
     "output_type": "stream",
     "text": [
      "Processing subjects:  73%|███████▎  | 314/432 [04:15<01:21,  1.46it/s]"
     ]
    },
    {
     "name": "stdout",
     "output_type": "stream",
     "text": [
      "⚠️ Warning: /home/santiago/Desktop/GrandMeanNorm/ROISignals/ROISignals_130_S_2403.mat contains NaN/Inf. Not modifying the file.\n"
     ]
    },
    {
     "name": "stderr",
     "output_type": "stream",
     "text": [
      "Processing subjects:  73%|███████▎  | 315/432 [04:15<01:19,  1.46it/s]"
     ]
    },
    {
     "name": "stdout",
     "output_type": "stream",
     "text": [
      "⚠️ Warning: /home/santiago/Desktop/GrandMeanNorm/ROISignals/ROISignals_130_S_4294.mat contains NaN/Inf. Not modifying the file.\n"
     ]
    },
    {
     "name": "stderr",
     "output_type": "stream",
     "text": [
      "Processing subjects:  73%|███████▎  | 316/432 [04:16<01:19,  1.45it/s]"
     ]
    },
    {
     "name": "stdout",
     "output_type": "stream",
     "text": [
      "⚠️ Warning: /home/santiago/Desktop/GrandMeanNorm/ROISignals/ROISignals_130_S_4343.mat contains NaN/Inf. Not modifying the file.\n"
     ]
    },
    {
     "name": "stderr",
     "output_type": "stream",
     "text": [
      "Processing subjects:  73%|███████▎  | 317/432 [04:17<01:18,  1.47it/s]"
     ]
    },
    {
     "name": "stdout",
     "output_type": "stream",
     "text": [
      "⚠️ Warning: /home/santiago/Desktop/GrandMeanNorm/ROISignals/ROISignals_130_S_4352.mat contains NaN/Inf. Not modifying the file.\n"
     ]
    },
    {
     "name": "stderr",
     "output_type": "stream",
     "text": [
      "Processing subjects:  74%|███████▎  | 318/432 [04:17<01:16,  1.49it/s]"
     ]
    },
    {
     "name": "stdout",
     "output_type": "stream",
     "text": [
      "⚠️ Warning: /home/santiago/Desktop/GrandMeanNorm/ROISignals/ROISignals_130_S_4405.mat contains NaN/Inf. Not modifying the file.\n"
     ]
    },
    {
     "name": "stderr",
     "output_type": "stream",
     "text": [
      "Processing subjects:  74%|███████▍  | 319/432 [04:18<01:15,  1.49it/s]"
     ]
    },
    {
     "name": "stdout",
     "output_type": "stream",
     "text": [
      "⚠️ Warning: /home/santiago/Desktop/GrandMeanNorm/ROISignals/ROISignals_130_S_4415.mat contains NaN/Inf. Not modifying the file.\n"
     ]
    },
    {
     "name": "stderr",
     "output_type": "stream",
     "text": [
      "Processing subjects:  74%|███████▍  | 320/432 [04:19<01:17,  1.45it/s]"
     ]
    },
    {
     "name": "stdout",
     "output_type": "stream",
     "text": [
      "⚠️ Warning: /home/santiago/Desktop/GrandMeanNorm/ROISignals/ROISignals_130_S_4417.mat contains NaN/Inf. Not modifying the file.\n"
     ]
    },
    {
     "name": "stderr",
     "output_type": "stream",
     "text": [
      "Processing subjects:  74%|███████▍  | 321/432 [04:19<01:15,  1.46it/s]"
     ]
    },
    {
     "name": "stdout",
     "output_type": "stream",
     "text": [
      "⚠️ Warning: /home/santiago/Desktop/GrandMeanNorm/ROISignals/ROISignals_130_S_4468.mat contains NaN/Inf. Not modifying the file.\n"
     ]
    },
    {
     "name": "stderr",
     "output_type": "stream",
     "text": [
      "Processing subjects:  75%|███████▍  | 322/432 [04:20<01:15,  1.46it/s]"
     ]
    },
    {
     "name": "stdout",
     "output_type": "stream",
     "text": [
      "⚠️ Warning: /home/santiago/Desktop/GrandMeanNorm/ROISignals/ROISignals_130_S_4542.mat contains NaN/Inf. Not modifying the file.\n"
     ]
    },
    {
     "name": "stderr",
     "output_type": "stream",
     "text": [
      "Processing subjects:  75%|███████▍  | 323/432 [04:21<01:13,  1.48it/s]"
     ]
    },
    {
     "name": "stdout",
     "output_type": "stream",
     "text": [
      "⚠️ Warning: /home/santiago/Desktop/GrandMeanNorm/ROISignals/ROISignals_130_S_4589.mat contains NaN/Inf. Not modifying the file.\n"
     ]
    },
    {
     "name": "stderr",
     "output_type": "stream",
     "text": [
      "Processing subjects:  75%|███████▌  | 324/432 [04:21<01:11,  1.50it/s]"
     ]
    },
    {
     "name": "stdout",
     "output_type": "stream",
     "text": [
      "⚠️ Warning: /home/santiago/Desktop/GrandMeanNorm/ROISignals/ROISignals_130_S_4605.mat contains NaN/Inf. Not modifying the file.\n"
     ]
    },
    {
     "name": "stderr",
     "output_type": "stream",
     "text": [
      "Processing subjects:  75%|███████▌  | 325/432 [04:22<01:11,  1.50it/s]"
     ]
    },
    {
     "name": "stdout",
     "output_type": "stream",
     "text": [
      "⚠️ Warning: /home/santiago/Desktop/GrandMeanNorm/ROISignals/ROISignals_130_S_4641.mat contains NaN/Inf. Not modifying the file.\n"
     ]
    },
    {
     "name": "stderr",
     "output_type": "stream",
     "text": [
      "Processing subjects:  75%|███████▌  | 326/432 [04:23<01:10,  1.51it/s]"
     ]
    },
    {
     "name": "stdout",
     "output_type": "stream",
     "text": [
      "⚠️ Warning: /home/santiago/Desktop/GrandMeanNorm/ROISignals/ROISignals_130_S_4660.mat contains NaN/Inf. Not modifying the file.\n"
     ]
    },
    {
     "name": "stderr",
     "output_type": "stream",
     "text": [
      "Processing subjects:  76%|███████▌  | 327/432 [04:23<01:11,  1.48it/s]"
     ]
    },
    {
     "name": "stdout",
     "output_type": "stream",
     "text": [
      "⚠️ Warning: /home/santiago/Desktop/GrandMeanNorm/ROISignals/ROISignals_130_S_4730.mat contains NaN/Inf. Not modifying the file.\n"
     ]
    },
    {
     "name": "stderr",
     "output_type": "stream",
     "text": [
      "Processing subjects:  76%|███████▌  | 328/432 [04:24<01:10,  1.48it/s]"
     ]
    },
    {
     "name": "stdout",
     "output_type": "stream",
     "text": [
      "⚠️ Warning: /home/santiago/Desktop/GrandMeanNorm/ROISignals/ROISignals_130_S_4817.mat contains NaN/Inf. Not modifying the file.\n"
     ]
    },
    {
     "name": "stderr",
     "output_type": "stream",
     "text": [
      "Processing subjects:  76%|███████▌  | 329/432 [04:25<01:09,  1.48it/s]"
     ]
    },
    {
     "name": "stdout",
     "output_type": "stream",
     "text": [
      "⚠️ Warning: /home/santiago/Desktop/GrandMeanNorm/ROISignals/ROISignals_130_S_4883.mat contains NaN/Inf. Not modifying the file.\n"
     ]
    },
    {
     "name": "stderr",
     "output_type": "stream",
     "text": [
      "Processing subjects:  76%|███████▋  | 330/432 [04:25<01:09,  1.46it/s]"
     ]
    },
    {
     "name": "stdout",
     "output_type": "stream",
     "text": [
      "⚠️ Warning: /home/santiago/Desktop/GrandMeanNorm/ROISignals/ROISignals_130_S_4925.mat contains NaN/Inf. Not modifying the file.\n"
     ]
    },
    {
     "name": "stderr",
     "output_type": "stream",
     "text": [
      "Processing subjects:  77%|███████▋  | 331/432 [04:26<01:09,  1.45it/s]"
     ]
    },
    {
     "name": "stdout",
     "output_type": "stream",
     "text": [
      "⚠️ Warning: /home/santiago/Desktop/GrandMeanNorm/ROISignals/ROISignals_130_S_4971.mat contains NaN/Inf. Not modifying the file.\n"
     ]
    },
    {
     "name": "stderr",
     "output_type": "stream",
     "text": [
      "Processing subjects:  77%|███████▋  | 332/432 [04:27<01:09,  1.44it/s]"
     ]
    },
    {
     "name": "stdout",
     "output_type": "stream",
     "text": [
      "⚠️ Warning: /home/santiago/Desktop/GrandMeanNorm/ROISignals/ROISignals_130_S_4982.mat contains NaN/Inf. Not modifying the file.\n"
     ]
    },
    {
     "name": "stderr",
     "output_type": "stream",
     "text": [
      "Processing subjects:  77%|███████▋  | 333/432 [04:28<01:08,  1.44it/s]"
     ]
    },
    {
     "name": "stdout",
     "output_type": "stream",
     "text": [
      "⚠️ Warning: /home/santiago/Desktop/GrandMeanNorm/ROISignals/ROISignals_130_S_4984.mat contains NaN/Inf. Not modifying the file.\n"
     ]
    },
    {
     "name": "stderr",
     "output_type": "stream",
     "text": [
      "Processing subjects:  77%|███████▋  | 334/432 [04:28<01:09,  1.40it/s]"
     ]
    },
    {
     "name": "stdout",
     "output_type": "stream",
     "text": [
      "⚠️ Warning: /home/santiago/Desktop/GrandMeanNorm/ROISignals/ROISignals_130_S_4990.mat contains NaN/Inf. Not modifying the file.\n"
     ]
    },
    {
     "name": "stderr",
     "output_type": "stream",
     "text": [
      "Processing subjects:  78%|███████▊  | 335/432 [04:29<01:09,  1.39it/s]"
     ]
    },
    {
     "name": "stdout",
     "output_type": "stream",
     "text": [
      "⚠️ Warning: /home/santiago/Desktop/GrandMeanNorm/ROISignals/ROISignals_130_S_4997.mat contains NaN/Inf. Not modifying the file.\n"
     ]
    },
    {
     "name": "stderr",
     "output_type": "stream",
     "text": [
      "Processing subjects:  78%|███████▊  | 336/432 [04:30<01:08,  1.41it/s]"
     ]
    },
    {
     "name": "stdout",
     "output_type": "stream",
     "text": [
      "⚠️ Warning: /home/santiago/Desktop/GrandMeanNorm/ROISignals/ROISignals_130_S_5006.mat contains NaN/Inf. Not modifying the file.\n"
     ]
    },
    {
     "name": "stderr",
     "output_type": "stream",
     "text": [
      "Processing subjects:  78%|███████▊  | 337/432 [04:30<01:07,  1.41it/s]"
     ]
    },
    {
     "name": "stdout",
     "output_type": "stream",
     "text": [
      "⚠️ Warning: /home/santiago/Desktop/GrandMeanNorm/ROISignals/ROISignals_130_S_5059.mat contains NaN/Inf. Not modifying the file.\n"
     ]
    },
    {
     "name": "stderr",
     "output_type": "stream",
     "text": [
      "Processing subjects:  78%|███████▊  | 338/432 [04:31<01:05,  1.43it/s]"
     ]
    },
    {
     "name": "stdout",
     "output_type": "stream",
     "text": [
      "⚠️ Warning: /home/santiago/Desktop/GrandMeanNorm/ROISignals/ROISignals_130_S_6019.mat contains NaN/Inf. Not modifying the file.\n"
     ]
    },
    {
     "name": "stderr",
     "output_type": "stream",
     "text": [
      "Processing subjects:  78%|███████▊  | 339/432 [04:32<01:05,  1.43it/s]"
     ]
    },
    {
     "name": "stdout",
     "output_type": "stream",
     "text": [
      "⚠️ Warning: /home/santiago/Desktop/GrandMeanNorm/ROISignals/ROISignals_130_S_6027.mat contains NaN/Inf. Not modifying the file.\n"
     ]
    },
    {
     "name": "stderr",
     "output_type": "stream",
     "text": [
      "Processing subjects:  79%|███████▊  | 340/432 [04:33<01:04,  1.43it/s]"
     ]
    },
    {
     "name": "stdout",
     "output_type": "stream",
     "text": [
      "⚠️ Warning: /home/santiago/Desktop/GrandMeanNorm/ROISignals/ROISignals_130_S_6035.mat contains NaN/Inf. Not modifying the file.\n"
     ]
    },
    {
     "name": "stderr",
     "output_type": "stream",
     "text": [
      "Processing subjects:  79%|███████▉  | 341/432 [04:33<01:03,  1.43it/s]"
     ]
    },
    {
     "name": "stdout",
     "output_type": "stream",
     "text": [
      "⚠️ Warning: /home/santiago/Desktop/GrandMeanNorm/ROISignals/ROISignals_130_S_6037.mat contains NaN/Inf. Not modifying the file.\n"
     ]
    },
    {
     "name": "stderr",
     "output_type": "stream",
     "text": [
      "Processing subjects:  79%|███████▉  | 342/432 [04:34<01:03,  1.42it/s]"
     ]
    },
    {
     "name": "stdout",
     "output_type": "stream",
     "text": [
      "⚠️ Warning: /home/santiago/Desktop/GrandMeanNorm/ROISignals/ROISignals_130_S_6043.mat contains NaN/Inf. Not modifying the file.\n"
     ]
    },
    {
     "name": "stderr",
     "output_type": "stream",
     "text": [
      "Processing subjects:  79%|███████▉  | 343/432 [04:35<01:05,  1.37it/s]"
     ]
    },
    {
     "name": "stdout",
     "output_type": "stream",
     "text": [
      "⚠️ Warning: /home/santiago/Desktop/GrandMeanNorm/ROISignals/ROISignals_130_S_6047.mat contains NaN/Inf. Not modifying the file.\n"
     ]
    },
    {
     "name": "stderr",
     "output_type": "stream",
     "text": [
      "Processing subjects:  80%|███████▉  | 344/432 [04:35<01:03,  1.39it/s]"
     ]
    },
    {
     "name": "stdout",
     "output_type": "stream",
     "text": [
      "⚠️ Warning: /home/santiago/Desktop/GrandMeanNorm/ROISignals/ROISignals_130_S_6072.mat contains NaN/Inf. Not modifying the file.\n"
     ]
    },
    {
     "name": "stderr",
     "output_type": "stream",
     "text": [
      "Processing subjects:  80%|███████▉  | 345/432 [04:36<01:01,  1.41it/s]"
     ]
    },
    {
     "name": "stdout",
     "output_type": "stream",
     "text": [
      "⚠️ Warning: /home/santiago/Desktop/GrandMeanNorm/ROISignals/ROISignals_130_S_6105.mat contains NaN/Inf. Not modifying the file.\n"
     ]
    },
    {
     "name": "stderr",
     "output_type": "stream",
     "text": [
      "Processing subjects:  80%|████████  | 346/432 [04:37<01:00,  1.41it/s]"
     ]
    },
    {
     "name": "stdout",
     "output_type": "stream",
     "text": [
      "⚠️ Warning: /home/santiago/Desktop/GrandMeanNorm/ROISignals/ROISignals_130_S_6111.mat contains NaN/Inf. Not modifying the file.\n"
     ]
    },
    {
     "name": "stderr",
     "output_type": "stream",
     "text": [
      "Processing subjects:  80%|████████  | 347/432 [04:38<01:00,  1.41it/s]"
     ]
    },
    {
     "name": "stdout",
     "output_type": "stream",
     "text": [
      "⚠️ Warning: /home/santiago/Desktop/GrandMeanNorm/ROISignals/ROISignals_130_S_6137.mat contains NaN/Inf. Not modifying the file.\n"
     ]
    },
    {
     "name": "stderr",
     "output_type": "stream",
     "text": [
      "Processing subjects:  81%|████████  | 348/432 [04:38<00:59,  1.41it/s]"
     ]
    },
    {
     "name": "stdout",
     "output_type": "stream",
     "text": [
      "⚠️ Warning: /home/santiago/Desktop/GrandMeanNorm/ROISignals/ROISignals_130_S_6161.mat contains NaN/Inf. Not modifying the file.\n"
     ]
    },
    {
     "name": "stderr",
     "output_type": "stream",
     "text": [
      "Processing subjects:  81%|████████  | 349/432 [04:39<00:59,  1.40it/s]"
     ]
    },
    {
     "name": "stdout",
     "output_type": "stream",
     "text": [
      "⚠️ Warning: /home/santiago/Desktop/GrandMeanNorm/ROISignals/ROISignals_130_S_6319.mat contains NaN/Inf. Not modifying the file.\n"
     ]
    },
    {
     "name": "stderr",
     "output_type": "stream",
     "text": [
      "Processing subjects:  81%|████████  | 350/432 [04:40<00:58,  1.41it/s]"
     ]
    },
    {
     "name": "stdout",
     "output_type": "stream",
     "text": [
      "⚠️ Warning: /home/santiago/Desktop/GrandMeanNorm/ROISignals/ROISignals_130_S_6361.mat contains NaN/Inf. Not modifying the file.\n"
     ]
    },
    {
     "name": "stderr",
     "output_type": "stream",
     "text": [
      "Processing subjects:  81%|████████▏ | 351/432 [04:40<00:58,  1.39it/s]"
     ]
    },
    {
     "name": "stdout",
     "output_type": "stream",
     "text": [
      "⚠️ Warning: /home/santiago/Desktop/GrandMeanNorm/ROISignals/ROISignals_130_S_6372.mat contains NaN/Inf. Not modifying the file.\n"
     ]
    },
    {
     "name": "stderr",
     "output_type": "stream",
     "text": [
      "Processing subjects:  81%|████████▏ | 352/432 [04:41<00:57,  1.40it/s]"
     ]
    },
    {
     "name": "stdout",
     "output_type": "stream",
     "text": [
      "⚠️ Warning: /home/santiago/Desktop/GrandMeanNorm/ROISignals/ROISignals_130_S_6388.mat contains NaN/Inf. Not modifying the file.\n"
     ]
    },
    {
     "name": "stderr",
     "output_type": "stream",
     "text": [
      "Processing subjects:  82%|████████▏ | 353/432 [04:42<00:56,  1.39it/s]"
     ]
    },
    {
     "name": "stdout",
     "output_type": "stream",
     "text": [
      "⚠️ Warning: /home/santiago/Desktop/GrandMeanNorm/ROISignals/ROISignals_130_S_6390.mat contains NaN/Inf. Not modifying the file.\n"
     ]
    },
    {
     "name": "stderr",
     "output_type": "stream",
     "text": [
      "Processing subjects:  82%|████████▏ | 354/432 [04:43<00:55,  1.40it/s]"
     ]
    },
    {
     "name": "stdout",
     "output_type": "stream",
     "text": [
      "⚠️ Warning: /home/santiago/Desktop/GrandMeanNorm/ROISignals/ROISignals_130_S_6391.mat contains NaN/Inf. Not modifying the file.\n"
     ]
    },
    {
     "name": "stderr",
     "output_type": "stream",
     "text": [
      "Processing subjects:  82%|████████▏ | 355/432 [04:43<00:55,  1.40it/s]"
     ]
    },
    {
     "name": "stdout",
     "output_type": "stream",
     "text": [
      "⚠️ Warning: /home/santiago/Desktop/GrandMeanNorm/ROISignals/ROISignals_130_S_6469.mat contains NaN/Inf. Not modifying the file.\n"
     ]
    },
    {
     "name": "stderr",
     "output_type": "stream",
     "text": [
      "Processing subjects:  82%|████████▏ | 356/432 [04:44<00:58,  1.31it/s]"
     ]
    },
    {
     "name": "stdout",
     "output_type": "stream",
     "text": [
      "⚠️ Warning: /home/santiago/Desktop/GrandMeanNorm/ROISignals/ROISignals_130_S_6558.mat contains NaN/Inf. Not modifying the file.\n"
     ]
    },
    {
     "name": "stderr",
     "output_type": "stream",
     "text": [
      "Processing subjects:  83%|████████▎ | 357/432 [04:45<01:02,  1.19it/s]"
     ]
    },
    {
     "name": "stdout",
     "output_type": "stream",
     "text": [
      "⚠️ Warning: /home/santiago/Desktop/GrandMeanNorm/ROISignals/ROISignals_130_S_6604.mat contains NaN/Inf. Not modifying the file.\n"
     ]
    },
    {
     "name": "stderr",
     "output_type": "stream",
     "text": [
      "Processing subjects:  83%|████████▎ | 358/432 [04:46<00:58,  1.27it/s]"
     ]
    },
    {
     "name": "stdout",
     "output_type": "stream",
     "text": [
      "⚠️ Warning: /home/santiago/Desktop/GrandMeanNorm/ROISignals/ROISignals_130_S_6611.mat contains NaN/Inf. Not modifying the file.\n"
     ]
    },
    {
     "name": "stderr",
     "output_type": "stream",
     "text": [
      "Processing subjects:  83%|████████▎ | 359/432 [04:47<01:00,  1.20it/s]"
     ]
    },
    {
     "name": "stdout",
     "output_type": "stream",
     "text": [
      "⚠️ Warning: /home/santiago/Desktop/GrandMeanNorm/ROISignals/ROISignals_130_S_6612.mat contains NaN/Inf. Not modifying the file.\n"
     ]
    },
    {
     "name": "stderr",
     "output_type": "stream",
     "text": [
      "Processing subjects:  83%|████████▎ | 360/432 [04:51<02:19,  1.93s/it]"
     ]
    },
    {
     "name": "stdout",
     "output_type": "stream",
     "text": [
      "⚠️ Warning: /home/santiago/Desktop/GrandMeanNorm/ROISignals/ROISignals_130_S_6639.mat contains NaN/Inf. Not modifying the file.\n"
     ]
    },
    {
     "name": "stderr",
     "output_type": "stream",
     "text": [
      "Processing subjects:  84%|████████▎ | 361/432 [04:52<01:50,  1.56s/it]"
     ]
    },
    {
     "name": "stdout",
     "output_type": "stream",
     "text": [
      "⚠️ Warning: /home/santiago/Desktop/GrandMeanNorm/ROISignals/ROISignals_130_S_6646.mat contains NaN/Inf. Not modifying the file.\n"
     ]
    },
    {
     "name": "stderr",
     "output_type": "stream",
     "text": [
      "Processing subjects:  84%|████████▍ | 362/432 [04:53<01:30,  1.30s/it]"
     ]
    },
    {
     "name": "stdout",
     "output_type": "stream",
     "text": [
      "⚠️ Warning: /home/santiago/Desktop/GrandMeanNorm/ROISignals/ROISignals_130_S_6823.mat contains NaN/Inf. Not modifying the file.\n"
     ]
    },
    {
     "name": "stderr",
     "output_type": "stream",
     "text": [
      "Processing subjects:  84%|████████▍ | 363/432 [04:53<01:16,  1.10s/it]"
     ]
    },
    {
     "name": "stdout",
     "output_type": "stream",
     "text": [
      "⚠️ Warning: /home/santiago/Desktop/GrandMeanNorm/ROISignals/ROISignals_131_S_0384.mat contains NaN/Inf. Not modifying the file.\n"
     ]
    },
    {
     "name": "stderr",
     "output_type": "stream",
     "text": [
      "Processing subjects:  84%|████████▍ | 364/432 [04:54<01:08,  1.01s/it]"
     ]
    },
    {
     "name": "stdout",
     "output_type": "stream",
     "text": [
      "⚠️ Warning: /home/santiago/Desktop/GrandMeanNorm/ROISignals/ROISignals_131_S_5138.mat contains NaN/Inf. Not modifying the file.\n"
     ]
    },
    {
     "name": "stderr",
     "output_type": "stream",
     "text": [
      "Processing subjects:  84%|████████▍ | 365/432 [04:55<01:04,  1.04it/s]"
     ]
    },
    {
     "name": "stdout",
     "output_type": "stream",
     "text": [
      "⚠️ Warning: /home/santiago/Desktop/GrandMeanNorm/ROISignals/ROISignals_131_S_6143.mat contains NaN/Inf. Not modifying the file.\n"
     ]
    },
    {
     "name": "stderr",
     "output_type": "stream",
     "text": [
      "Processing subjects:  85%|████████▍ | 366/432 [04:56<00:58,  1.13it/s]"
     ]
    },
    {
     "name": "stdout",
     "output_type": "stream",
     "text": [
      "⚠️ Warning: /home/santiago/Desktop/GrandMeanNorm/ROISignals/ROISignals_131_S_6616.mat contains NaN/Inf. Not modifying the file.\n"
     ]
    },
    {
     "name": "stderr",
     "output_type": "stream",
     "text": [
      "Processing subjects:  85%|████████▍ | 367/432 [04:56<00:53,  1.22it/s]"
     ]
    },
    {
     "name": "stdout",
     "output_type": "stream",
     "text": [
      "⚠️ Warning: /home/santiago/Desktop/GrandMeanNorm/ROISignals/ROISignals_131_S_7032.mat contains NaN/Inf. Not modifying the file.\n"
     ]
    },
    {
     "name": "stderr",
     "output_type": "stream",
     "text": [
      "Processing subjects:  85%|████████▌ | 368/432 [04:57<00:50,  1.28it/s]"
     ]
    },
    {
     "name": "stdout",
     "output_type": "stream",
     "text": [
      "⚠️ Warning: /home/santiago/Desktop/GrandMeanNorm/ROISignals/ROISignals_135_S_4356.mat contains NaN/Inf. Not modifying the file.\n"
     ]
    },
    {
     "name": "stderr",
     "output_type": "stream",
     "text": [
      "Processing subjects:  85%|████████▌ | 369/432 [04:58<00:47,  1.32it/s]"
     ]
    },
    {
     "name": "stdout",
     "output_type": "stream",
     "text": [
      "⚠️ Warning: /home/santiago/Desktop/GrandMeanNorm/ROISignals/ROISignals_135_S_4489.mat contains NaN/Inf. Not modifying the file.\n"
     ]
    },
    {
     "name": "stderr",
     "output_type": "stream",
     "text": [
      "Processing subjects:  86%|████████▌ | 370/432 [04:58<00:46,  1.34it/s]"
     ]
    },
    {
     "name": "stdout",
     "output_type": "stream",
     "text": [
      "⚠️ Warning: /home/santiago/Desktop/GrandMeanNorm/ROISignals/ROISignals_135_S_4722.mat contains NaN/Inf. Not modifying the file.\n"
     ]
    },
    {
     "name": "stderr",
     "output_type": "stream",
     "text": [
      "Processing subjects:  86%|████████▌ | 371/432 [04:59<00:44,  1.36it/s]"
     ]
    },
    {
     "name": "stdout",
     "output_type": "stream",
     "text": [
      "⚠️ Warning: /home/santiago/Desktop/GrandMeanNorm/ROISignals/ROISignals_135_S_4723.mat contains NaN/Inf. Not modifying the file.\n"
     ]
    },
    {
     "name": "stderr",
     "output_type": "stream",
     "text": [
      "Processing subjects:  86%|████████▌ | 372/432 [05:00<00:43,  1.38it/s]"
     ]
    },
    {
     "name": "stdout",
     "output_type": "stream",
     "text": [
      "⚠️ Warning: /home/santiago/Desktop/GrandMeanNorm/ROISignals/ROISignals_135_S_6284.mat contains NaN/Inf. Not modifying the file.\n"
     ]
    },
    {
     "name": "stderr",
     "output_type": "stream",
     "text": [
      "Processing subjects:  86%|████████▋ | 373/432 [05:01<00:43,  1.36it/s]"
     ]
    },
    {
     "name": "stdout",
     "output_type": "stream",
     "text": [
      "⚠️ Warning: /home/santiago/Desktop/GrandMeanNorm/ROISignals/ROISignals_135_S_6389.mat contains NaN/Inf. Not modifying the file.\n"
     ]
    },
    {
     "name": "stderr",
     "output_type": "stream",
     "text": [
      "Processing subjects:  87%|████████▋ | 374/432 [05:01<00:42,  1.36it/s]"
     ]
    },
    {
     "name": "stdout",
     "output_type": "stream",
     "text": [
      "⚠️ Warning: /home/santiago/Desktop/GrandMeanNorm/ROISignals/ROISignals_135_S_6545.mat contains NaN/Inf. Not modifying the file.\n"
     ]
    },
    {
     "name": "stderr",
     "output_type": "stream",
     "text": [
      "Processing subjects:  87%|████████▋ | 375/432 [05:02<00:41,  1.37it/s]"
     ]
    },
    {
     "name": "stdout",
     "output_type": "stream",
     "text": [
      "⚠️ Warning: /home/santiago/Desktop/GrandMeanNorm/ROISignals/ROISignals_135_S_6687.mat contains NaN/Inf. Not modifying the file.\n"
     ]
    },
    {
     "name": "stderr",
     "output_type": "stream",
     "text": [
      "Processing subjects:  87%|████████▋ | 376/432 [05:03<00:40,  1.38it/s]"
     ]
    },
    {
     "name": "stdout",
     "output_type": "stream",
     "text": [
      "⚠️ Warning: /home/santiago/Desktop/GrandMeanNorm/ROISignals/ROISignals_135_S_6840.mat contains NaN/Inf. Not modifying the file.\n"
     ]
    },
    {
     "name": "stderr",
     "output_type": "stream",
     "text": [
      "Processing subjects:  87%|████████▋ | 377/432 [05:03<00:39,  1.39it/s]"
     ]
    },
    {
     "name": "stdout",
     "output_type": "stream",
     "text": [
      "⚠️ Warning: /home/santiago/Desktop/GrandMeanNorm/ROISignals/ROISignals_135_S_7003.mat contains NaN/Inf. Not modifying the file.\n"
     ]
    },
    {
     "name": "stderr",
     "output_type": "stream",
     "text": [
      "Processing subjects:  88%|████████▊ | 378/432 [05:04<00:38,  1.39it/s]"
     ]
    },
    {
     "name": "stdout",
     "output_type": "stream",
     "text": [
      "⚠️ Warning: /home/santiago/Desktop/GrandMeanNorm/ROISignals/ROISignals_136_S_4269.mat contains NaN/Inf. Not modifying the file.\n"
     ]
    },
    {
     "name": "stderr",
     "output_type": "stream",
     "text": [
      "Processing subjects:  88%|████████▊ | 379/432 [05:05<00:38,  1.39it/s]"
     ]
    },
    {
     "name": "stdout",
     "output_type": "stream",
     "text": [
      "⚠️ Warning: /home/santiago/Desktop/GrandMeanNorm/ROISignals/ROISignals_136_S_4408.mat contains NaN/Inf. Not modifying the file.\n"
     ]
    },
    {
     "name": "stderr",
     "output_type": "stream",
     "text": [
      "Processing subjects:  88%|████████▊ | 380/432 [05:06<00:37,  1.37it/s]"
     ]
    },
    {
     "name": "stdout",
     "output_type": "stream",
     "text": [
      "⚠️ Warning: /home/santiago/Desktop/GrandMeanNorm/ROISignals/ROISignals_136_S_4433.mat contains NaN/Inf. Not modifying the file.\n"
     ]
    },
    {
     "name": "stderr",
     "output_type": "stream",
     "text": [
      "Processing subjects:  88%|████████▊ | 381/432 [05:06<00:36,  1.39it/s]"
     ]
    },
    {
     "name": "stdout",
     "output_type": "stream",
     "text": [
      "⚠️ Warning: /home/santiago/Desktop/GrandMeanNorm/ROISignals/ROISignals_136_S_4517.mat contains NaN/Inf. Not modifying the file.\n"
     ]
    },
    {
     "name": "stderr",
     "output_type": "stream",
     "text": [
      "Processing subjects:  88%|████████▊ | 382/432 [05:07<00:35,  1.41it/s]"
     ]
    },
    {
     "name": "stdout",
     "output_type": "stream",
     "text": [
      "⚠️ Warning: /home/santiago/Desktop/GrandMeanNorm/ROISignals/ROISignals_136_S_4726.mat contains NaN/Inf. Not modifying the file.\n"
     ]
    },
    {
     "name": "stderr",
     "output_type": "stream",
     "text": [
      "Processing subjects:  89%|████████▊ | 383/432 [05:08<00:34,  1.41it/s]"
     ]
    },
    {
     "name": "stdout",
     "output_type": "stream",
     "text": [
      "⚠️ Warning: /home/santiago/Desktop/GrandMeanNorm/ROISignals/ROISignals_136_S_4727.mat contains NaN/Inf. Not modifying the file.\n"
     ]
    },
    {
     "name": "stderr",
     "output_type": "stream",
     "text": [
      "Processing subjects:  89%|████████▉ | 384/432 [05:08<00:33,  1.42it/s]"
     ]
    },
    {
     "name": "stdout",
     "output_type": "stream",
     "text": [
      "⚠️ Warning: /home/santiago/Desktop/GrandMeanNorm/ROISignals/ROISignals_136_S_4836.mat contains NaN/Inf. Not modifying the file.\n"
     ]
    },
    {
     "name": "stderr",
     "output_type": "stream",
     "text": [
      "Processing subjects:  89%|████████▉ | 385/432 [05:09<00:33,  1.41it/s]"
     ]
    },
    {
     "name": "stdout",
     "output_type": "stream",
     "text": [
      "⚠️ Warning: /home/santiago/Desktop/GrandMeanNorm/ROISignals/ROISignals_136_S_4848.mat contains NaN/Inf. Not modifying the file.\n"
     ]
    },
    {
     "name": "stderr",
     "output_type": "stream",
     "text": [
      "Processing subjects:  89%|████████▉ | 386/432 [05:10<00:32,  1.41it/s]"
     ]
    },
    {
     "name": "stdout",
     "output_type": "stream",
     "text": [
      "⚠️ Warning: /home/santiago/Desktop/GrandMeanNorm/ROISignals/ROISignals_136_S_4932.mat contains NaN/Inf. Not modifying the file.\n"
     ]
    },
    {
     "name": "stderr",
     "output_type": "stream",
     "text": [
      "Processing subjects:  90%|████████▉ | 387/432 [05:11<00:31,  1.41it/s]"
     ]
    },
    {
     "name": "stdout",
     "output_type": "stream",
     "text": [
      "⚠️ Warning: /home/santiago/Desktop/GrandMeanNorm/ROISignals/ROISignals_136_S_4956.mat contains NaN/Inf. Not modifying the file.\n"
     ]
    },
    {
     "name": "stderr",
     "output_type": "stream",
     "text": [
      "Processing subjects:  90%|████████▉ | 388/432 [05:11<00:30,  1.43it/s]"
     ]
    },
    {
     "name": "stdout",
     "output_type": "stream",
     "text": [
      "⚠️ Warning: /home/santiago/Desktop/GrandMeanNorm/ROISignals/ROISignals_136_S_4993.mat contains NaN/Inf. Not modifying the file.\n"
     ]
    },
    {
     "name": "stderr",
     "output_type": "stream",
     "text": [
      "Processing subjects:  90%|█████████ | 389/432 [05:12<00:30,  1.43it/s]"
     ]
    },
    {
     "name": "stdout",
     "output_type": "stream",
     "text": [
      "⚠️ Warning: /home/santiago/Desktop/GrandMeanNorm/ROISignals/ROISignals_141_S_2333.mat contains NaN/Inf. Not modifying the file.\n"
     ]
    },
    {
     "name": "stderr",
     "output_type": "stream",
     "text": [
      "Processing subjects:  90%|█████████ | 390/432 [05:13<00:29,  1.42it/s]"
     ]
    },
    {
     "name": "stdout",
     "output_type": "stream",
     "text": [
      "⚠️ Warning: /home/santiago/Desktop/GrandMeanNorm/ROISignals/ROISignals_141_S_4160.mat contains NaN/Inf. Not modifying the file.\n"
     ]
    },
    {
     "name": "stderr",
     "output_type": "stream",
     "text": [
      "Processing subjects:  91%|█████████ | 391/432 [05:14<00:31,  1.32it/s]"
     ]
    },
    {
     "name": "stdout",
     "output_type": "stream",
     "text": [
      "⚠️ Warning: /home/santiago/Desktop/GrandMeanNorm/ROISignals/ROISignals_168_S_6142.mat contains NaN/Inf. Not modifying the file.\n"
     ]
    },
    {
     "name": "stderr",
     "output_type": "stream",
     "text": [
      "Processing subjects:  91%|█████████ | 392/432 [05:14<00:31,  1.25it/s]"
     ]
    },
    {
     "name": "stdout",
     "output_type": "stream",
     "text": [
      "⚠️ Warning: /home/santiago/Desktop/GrandMeanNorm/ROISignals/ROISignals_168_S_6735.mat contains NaN/Inf. Not modifying the file.\n"
     ]
    },
    {
     "name": "stderr",
     "output_type": "stream",
     "text": [
      "Processing subjects:  91%|█████████ | 393/432 [05:15<00:32,  1.22it/s]"
     ]
    },
    {
     "name": "stdout",
     "output_type": "stream",
     "text": [
      "⚠️ Warning: /home/santiago/Desktop/GrandMeanNorm/ROISignals/ROISignals_168_S_6754.mat contains NaN/Inf. Not modifying the file.\n"
     ]
    },
    {
     "name": "stderr",
     "output_type": "stream",
     "text": [
      "Processing subjects:  91%|█████████ | 394/432 [05:16<00:31,  1.22it/s]"
     ]
    },
    {
     "name": "stdout",
     "output_type": "stream",
     "text": [
      "⚠️ Warning: /home/santiago/Desktop/GrandMeanNorm/ROISignals/ROISignals_168_S_6827.mat contains NaN/Inf. Not modifying the file.\n"
     ]
    },
    {
     "name": "stderr",
     "output_type": "stream",
     "text": [
      "Processing subjects:  91%|█████████▏| 395/432 [05:17<00:32,  1.14it/s]"
     ]
    },
    {
     "name": "stdout",
     "output_type": "stream",
     "text": [
      "⚠️ Warning: /home/santiago/Desktop/GrandMeanNorm/ROISignals/ROISignals_168_S_6828.mat contains NaN/Inf. Not modifying the file.\n"
     ]
    },
    {
     "name": "stderr",
     "output_type": "stream",
     "text": [
      "Processing subjects:  92%|█████████▏| 396/432 [05:18<00:34,  1.06it/s]"
     ]
    },
    {
     "name": "stdout",
     "output_type": "stream",
     "text": [
      "⚠️ Warning: /home/santiago/Desktop/GrandMeanNorm/ROISignals/ROISignals_168_S_6843.mat contains NaN/Inf. Not modifying the file.\n"
     ]
    },
    {
     "name": "stderr",
     "output_type": "stream",
     "text": [
      "Processing subjects:  92%|█████████▏| 397/432 [05:19<00:32,  1.07it/s]"
     ]
    },
    {
     "name": "stdout",
     "output_type": "stream",
     "text": [
      "⚠️ Warning: /home/santiago/Desktop/GrandMeanNorm/ROISignals/ROISignals_168_S_6921.mat contains NaN/Inf. Not modifying the file.\n"
     ]
    },
    {
     "name": "stderr",
     "output_type": "stream",
     "text": [
      "Processing subjects:  92%|█████████▏| 398/432 [05:20<00:30,  1.11it/s]"
     ]
    },
    {
     "name": "stdout",
     "output_type": "stream",
     "text": [
      "⚠️ Warning: /home/santiago/Desktop/GrandMeanNorm/ROISignals/ROISignals_168_S_6938.mat contains NaN/Inf. Not modifying the file.\n"
     ]
    },
    {
     "name": "stderr",
     "output_type": "stream",
     "text": [
      "Processing subjects:  92%|█████████▏| 399/432 [05:21<00:28,  1.18it/s]"
     ]
    },
    {
     "name": "stdout",
     "output_type": "stream",
     "text": [
      "⚠️ Warning: /home/santiago/Desktop/GrandMeanNorm/ROISignals/ROISignals_177_S_6328.mat contains NaN/Inf. Not modifying the file.\n"
     ]
    },
    {
     "name": "stderr",
     "output_type": "stream",
     "text": [
      "Processing subjects:  93%|█████████▎| 400/432 [05:21<00:25,  1.24it/s]"
     ]
    },
    {
     "name": "stdout",
     "output_type": "stream",
     "text": [
      "⚠️ Warning: /home/santiago/Desktop/GrandMeanNorm/ROISignals/ROISignals_177_S_6335.mat contains NaN/Inf. Not modifying the file.\n"
     ]
    },
    {
     "name": "stderr",
     "output_type": "stream",
     "text": [
      "Processing subjects:  93%|█████████▎| 401/432 [05:22<00:23,  1.30it/s]"
     ]
    },
    {
     "name": "stdout",
     "output_type": "stream",
     "text": [
      "⚠️ Warning: /home/santiago/Desktop/GrandMeanNorm/ROISignals/ROISignals_177_S_6408.mat contains NaN/Inf. Not modifying the file.\n"
     ]
    },
    {
     "name": "stderr",
     "output_type": "stream",
     "text": [
      "Processing subjects:  93%|█████████▎| 402/432 [05:23<00:22,  1.35it/s]"
     ]
    },
    {
     "name": "stdout",
     "output_type": "stream",
     "text": [
      "⚠️ Warning: /home/santiago/Desktop/GrandMeanNorm/ROISignals/ROISignals_177_S_6409.mat contains NaN/Inf. Not modifying the file.\n"
     ]
    },
    {
     "name": "stderr",
     "output_type": "stream",
     "text": [
      "Processing subjects:  93%|█████████▎| 403/432 [05:24<00:21,  1.34it/s]"
     ]
    },
    {
     "name": "stdout",
     "output_type": "stream",
     "text": [
      "⚠️ Warning: /home/santiago/Desktop/GrandMeanNorm/ROISignals/ROISignals_177_S_6420.mat contains NaN/Inf. Not modifying the file.\n"
     ]
    },
    {
     "name": "stderr",
     "output_type": "stream",
     "text": [
      "Processing subjects:  94%|█████████▎| 404/432 [05:24<00:20,  1.39it/s]"
     ]
    },
    {
     "name": "stdout",
     "output_type": "stream",
     "text": [
      "⚠️ Warning: /home/santiago/Desktop/GrandMeanNorm/ROISignals/ROISignals_177_S_6448.mat contains NaN/Inf. Not modifying the file.\n"
     ]
    },
    {
     "name": "stderr",
     "output_type": "stream",
     "text": [
      "Processing subjects:  94%|█████████▍| 405/432 [05:25<00:19,  1.41it/s]"
     ]
    },
    {
     "name": "stdout",
     "output_type": "stream",
     "text": [
      "⚠️ Warning: /home/santiago/Desktop/GrandMeanNorm/ROISignals/ROISignals_301_S_6056.mat contains NaN/Inf. Not modifying the file.\n"
     ]
    },
    {
     "name": "stderr",
     "output_type": "stream",
     "text": [
      "Processing subjects:  94%|█████████▍| 406/432 [05:26<00:18,  1.38it/s]"
     ]
    },
    {
     "name": "stdout",
     "output_type": "stream",
     "text": [
      "⚠️ Warning: /home/santiago/Desktop/GrandMeanNorm/ROISignals/ROISignals_301_S_6224.mat contains NaN/Inf. Not modifying the file.\n"
     ]
    },
    {
     "name": "stderr",
     "output_type": "stream",
     "text": [
      "Processing subjects:  94%|█████████▍| 407/432 [05:26<00:17,  1.40it/s]"
     ]
    },
    {
     "name": "stdout",
     "output_type": "stream",
     "text": [
      "⚠️ Warning: /home/santiago/Desktop/GrandMeanNorm/ROISignals/ROISignals_301_S_6297.mat contains NaN/Inf. Not modifying the file.\n"
     ]
    },
    {
     "name": "stderr",
     "output_type": "stream",
     "text": [
      "Processing subjects:  94%|█████████▍| 408/432 [05:27<00:17,  1.36it/s]"
     ]
    },
    {
     "name": "stdout",
     "output_type": "stream",
     "text": [
      "⚠️ Warning: /home/santiago/Desktop/GrandMeanNorm/ROISignals/ROISignals_301_S_6326.mat contains NaN/Inf. Not modifying the file.\n"
     ]
    },
    {
     "name": "stderr",
     "output_type": "stream",
     "text": [
      "Processing subjects:  95%|█████████▍| 409/432 [05:28<00:16,  1.35it/s]"
     ]
    },
    {
     "name": "stdout",
     "output_type": "stream",
     "text": [
      "⚠️ Warning: /home/santiago/Desktop/GrandMeanNorm/ROISignals/ROISignals_301_S_6501.mat contains NaN/Inf. Not modifying the file.\n"
     ]
    },
    {
     "name": "stderr",
     "output_type": "stream",
     "text": [
      "Processing subjects:  95%|█████████▍| 410/432 [05:29<00:16,  1.35it/s]"
     ]
    },
    {
     "name": "stdout",
     "output_type": "stream",
     "text": [
      "⚠️ Warning: /home/santiago/Desktop/GrandMeanNorm/ROISignals/ROISignals_301_S_6508.mat contains NaN/Inf. Not modifying the file.\n"
     ]
    },
    {
     "name": "stderr",
     "output_type": "stream",
     "text": [
      "Processing subjects:  95%|█████████▌| 411/432 [05:29<00:15,  1.35it/s]"
     ]
    },
    {
     "name": "stdout",
     "output_type": "stream",
     "text": [
      "⚠️ Warning: /home/santiago/Desktop/GrandMeanNorm/ROISignals/ROISignals_301_S_6592.mat contains NaN/Inf. Not modifying the file.\n"
     ]
    },
    {
     "name": "stderr",
     "output_type": "stream",
     "text": [
      "Processing subjects:  95%|█████████▌| 412/432 [05:30<00:15,  1.31it/s]"
     ]
    },
    {
     "name": "stdout",
     "output_type": "stream",
     "text": [
      "⚠️ Warning: /home/santiago/Desktop/GrandMeanNorm/ROISignals/ROISignals_301_S_6615.mat contains NaN/Inf. Not modifying the file.\n"
     ]
    },
    {
     "name": "stderr",
     "output_type": "stream",
     "text": [
      "Processing subjects:  96%|█████████▌| 413/432 [05:31<00:14,  1.30it/s]"
     ]
    },
    {
     "name": "stdout",
     "output_type": "stream",
     "text": [
      "⚠️ Warning: /home/santiago/Desktop/GrandMeanNorm/ROISignals/ROISignals_301_S_6698.mat contains NaN/Inf. Not modifying the file.\n"
     ]
    },
    {
     "name": "stderr",
     "output_type": "stream",
     "text": [
      "Processing subjects:  96%|█████████▌| 414/432 [05:32<00:13,  1.30it/s]"
     ]
    },
    {
     "name": "stdout",
     "output_type": "stream",
     "text": [
      "⚠️ Warning: /home/santiago/Desktop/GrandMeanNorm/ROISignals/ROISignals_301_S_6777.mat contains NaN/Inf. Not modifying the file.\n"
     ]
    },
    {
     "name": "stderr",
     "output_type": "stream",
     "text": [
      "Processing subjects:  96%|█████████▌| 415/432 [05:32<00:12,  1.31it/s]"
     ]
    },
    {
     "name": "stdout",
     "output_type": "stream",
     "text": [
      "⚠️ Warning: /home/santiago/Desktop/GrandMeanNorm/ROISignals/ROISignals_301_S_6811.mat contains NaN/Inf. Not modifying the file.\n"
     ]
    },
    {
     "name": "stderr",
     "output_type": "stream",
     "text": [
      "Processing subjects:  96%|█████████▋| 416/432 [05:33<00:12,  1.32it/s]"
     ]
    },
    {
     "name": "stdout",
     "output_type": "stream",
     "text": [
      "⚠️ Warning: /home/santiago/Desktop/GrandMeanNorm/ROISignals/ROISignals_305_S_6157.mat contains NaN/Inf. Not modifying the file.\n"
     ]
    },
    {
     "name": "stderr",
     "output_type": "stream",
     "text": [
      "Processing subjects:  97%|█████████▋| 417/432 [05:34<00:11,  1.34it/s]"
     ]
    },
    {
     "name": "stdout",
     "output_type": "stream",
     "text": [
      "⚠️ Warning: /home/santiago/Desktop/GrandMeanNorm/ROISignals/ROISignals_305_S_6188.mat contains NaN/Inf. Not modifying the file.\n"
     ]
    },
    {
     "name": "stderr",
     "output_type": "stream",
     "text": [
      "Processing subjects:  97%|█████████▋| 418/432 [05:35<00:10,  1.36it/s]"
     ]
    },
    {
     "name": "stdout",
     "output_type": "stream",
     "text": [
      "⚠️ Warning: /home/santiago/Desktop/GrandMeanNorm/ROISignals/ROISignals_305_S_6313.mat contains NaN/Inf. Not modifying the file.\n"
     ]
    },
    {
     "name": "stderr",
     "output_type": "stream",
     "text": [
      "Processing subjects:  97%|█████████▋| 419/432 [05:35<00:09,  1.35it/s]"
     ]
    },
    {
     "name": "stdout",
     "output_type": "stream",
     "text": [
      "⚠️ Warning: /home/santiago/Desktop/GrandMeanNorm/ROISignals/ROISignals_305_S_6438.mat contains NaN/Inf. Not modifying the file.\n"
     ]
    },
    {
     "name": "stderr",
     "output_type": "stream",
     "text": [
      "Processing subjects:  97%|█████████▋| 420/432 [05:36<00:08,  1.36it/s]"
     ]
    },
    {
     "name": "stdout",
     "output_type": "stream",
     "text": [
      "⚠️ Warning: /home/santiago/Desktop/GrandMeanNorm/ROISignals/ROISignals_305_S_6498.mat contains NaN/Inf. Not modifying the file.\n"
     ]
    },
    {
     "name": "stderr",
     "output_type": "stream",
     "text": [
      "Processing subjects:  97%|█████████▋| 421/432 [05:37<00:08,  1.36it/s]"
     ]
    },
    {
     "name": "stdout",
     "output_type": "stream",
     "text": [
      "⚠️ Warning: /home/santiago/Desktop/GrandMeanNorm/ROISignals/ROISignals_305_S_6742.mat contains NaN/Inf. Not modifying the file.\n"
     ]
    },
    {
     "name": "stderr",
     "output_type": "stream",
     "text": [
      "Processing subjects:  98%|█████████▊| 422/432 [05:38<00:08,  1.25it/s]"
     ]
    },
    {
     "name": "stdout",
     "output_type": "stream",
     "text": [
      "⚠️ Warning: /home/santiago/Desktop/GrandMeanNorm/ROISignals/ROISignals_305_S_6744.mat contains NaN/Inf. Not modifying the file.\n"
     ]
    },
    {
     "name": "stderr",
     "output_type": "stream",
     "text": [
      "Processing subjects:  98%|█████████▊| 423/432 [05:39<00:07,  1.13it/s]"
     ]
    },
    {
     "name": "stdout",
     "output_type": "stream",
     "text": [
      "⚠️ Warning: /home/santiago/Desktop/GrandMeanNorm/ROISignals/ROISignals_305_S_6810.mat contains NaN/Inf. Not modifying the file.\n"
     ]
    },
    {
     "name": "stderr",
     "output_type": "stream",
     "text": [
      "Processing subjects:  98%|█████████▊| 424/432 [05:40<00:06,  1.18it/s]"
     ]
    },
    {
     "name": "stdout",
     "output_type": "stream",
     "text": [
      "⚠️ Warning: /home/santiago/Desktop/GrandMeanNorm/ROISignals/ROISignals_305_S_6845.mat contains NaN/Inf. Not modifying the file.\n"
     ]
    },
    {
     "name": "stderr",
     "output_type": "stream",
     "text": [
      "Processing subjects:  98%|█████████▊| 425/432 [05:40<00:05,  1.22it/s]"
     ]
    },
    {
     "name": "stdout",
     "output_type": "stream",
     "text": [
      "⚠️ Warning: /home/santiago/Desktop/GrandMeanNorm/ROISignals/ROISignals_305_S_6850.mat contains NaN/Inf. Not modifying the file.\n"
     ]
    },
    {
     "name": "stderr",
     "output_type": "stream",
     "text": [
      "Processing subjects:  99%|█████████▊| 426/432 [05:41<00:04,  1.27it/s]"
     ]
    },
    {
     "name": "stdout",
     "output_type": "stream",
     "text": [
      "⚠️ Warning: /home/santiago/Desktop/GrandMeanNorm/ROISignals/ROISignals_305_S_6871.mat contains NaN/Inf. Not modifying the file.\n"
     ]
    },
    {
     "name": "stderr",
     "output_type": "stream",
     "text": [
      "Processing subjects:  99%|█████████▉| 427/432 [05:42<00:03,  1.29it/s]"
     ]
    },
    {
     "name": "stdout",
     "output_type": "stream",
     "text": [
      "⚠️ Warning: /home/santiago/Desktop/GrandMeanNorm/ROISignals/ROISignals_305_S_6877.mat contains NaN/Inf. Not modifying the file.\n"
     ]
    },
    {
     "name": "stderr",
     "output_type": "stream",
     "text": [
      "Processing subjects:  99%|█████████▉| 428/432 [05:43<00:03,  1.29it/s]"
     ]
    },
    {
     "name": "stdout",
     "output_type": "stream",
     "text": [
      "⚠️ Warning: /home/santiago/Desktop/GrandMeanNorm/ROISignals/ROISignals_305_S_6881.mat contains NaN/Inf. Not modifying the file.\n"
     ]
    },
    {
     "name": "stderr",
     "output_type": "stream",
     "text": [
      "Processing subjects:  99%|█████████▉| 429/432 [05:43<00:02,  1.25it/s]"
     ]
    },
    {
     "name": "stdout",
     "output_type": "stream",
     "text": [
      "⚠️ Warning: /home/santiago/Desktop/GrandMeanNorm/ROISignals/ROISignals_305_S_6899.mat contains NaN/Inf. Not modifying the file.\n"
     ]
    },
    {
     "name": "stderr",
     "output_type": "stream",
     "text": [
      "Processing subjects: 100%|█████████▉| 430/432 [05:44<00:01,  1.24it/s]"
     ]
    },
    {
     "name": "stdout",
     "output_type": "stream",
     "text": [
      "⚠️ Warning: /home/santiago/Desktop/GrandMeanNorm/ROISignals/ROISignals_941_S_4036.mat contains NaN/Inf. Not modifying the file.\n"
     ]
    },
    {
     "name": "stderr",
     "output_type": "stream",
     "text": [
      "Processing subjects: 100%|█████████▉| 431/432 [05:45<00:00,  1.23it/s]"
     ]
    },
    {
     "name": "stdout",
     "output_type": "stream",
     "text": [
      "⚠️ Warning: /home/santiago/Desktop/GrandMeanNorm/ROISignals/ROISignals_941_S_4187.mat contains NaN/Inf. Not modifying the file.\n"
     ]
    },
    {
     "name": "stderr",
     "output_type": "stream",
     "text": [
      "Processing subjects: 100%|██████████| 432/432 [05:46<00:00,  1.25it/s]\n"
     ]
    },
    {
     "name": "stdout",
     "output_type": "stream",
     "text": [
      "\n",
      "✅ Summary statistics saved to: /home/santiago/Desktop/GrandMeanNorm/QualityChecks/summary_statistics.csv\n",
      "✅ Timepoints histogram saved to: /home/santiago/Desktop/GrandMeanNorm/QualityChecks/histogram_timepoints.png\n",
      "✅ Scatterplot saved to: /home/santiago/Desktop/GrandMeanNorm/QualityChecks/scatter_timepoints_vs_zeros.png\n"
     ]
    }
   ],
   "source": [
    "import os\n",
    "import logging\n",
    "import numpy as np\n",
    "import pandas as pd\n",
    "import torch\n",
    "import scipy.io as sio\n",
    "import matplotlib.pyplot as plt\n",
    "import seaborn as sns\n",
    "\n",
    "from tqdm import tqdm\n",
    "from scipy.stats import zscore\n",
    "\n",
    "# -------------------------------------------------------------------\n",
    "# 1) PATHS AND CSV LOADING\n",
    "# -------------------------------------------------------------------\n",
    "base_dir = \"/home/santiago/Desktop/GrandMeanNorm/\"\n",
    "csv_path = os.path.join(base_dir, \"SubjectsDataAndTests.csv\")\n",
    "roi_dir = os.path.join(base_dir, \"ROISignals\")\n",
    "qc_dir = os.path.join(base_dir, \"QualityChecks\")\n",
    "os.makedirs(qc_dir, exist_ok=True)\n",
    "\n",
    "summary_path = os.path.join(qc_dir, \"summary_statistics.csv\")\n",
    "\n",
    "# Load metadata\n",
    "subjects_df = pd.read_csv(csv_path)\n",
    "subject_ids = subjects_df[\"SubjectID\"].astype(str).tolist()\n",
    "\n",
    "print(f\"Total subjects to process: {len(subject_ids)}\\n\")\n",
    "\n",
    "# -------------------------------------------------------------------\n",
    "# 2) LOGGING CONFIG\n",
    "# -------------------------------------------------------------------\n",
    "logging.basicConfig(filename='qc_processing.log', level=logging.ERROR)\n",
    "\n",
    "# -------------------------------------------------------------------\n",
    "# 3) FUNCTIONS\n",
    "# -------------------------------------------------------------------\n",
    "\n",
    "def check_and_visualize_signals(signals, subject_id, save_dir):\n",
    "    \"\"\"Generates and saves quality control plots for a subject.\"\"\"\n",
    "    num_timepoints, num_rois = signals.shape\n",
    "\n",
    "    fig, axs = plt.subplots(2, 2, figsize=(14, 10))\n",
    "\n",
    "    # Heatmap\n",
    "    sns.heatmap(signals.T, cmap=\"viridis\", ax=axs[0, 0], cbar_kws={\"label\": \"Amplitude\"})\n",
    "    axs[0, 0].set_title(f\"Subject {subject_id} - Signal Heatmap\")\n",
    "    axs[0, 0].set_ylabel(\"ROI\")\n",
    "    axs[0, 0].set_xlabel(\"Time points\")\n",
    "\n",
    "    # Amplitude Histogram\n",
    "    axs[0, 1].hist(signals.flatten(), bins=50, color=\"royalblue\", edgecolor=\"black\")\n",
    "    axs[0, 1].set_title(\"Amplitude Distribution\")\n",
    "    axs[0, 1].set_xlabel(\"Amplitude\")\n",
    "    axs[0, 1].set_ylabel(\"Frequency\")\n",
    "\n",
    "    # Mean signal\n",
    "    mean_signal = np.mean(signals, axis=1)\n",
    "    axs[1, 0].plot(mean_signal, color=\"darkorange\")\n",
    "    axs[1, 0].set_title(\"Mean Signal Across ROIs\")\n",
    "    axs[1, 0].set_xlabel(\"Time points\")\n",
    "    axs[1, 0].set_ylabel(\"Mean amplitude\")\n",
    "\n",
    "    # Std signal\n",
    "    std_signal = np.std(signals, axis=1)\n",
    "    axs[1, 1].plot(std_signal, color=\"seagreen\")\n",
    "    axs[1, 1].set_title(\"Standard Deviation Across ROIs\")\n",
    "    axs[1, 1].set_xlabel(\"Time points\")\n",
    "    axs[1, 1].set_ylabel(\"Std amplitude\")\n",
    "\n",
    "    plt.tight_layout()\n",
    "\n",
    "    save_path = os.path.join(save_dir, f\"subject_{subject_id}_qc.png\")\n",
    "    plt.savefig(save_path)\n",
    "    plt.close()\n",
    "\n",
    "# -------------------------------------------------------------------\n",
    "# 4) MAIN PROCESSING LOOP\n",
    "# -------------------------------------------------------------------\n",
    "summary_records = []\n",
    "\n",
    "with tqdm(total=len(subject_ids), desc=\"Processing subjects\") as pbar:\n",
    "    for subject_id in subject_ids:\n",
    "        mat_filename = f\"ROISignals_{subject_id}.mat\"\n",
    "        mat_filepath = os.path.join(roi_dir, mat_filename)\n",
    "\n",
    "        if not os.path.exists(mat_filepath):\n",
    "            print(f\"File not found: {mat_filepath}\")\n",
    "            pbar.update(1)\n",
    "            continue\n",
    "\n",
    "        try:\n",
    "            data = sio.loadmat(mat_filepath)\n",
    "        except Exception as e:\n",
    "            logging.error(f\"Error loading {mat_filepath}: {e}\")\n",
    "            pbar.update(1)\n",
    "            continue\n",
    "\n",
    "        if \"ROISignals\" in data:\n",
    "            signals = data[\"ROISignals\"]\n",
    "        elif \"signals\" in data:\n",
    "            signals = data[\"signals\"]\n",
    "        else:\n",
    "            print(f\"Skipping {mat_filepath}: no 'ROISignals' or 'signals' key.\")\n",
    "            pbar.update(1)\n",
    "            continue\n",
    "\n",
    "        # Detectar ROIs con NaNs\n",
    "        nan_per_roi = np.isnan(signals).sum(axis=0)  # cantidad de NaNs por ROI\n",
    "        inf_per_roi = np.isinf(signals).sum(axis=0)  # cantidad de infinitos por ROI\n",
    "\n",
    "        # Mostrar las ROIs que tienen NaNs o Infs\n",
    "        problematic_rois = np.where((nan_per_roi > 0) | (inf_per_roi > 0))[0]\n",
    "\n",
    "        if len(problematic_rois) > 0:\n",
    "            print(f\"⚠️ Subject {subject_id} — ROIs with NaNs or Infs: {problematic_rois.tolist()}\")\n",
    "\n",
    "\n",
    "        has_nan_inf = np.isnan(signals).any() or np.isinf(signals).any()\n",
    "        if has_nan_inf:\n",
    "            print(f\"⚠️ Warning: {mat_filepath} contains NaN/Inf. Not modifying the file.\")\n",
    "\n",
    "\n",
    "        # Basic stats\n",
    "        num_timepoints, num_rois = signals.shape\n",
    "        mean_val = np.mean(signals)\n",
    "        std_val = np.std(signals)\n",
    "        min_val = np.min(signals)\n",
    "        max_val = np.max(signals)\n",
    "\n",
    "        # Additional QC metrics\n",
    "        zero_counts = np.sum(signals == 0, axis=0)  # zeros per ROI\n",
    "        coef_var = np.std(signals, axis=0) / (np.mean(signals, axis=0) + 1e-8)  # coef var per ROI\n",
    "\n",
    "        # Visual QC\n",
    "        check_and_visualize_signals(signals, subject_id, qc_dir)\n",
    "\n",
    "        # Record summary\n",
    "        summary_records.append({\n",
    "            \"SubjectID\": subject_id,\n",
    "            \"NumTimepoints\": num_timepoints,\n",
    "            \"MeanAmplitude\": mean_val,\n",
    "            \"StdAmplitude\": std_val,\n",
    "            \"MinAmplitude\": min_val,\n",
    "            \"MaxAmplitude\": max_val,\n",
    "            \"ZeroPercROIs\": np.mean(zero_counts / num_timepoints),\n",
    "            \"MeanCoefVarROIs\": np.mean(coef_var),\n",
    "            \"HasNaN_Inf\": int(has_nan_inf)  # 0 = no tiene, 1 = tiene NaN/Inf\n",
    "        })\n",
    "\n",
    "        pbar.update(1)\n",
    "\n",
    "# -------------------------------------------------------------------\n",
    "# 5) SAVE SUMMARY CSV\n",
    "# -------------------------------------------------------------------\n",
    "summary_df = pd.DataFrame(summary_records)\n",
    "summary_df.to_csv(summary_path, index=False)\n",
    "print(f\"\\n✅ Summary statistics saved to: {summary_path}\")\n",
    "\n",
    "# -------------------------------------------------------------------\n",
    "# 6) HISTOGRAM OF TIMEPOINTS\n",
    "# -------------------------------------------------------------------\n",
    "plt.figure(figsize=(8, 6))\n",
    "plt.hist(summary_df[\"NumTimepoints\"], bins=20, color=\"slateblue\", edgecolor=\"black\")\n",
    "plt.title(\"Histogram of Timepoints Across Subjects\")\n",
    "plt.xlabel(\"Number of Timepoints\")\n",
    "plt.ylabel(\"Number of Subjects\")\n",
    "plt.grid(True)\n",
    "plt.tight_layout()\n",
    "\n",
    "hist_path = os.path.join(qc_dir, \"histogram_timepoints.png\")\n",
    "plt.savefig(hist_path)\n",
    "plt.close()\n",
    "\n",
    "print(f\"✅ Timepoints histogram saved to: {hist_path}\")\n",
    "\n",
    "\n",
    "# -------------------------------------------------------------------\n",
    "# 7) SCATTERPLOT: Number of Timepoints vs. Percentage of Zero ROIs\n",
    "# -------------------------------------------------------------------\n",
    "plt.figure(figsize=(8, 6))\n",
    "sns.scatterplot(\n",
    "    data=summary_df,\n",
    "    x=\"NumTimepoints\",\n",
    "    y=\"ZeroPercROIs\",\n",
    "    s=60,  # Tamaño de los puntos\n",
    "    color=\"crimson\",\n",
    "    edgecolor=\"black\"\n",
    ")\n",
    "plt.title(\"Timepoints vs. Percentage of Zero ROIs\")\n",
    "plt.xlabel(\"Number of Timepoints\")\n",
    "plt.ylabel(\"Percentage of Zero ROIs\")\n",
    "plt.grid(True)\n",
    "plt.tight_layout()\n",
    "\n",
    "scatter_path = os.path.join(qc_dir, \"scatter_timepoints_vs_zeros.png\")\n",
    "plt.savefig(scatter_path)\n",
    "plt.close()\n",
    "\n",
    "print(f\"✅ Scatterplot saved to: {scatter_path}\")\n",
    "\n"
   ]
  }
 ],
 "metadata": {
  "kernelspec": {
   "display_name": "Python 3",
   "language": "python",
   "name": "python3"
  },
  "language_info": {
   "codemirror_mode": {
    "name": "ipython",
    "version": 3
   },
   "file_extension": ".py",
   "mimetype": "text/x-python",
   "name": "python",
   "nbconvert_exporter": "python",
   "pygments_lexer": "ipython3",
   "version": "3.8.10"
  }
 },
 "nbformat": 4,
 "nbformat_minor": 2
}
